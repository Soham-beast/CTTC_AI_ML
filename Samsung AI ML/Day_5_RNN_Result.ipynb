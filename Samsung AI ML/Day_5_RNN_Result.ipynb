{
  "nbformat": 4,
  "nbformat_minor": 0,
  "metadata": {
    "colab": {
      "provenance": []
    },
    "kernelspec": {
      "name": "python3",
      "display_name": "Python 3"
    },
    "language_info": {
      "name": "python"
    }
  },
  "cells": [
    {
      "cell_type": "code",
      "execution_count": null,
      "metadata": {
        "id": "L6LC8igqn7B4"
      },
      "outputs": [],
      "source": [
        "#importing the packages\n",
        "\n",
        "import numpy as np\n",
        "from tensorflow.keras.datasets import imdb\n",
        "from tensorflow.keras.preprocessing.sequence import pad_sequences\n",
        "from tensorflow.keras.models import load_model"
      ]
    },
    {
      "cell_type": "code",
      "source": [
        "# Set the maximum number of words to use in the vocabulary\n",
        "max_features = 10000\n",
        "# Load the IMDb dataset\n",
        "(x_train, y_train), (x_test, y_test) = imdb.load_data(num_words=max_features)"
      ],
      "metadata": {
        "colab": {
          "base_uri": "https://localhost:8080/"
        },
        "id": "6kUItgq_oBk7",
        "outputId": "39abb6a1-0c5a-4f34-f209-60c9ad20d6fc"
      },
      "execution_count": null,
      "outputs": [
        {
          "output_type": "stream",
          "name": "stdout",
          "text": [
            "Downloading data from https://storage.googleapis.com/tensorflow/tf-keras-datasets/imdb.npz\n",
            "17464789/17464789 [==============================] - 0s 0us/step\n"
          ]
        }
      ]
    },
    {
      "cell_type": "code",
      "source": [
        "# Reverse word index to map indices back to words\n",
        "word_index = imdb.get_word_index()\n",
        "reverse_word_index = dict([(value, key) for (key, value) in word_index.items()])"
      ],
      "metadata": {
        "colab": {
          "base_uri": "https://localhost:8080/"
        },
        "id": "_j6ZeXAkqZcO",
        "outputId": "a9c97938-cf70-4ff2-cfdd-85a0a3f3cfd6"
      },
      "execution_count": null,
      "outputs": [
        {
          "output_type": "stream",
          "name": "stdout",
          "text": [
            "Downloading data from https://storage.googleapis.com/tensorflow/tf-keras-datasets/imdb_word_index.json\n",
            "1641221/1641221 [==============================] - 0s 0us/step\n"
          ]
        }
      ]
    },
    {
      "cell_type": "code",
      "source": [
        "# Sample IMDb review to predict\n",
        "review = \"This movie was great! I really enjoyed the plot and the acting was superb\"\n",
        "\n",
        "# Convert review to a sequence of word indices\n",
        "review_seq = [word_index.get(word, 0) for word in review.lower().split()]\n",
        "#take 'review' sequence, split them and store them along with their indices in 'review_seq'\n",
        "\n",
        "# Pad the sequence to have a fixed length of 100\n",
        "review_seq = pad_sequences([review_seq], maxlen=100)\n"
      ],
      "metadata": {
        "id": "Z08cbiJcqhq2"
      },
      "execution_count": null,
      "outputs": []
    },
    {
      "cell_type": "code",
      "source": [
        "# Load the trained RNN model\n",
        "model = load_model('/content/rnn1.h5')\n"
      ],
      "metadata": {
        "id": "VBflNMUkqmAa"
      },
      "execution_count": null,
      "outputs": []
    },
    {
      "cell_type": "code",
      "source": [
        "# Make a prediction on the review\n",
        "y_pred = model.predict(review_seq)[0][0]\n",
        "#stores the first values of x and y as predicted value\n",
        "\n",
        "print(y_pred)\n",
        "\n",
        "#'y_pred'-> +ve reviews should converge to one value either 0 or 1, and -ve reviews should converge in opposite ways"
      ],
      "metadata": {
        "colab": {
          "base_uri": "https://localhost:8080/"
        },
        "id": "d1LsQTNeq1Ha",
        "outputId": "08bf971a-c345-4c31-ea44-e139537a50d3"
      },
      "execution_count": null,
      "outputs": [
        {
          "output_type": "stream",
          "name": "stdout",
          "text": [
            "1/1 [==============================] - 0s 21ms/step\n",
            "0.006500253\n"
          ]
        }
      ]
    },
    {
      "cell_type": "code",
      "source": [
        "# Print the prediction-> self-made\n",
        "if y_pred > 0.5:\n",
        " print('Positive review with {:.2f}% confidence'.format(y_pred * 100))\n",
        "else:\n",
        " print('Negative review with {:.2f}% confidence'.format((1 - y_pred) * 100))\n",
        "\n",
        " #'.format'-> convert the calcalation to percentage"
      ],
      "metadata": {
        "colab": {
          "base_uri": "https://localhost:8080/"
        },
        "id": "U2PeB2etq--8",
        "outputId": "130342de-a07d-43a2-f663-8ac7d0c52cb2"
      },
      "execution_count": null,
      "outputs": [
        {
          "output_type": "stream",
          "name": "stdout",
          "text": [
            "Negative review with 99.35% confidence\n"
          ]
        }
      ]
    },
    {
      "cell_type": "code",
      "source": [],
      "metadata": {
        "id": "a5Rqlo38rIn0"
      },
      "execution_count": null,
      "outputs": []
    }
  ]
}