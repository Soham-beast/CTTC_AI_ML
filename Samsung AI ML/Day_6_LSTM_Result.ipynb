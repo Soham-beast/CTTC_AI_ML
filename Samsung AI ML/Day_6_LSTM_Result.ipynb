{
  "nbformat": 4,
  "nbformat_minor": 0,
  "metadata": {
    "colab": {
      "provenance": []
    },
    "kernelspec": {
      "name": "python3",
      "display_name": "Python 3"
    },
    "language_info": {
      "name": "python"
    }
  },
  "cells": [
    {
      "cell_type": "code",
      "execution_count": 1,
      "metadata": {
        "id": "g9Cb1ukelRlo"
      },
      "outputs": [],
      "source": [
        "#importing the packages and the imdb dataset\n",
        "\n",
        "import numpy as np\n",
        "from tensorflow.keras.datasets import imdb\n",
        "from tensorflow.keras.preprocessing.sequence import pad_sequences\n",
        "from tensorflow.keras.models import load_model"
      ]
    },
    {
      "cell_type": "code",
      "source": [
        "# Set the maximum number of words to use in the vocabulary\n",
        "max_features = 10000\n",
        "# Load the IMDb dataset\n",
        "(x_train, y_train), (x_test, y_test) = imdb.load_data(num_words=max_features)"
      ],
      "metadata": {
        "colab": {
          "base_uri": "https://localhost:8080/"
        },
        "id": "k_PElvnHxgHh",
        "outputId": "36e05e8a-18c2-42f3-92db-70ddcd94e527"
      },
      "execution_count": 2,
      "outputs": [
        {
          "output_type": "stream",
          "name": "stdout",
          "text": [
            "Downloading data from https://storage.googleapis.com/tensorflow/tf-keras-datasets/imdb.npz\n",
            "17464789/17464789 [==============================] - 0s 0us/step\n"
          ]
        }
      ]
    },
    {
      "cell_type": "code",
      "source": [
        "# Reverse word index to map indices back to words\n",
        "word_index = imdb.get_word_index()\n",
        "reverse_word_index = dict([(value, key) for (key, value) in word_index.items()])"
      ],
      "metadata": {
        "colab": {
          "base_uri": "https://localhost:8080/"
        },
        "id": "4yebRRT7xkGk",
        "outputId": "4e1fc0ec-30d0-490d-96c6-c03e75845467"
      },
      "execution_count": 3,
      "outputs": [
        {
          "output_type": "stream",
          "name": "stdout",
          "text": [
            "Downloading data from https://storage.googleapis.com/tensorflow/tf-keras-datasets/imdb_word_index.json\n",
            "1641221/1641221 [==============================] - 0s 0us/step\n"
          ]
        }
      ]
    },
    {
      "cell_type": "code",
      "source": [
        "# Sample IMDb review to predict\n",
        "review = \"This movie was great! I really enjoyed the plot and the acting was superb\"\n",
        "\n",
        "# Convert review to a sequence of word indices\n",
        "review_seq = [word_index.get(word, 0) for word in review.lower().split()]\n",
        "#take 'review' sequence, split them and store them along with their indices in 'review_seq'\n",
        "\n",
        "# Pad the sequence to have a fixed length of 100\n",
        "review_seq = pad_sequences([review_seq], maxlen=100)\n"
      ],
      "metadata": {
        "id": "dGhiVw-YxnAW"
      },
      "execution_count": 4,
      "outputs": []
    },
    {
      "cell_type": "code",
      "source": [
        "# Load the trained LSTM model\n",
        "model = load_model('/content/lstm1.h5')\n"
      ],
      "metadata": {
        "id": "9hkL818ixsX9"
      },
      "execution_count": 5,
      "outputs": []
    },
    {
      "cell_type": "code",
      "source": [
        "# Make a prediction on the review\n",
        "y_pred = model.predict(review_seq)[0][0]\n",
        "#stores the first values of x and y as predicted value\n",
        "\n",
        "print(y_pred)\n",
        "\n",
        "#'y_pred'-> +ve reviews should converge to one value either 0 or 1, and -ve reviews should converge in opposite ways"
      ],
      "metadata": {
        "colab": {
          "base_uri": "https://localhost:8080/"
        },
        "id": "puBiKvXnxu5l",
        "outputId": "7f53a014-e0e4-46ec-808a-09f5007cddae"
      },
      "execution_count": 6,
      "outputs": [
        {
          "output_type": "stream",
          "name": "stdout",
          "text": [
            "1/1 [==============================] - 0s 362ms/step\n",
            "0.0036854132\n"
          ]
        }
      ]
    },
    {
      "cell_type": "code",
      "source": [
        "# Print the prediction-> self-made\n",
        "if y_pred > 0.5:\n",
        " print('Positive review with {:.2f}% confidence'.format(y_pred * 100))\n",
        "else:\n",
        " print('Negative review with {:.2f}% confidence'.format((1 - y_pred) * 100))\n",
        "\n",
        " #'.format'-> convert the calcalation to percentage"
      ],
      "metadata": {
        "colab": {
          "base_uri": "https://localhost:8080/"
        },
        "id": "VVE37CSkxywn",
        "outputId": "31eb9a00-a07d-40d2-eb92-9b0026cb7e9a"
      },
      "execution_count": 7,
      "outputs": [
        {
          "output_type": "stream",
          "name": "stdout",
          "text": [
            "Negative review with 99.63% confidence\n"
          ]
        }
      ]
    },
    {
      "cell_type": "code",
      "source": [],
      "metadata": {
        "id": "99ahHvZY63Xl"
      },
      "execution_count": null,
      "outputs": []
    }
  ]
}