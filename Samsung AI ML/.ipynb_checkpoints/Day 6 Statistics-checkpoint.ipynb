{
 "cells": [
  {
   "cell_type": "code",
   "execution_count": 1,
   "id": "f5777719",
   "metadata": {},
   "outputs": [],
   "source": [
    "#Statistics-> Descriptive(description using numbers and graphs) and Inferential(randomly samples picked and getting average, which the sample space is infinite)\n",
    "#Inferential Statistics is more pratical and in general use, as it can solve infinite sample space values also\n",
    "#for infinite sample, we need to take a certain range and declare our confidence interval for that range\n",
    "\n",
    "#Descriptive Statistics-> \n",
    "#Measure of Central Tendency(values concentrated near the centre, similar data), \n",
    "#Measure of Variation(values away from the central value, varying data), \n",
    "#Measure of Skewness(deviation from symmetrical one, central value deviating from the central value) and \n",
    "#Measure of Kurtosis(deviation from peaks from normal curve)\n",
    "#platykurtic-> lower peak, mesolkurtic> normal peak, leptokurtic-> higher peak\n",
    "#Quartile deviation-> deviation of one quater from the other gives the variation in the data between various quaters\n",
    "\n",
    "#Inferential Statistics->\n",
    "#Theory of estimation->\n",
    "#Theory of testing of Hypothesis-> 2 possibilities: rejecting Null hypothesis, accepting Null hypothesis\n",
    "#Right-tail test, Left-tail test and Two-tail test"
   ]
  },
  {
   "cell_type": "markdown",
   "id": "e70a526a",
   "metadata": {},
   "source": [
    "### Descriptive Statistics "
   ]
  },
  {
   "cell_type": "code",
   "execution_count": 1,
   "id": "80f12786",
   "metadata": {},
   "outputs": [],
   "source": [
    "#mean, median, mode, standard devaition, variance and others"
   ]
  },
  {
   "cell_type": "markdown",
   "id": "2d150ec3",
   "metadata": {},
   "source": [
    "### Inferential Statistics"
   ]
  },
  {
   "cell_type": "code",
   "execution_count": null,
   "id": "605b7532",
   "metadata": {},
   "outputs": [],
   "source": [
    "#Null Hypothesis-> Currently accepted value/Assumption/Claimed/Default value\n",
    "#Alternative Hypothesis-> Value got after testing, involves claim to be tested\n",
    "\n",
    "#Level of confidence(c)-> Condifence value in a given range, how much decision is correct\n",
    "#'Region of acceptane'-> inside confidence interval; 'Rejection Region'-> region out c\n",
    "#Level of significance(ɑ)-> (1-c) -> defines whether the null hypothesis is assumed to be accepted or rejected. \n",
    "#It is expected to identify if the result is statistically significant for the null hypothesis to be false or rejected.\n",
    "\n",
    "#there are two types of errors: Type I and type II"
   ]
  }
 ],
 "metadata": {
  "kernelspec": {
   "display_name": "Python 3 (ipykernel)",
   "language": "python",
   "name": "python3"
  },
  "language_info": {
   "codemirror_mode": {
    "name": "ipython",
    "version": 3
   },
   "file_extension": ".py",
   "mimetype": "text/x-python",
   "name": "python",
   "nbconvert_exporter": "python",
   "pygments_lexer": "ipython3",
   "version": "3.9.7"
  }
 },
 "nbformat": 4,
 "nbformat_minor": 5
}
