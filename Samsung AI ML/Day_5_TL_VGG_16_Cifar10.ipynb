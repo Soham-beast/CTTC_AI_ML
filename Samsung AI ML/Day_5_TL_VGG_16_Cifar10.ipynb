{
  "nbformat": 4,
  "nbformat_minor": 0,
  "metadata": {
    "colab": {
      "provenance": [],
      "gpuType": "T4"
    },
    "kernelspec": {
      "name": "python3",
      "display_name": "Python 3"
    },
    "language_info": {
      "name": "python"
    },
    "accelerator": "GPU"
  },
  "cells": [
    {
      "cell_type": "markdown",
      "source": [
        "It works on the existing models, transfers the model from one use to the other\n",
        "we use a pre-trained model that is giving us accurate results.\n",
        "\n",
        "Transfer Learning(TL) is a ML tool that focuses on applying lnowledge gained while solving one task to a related task.\n",
        "\n",
        "Follow 'Keras' documentation for Deep Learning.\n",
        "\n",
        "'Image Net Competition' by Google every year; VGG-16 Architecture-> Pre-trained CNN Model for image processing\n",
        "\n",
        "Calling the VGG-16 does image processing at once, we do not need to again create the convolution, pooling and hidden layers\n",
        "\n",
        "VGG-16 can achieve accuracy of 92.7% in ImageNet, a dataset containing more than 14 million training images across 1000 object classes\n",
        "\n",
        "VGG-16 improves on AlexNet and replaces the large filters with sequences of smaller 3x3 filters\n",
        "\n",
        "VGG-16 takes input of maximum 224x224x3, where 3 represents the RGB channel.\n",
        "\n",
        "Inception Model-> a CNN model with 48 layers, also known as GoogLeNet.\n",
        "\n",
        "It also uses ImageNet dataset for training process"
      ],
      "metadata": {
        "id": "iRKYcbrtqH9l"
      }
    },
    {
      "cell_type": "markdown",
      "source": [
        "Plant Disease Detection-> We can use Tranfer Learning to get the requiured output.\n"
      ],
      "metadata": {
        "id": "obKyUOiwuBVp"
      }
    },
    {
      "cell_type": "code",
      "execution_count": null,
      "metadata": {
        "id": "5xtfkH7hyVl2"
      },
      "outputs": [],
      "source": [
        "import tensorflow as tf\n",
        "from tensorflow import keras\n",
        "from tensorflow.keras.datasets import cifar10\n",
        "from tensorflow.keras.applications.vgg16 import VGG16\n",
        "from tensorflow.keras.models import Model\n",
        "from tensorflow.keras.layers import Dense, Flatten\n",
        "from tensorflow.keras.optimizers import SGD\n",
        "\n",
        "#importing packages and calling the transfer learning model VGG-16"
      ]
    },
    {
      "cell_type": "code",
      "source": [
        "# Load the CIFAR-10 dataset\n",
        "(x_train, y_train), (x_test, y_test) = cifar10.load_data()"
      ],
      "metadata": {
        "colab": {
          "base_uri": "https://localhost:8080/"
        },
        "id": "JNTlR05crMI8",
        "outputId": "3f8ecd8a-c69c-41f0-dfb2-25eeb30f2f78"
      },
      "execution_count": null,
      "outputs": [
        {
          "output_type": "stream",
          "name": "stdout",
          "text": [
            "Downloading data from https://www.cs.toronto.edu/~kriz/cifar-10-python.tar.gz\n",
            "170498071/170498071 [==============================] - 2s 0us/step\n"
          ]
        }
      ]
    },
    {
      "cell_type": "code",
      "source": [
        "# Normalize the pixel values\n",
        "x_train = x_train.astype(\"float32\") / 255.0\n",
        "x_test = x_test.astype(\"float32\") / 255.0\n"
      ],
      "metadata": {
        "id": "JNJsJaufrPi6"
      },
      "execution_count": null,
      "outputs": []
    },
    {
      "cell_type": "code",
      "source": [
        "num_classes = 10\n",
        "y_train = keras.utils.to_categorical(y_train, num_classes)\n",
        "y_test = keras.utils.to_categorical(y_test, num_classes)\n",
        "\n",
        "#changing the output columns to categorical type"
      ],
      "metadata": {
        "id": "FmzbCQr3rTDH"
      },
      "execution_count": null,
      "outputs": []
    },
    {
      "cell_type": "code",
      "source": [
        "# Load the pre-trained VGG16 model (excluding the top layers)\n",
        "base_model = VGG16(weights=\"imagenet\", include_top=False, input_shape=(32, 32, 3))\n",
        "# Add custom top layers to the VGG16 model\n",
        "x = Flatten()(base_model.output)\n",
        "x = Dense(4096, activation=\"relu\")(x)\n",
        "x = Dense(4096, activation=\"relu\")(x)\n",
        "x = Dense(10, activation=\"softmax\")(x)\n",
        "# Create the new model by combining the base VGG16 model and the custom top layers\n",
        "model = Model(inputs=base_model.input, outputs=x)\n"
      ],
      "metadata": {
        "colab": {
          "base_uri": "https://localhost:8080/"
        },
        "id": "R_NGc5uKrWRn",
        "outputId": "e2e96ee7-3082-4567-933e-6d92c77e7a19"
      },
      "execution_count": null,
      "outputs": [
        {
          "output_type": "stream",
          "name": "stdout",
          "text": [
            "Downloading data from https://storage.googleapis.com/tensorflow/keras-applications/vgg16/vgg16_weights_tf_dim_ordering_tf_kernels_notop.h5\n",
            "58889256/58889256 [==============================] - 0s 0us/step\n"
          ]
        }
      ]
    },
    {
      "cell_type": "code",
      "source": [
        "\n",
        "# Freeze the weights of the pre-trained layers\n",
        "for layer in base_model.layers:\n",
        " layer.trainable = False\n",
        "\n",
        "# Print the model summary\n",
        "model.summary()"
      ],
      "metadata": {
        "colab": {
          "base_uri": "https://localhost:8080/"
        },
        "id": "bDcMU4GZreux",
        "outputId": "276380ea-c1bb-4a44-b4dc-a5692125bad5"
      },
      "execution_count": null,
      "outputs": [
        {
          "output_type": "stream",
          "name": "stdout",
          "text": [
            "Model: \"model\"\n",
            "_________________________________________________________________\n",
            " Layer (type)                Output Shape              Param #   \n",
            "=================================================================\n",
            " input_1 (InputLayer)        [(None, 32, 32, 3)]       0         \n",
            "                                                                 \n",
            " block1_conv1 (Conv2D)       (None, 32, 32, 64)        1792      \n",
            "                                                                 \n",
            " block1_conv2 (Conv2D)       (None, 32, 32, 64)        36928     \n",
            "                                                                 \n",
            " block1_pool (MaxPooling2D)  (None, 16, 16, 64)        0         \n",
            "                                                                 \n",
            " block2_conv1 (Conv2D)       (None, 16, 16, 128)       73856     \n",
            "                                                                 \n",
            " block2_conv2 (Conv2D)       (None, 16, 16, 128)       147584    \n",
            "                                                                 \n",
            " block2_pool (MaxPooling2D)  (None, 8, 8, 128)         0         \n",
            "                                                                 \n",
            " block3_conv1 (Conv2D)       (None, 8, 8, 256)         295168    \n",
            "                                                                 \n",
            " block3_conv2 (Conv2D)       (None, 8, 8, 256)         590080    \n",
            "                                                                 \n",
            " block3_conv3 (Conv2D)       (None, 8, 8, 256)         590080    \n",
            "                                                                 \n",
            " block3_pool (MaxPooling2D)  (None, 4, 4, 256)         0         \n",
            "                                                                 \n",
            " block4_conv1 (Conv2D)       (None, 4, 4, 512)         1180160   \n",
            "                                                                 \n",
            " block4_conv2 (Conv2D)       (None, 4, 4, 512)         2359808   \n",
            "                                                                 \n",
            " block4_conv3 (Conv2D)       (None, 4, 4, 512)         2359808   \n",
            "                                                                 \n",
            " block4_pool (MaxPooling2D)  (None, 2, 2, 512)         0         \n",
            "                                                                 \n",
            " block5_conv1 (Conv2D)       (None, 2, 2, 512)         2359808   \n",
            "                                                                 \n",
            " block5_conv2 (Conv2D)       (None, 2, 2, 512)         2359808   \n",
            "                                                                 \n",
            " block5_conv3 (Conv2D)       (None, 2, 2, 512)         2359808   \n",
            "                                                                 \n",
            " block5_pool (MaxPooling2D)  (None, 1, 1, 512)         0         \n",
            "                                                                 \n",
            " flatten (Flatten)           (None, 512)               0         \n",
            "                                                                 \n",
            " dense (Dense)               (None, 4096)              2101248   \n",
            "                                                                 \n",
            " dense_1 (Dense)             (None, 4096)              16781312  \n",
            "                                                                 \n",
            " dense_2 (Dense)             (None, 10)                40970     \n",
            "                                                                 \n",
            "=================================================================\n",
            "Total params: 33,638,218\n",
            "Trainable params: 18,923,530\n",
            "Non-trainable params: 14,714,688\n",
            "_________________________________________________________________\n"
          ]
        }
      ]
    },
    {
      "cell_type": "code",
      "source": [
        "# Compile the model\n",
        "model.compile(loss=\"categorical_crossentropy\", optimizer=SGD(lr=0.01), metrics=[\"accuracy\"])"
      ],
      "metadata": {
        "colab": {
          "base_uri": "https://localhost:8080/"
        },
        "id": "RyFfX4jMrsgd",
        "outputId": "f7430ca5-af02-40fe-8f26-1652edf920cd"
      },
      "execution_count": null,
      "outputs": [
        {
          "output_type": "stream",
          "name": "stderr",
          "text": [
            "WARNING:absl:`lr` is deprecated in Keras optimizer, please use `learning_rate` or use the legacy optimizer, e.g.,tf.keras.optimizers.legacy.SGD.\n"
          ]
        }
      ]
    },
    {
      "cell_type": "code",
      "source": [
        "# Train the model\n",
        "model.fit(x_train, y_train, batch_size=128, epochs=50, validation_split=0.1)"
      ],
      "metadata": {
        "colab": {
          "base_uri": "https://localhost:8080/"
        },
        "id": "uG3XpvYNrlIj",
        "outputId": "698ff34e-03ab-4186-ae15-f643b3c8908e"
      },
      "execution_count": null,
      "outputs": [
        {
          "output_type": "stream",
          "name": "stdout",
          "text": [
            "Epoch 1/50\n",
            "352/352 [==============================] - 18s 26ms/step - loss: 1.9048 - accuracy: 0.3777 - val_loss: 1.6334 - val_accuracy: 0.4730\n",
            "Epoch 2/50\n",
            "352/352 [==============================] - 8s 23ms/step - loss: 1.5674 - accuracy: 0.4669 - val_loss: 1.4654 - val_accuracy: 0.5026\n",
            "Epoch 3/50\n",
            "352/352 [==============================] - 8s 23ms/step - loss: 1.4558 - accuracy: 0.4976 - val_loss: 1.3938 - val_accuracy: 0.5188\n",
            "Epoch 4/50\n",
            "352/352 [==============================] - 8s 23ms/step - loss: 1.3946 - accuracy: 0.5188 - val_loss: 1.3588 - val_accuracy: 0.5286\n",
            "Epoch 5/50\n",
            "352/352 [==============================] - 8s 23ms/step - loss: 1.3557 - accuracy: 0.5286 - val_loss: 1.3364 - val_accuracy: 0.5390\n",
            "Epoch 6/50\n",
            "352/352 [==============================] - 9s 25ms/step - loss: 1.3239 - accuracy: 0.5396 - val_loss: 1.3054 - val_accuracy: 0.5396\n",
            "Epoch 7/50\n",
            "352/352 [==============================] - 8s 23ms/step - loss: 1.3000 - accuracy: 0.5482 - val_loss: 1.2721 - val_accuracy: 0.5608\n",
            "Epoch 8/50\n",
            "352/352 [==============================] - 8s 23ms/step - loss: 1.2792 - accuracy: 0.5555 - val_loss: 1.2698 - val_accuracy: 0.5556\n",
            "Epoch 9/50\n",
            "352/352 [==============================] - 8s 23ms/step - loss: 1.2629 - accuracy: 0.5615 - val_loss: 1.2432 - val_accuracy: 0.5594\n",
            "Epoch 10/50\n",
            "352/352 [==============================] - 8s 23ms/step - loss: 1.2455 - accuracy: 0.5683 - val_loss: 1.2394 - val_accuracy: 0.5620\n",
            "Epoch 11/50\n",
            "352/352 [==============================] - 8s 23ms/step - loss: 1.2323 - accuracy: 0.5720 - val_loss: 1.2553 - val_accuracy: 0.5600\n",
            "Epoch 12/50\n",
            "352/352 [==============================] - 9s 24ms/step - loss: 1.2212 - accuracy: 0.5768 - val_loss: 1.2123 - val_accuracy: 0.5732\n",
            "Epoch 13/50\n",
            "352/352 [==============================] - 9s 25ms/step - loss: 1.2101 - accuracy: 0.5800 - val_loss: 1.2047 - val_accuracy: 0.5816\n",
            "Epoch 14/50\n",
            "352/352 [==============================] - 8s 24ms/step - loss: 1.2002 - accuracy: 0.5822 - val_loss: 1.1999 - val_accuracy: 0.5764\n",
            "Epoch 15/50\n",
            "352/352 [==============================] - 9s 25ms/step - loss: 1.1932 - accuracy: 0.5850 - val_loss: 1.1926 - val_accuracy: 0.5834\n",
            "Epoch 16/50\n",
            "352/352 [==============================] - 8s 23ms/step - loss: 1.1815 - accuracy: 0.5894 - val_loss: 1.1951 - val_accuracy: 0.5802\n",
            "Epoch 17/50\n",
            "352/352 [==============================] - 8s 23ms/step - loss: 1.1749 - accuracy: 0.5910 - val_loss: 1.2008 - val_accuracy: 0.5772\n",
            "Epoch 18/50\n",
            "352/352 [==============================] - 9s 25ms/step - loss: 1.1661 - accuracy: 0.5953 - val_loss: 1.2141 - val_accuracy: 0.5718\n",
            "Epoch 19/50\n",
            "352/352 [==============================] - 9s 24ms/step - loss: 1.1592 - accuracy: 0.5984 - val_loss: 1.1910 - val_accuracy: 0.5700\n",
            "Epoch 20/50\n",
            "352/352 [==============================] - 9s 25ms/step - loss: 1.1522 - accuracy: 0.6003 - val_loss: 1.2017 - val_accuracy: 0.5658\n",
            "Epoch 21/50\n",
            "352/352 [==============================] - 8s 23ms/step - loss: 1.1479 - accuracy: 0.6005 - val_loss: 1.2249 - val_accuracy: 0.5786\n",
            "Epoch 22/50\n",
            "352/352 [==============================] - 9s 25ms/step - loss: 1.1398 - accuracy: 0.6048 - val_loss: 1.2042 - val_accuracy: 0.5780\n",
            "Epoch 23/50\n",
            "352/352 [==============================] - 8s 23ms/step - loss: 1.1339 - accuracy: 0.6064 - val_loss: 1.1729 - val_accuracy: 0.5856\n",
            "Epoch 24/50\n",
            "352/352 [==============================] - 8s 23ms/step - loss: 1.1297 - accuracy: 0.6074 - val_loss: 1.1711 - val_accuracy: 0.5884\n",
            "Epoch 25/50\n",
            "352/352 [==============================] - 8s 23ms/step - loss: 1.1247 - accuracy: 0.6091 - val_loss: 1.1657 - val_accuracy: 0.5872\n",
            "Epoch 26/50\n",
            "352/352 [==============================] - 9s 24ms/step - loss: 1.1188 - accuracy: 0.6118 - val_loss: 1.1591 - val_accuracy: 0.5868\n",
            "Epoch 27/50\n",
            "352/352 [==============================] - 8s 23ms/step - loss: 1.1132 - accuracy: 0.6144 - val_loss: 1.1615 - val_accuracy: 0.5924\n",
            "Epoch 28/50\n",
            "352/352 [==============================] - 8s 23ms/step - loss: 1.1096 - accuracy: 0.6153 - val_loss: 1.1504 - val_accuracy: 0.5982\n",
            "Epoch 29/50\n",
            "352/352 [==============================] - 8s 23ms/step - loss: 1.1039 - accuracy: 0.6149 - val_loss: 1.1243 - val_accuracy: 0.6046\n",
            "Epoch 30/50\n",
            "352/352 [==============================] - 9s 25ms/step - loss: 1.0954 - accuracy: 0.6199 - val_loss: 1.1718 - val_accuracy: 0.5892\n",
            "Epoch 31/50\n",
            "352/352 [==============================] - 9s 25ms/step - loss: 1.0903 - accuracy: 0.6232 - val_loss: 1.1400 - val_accuracy: 0.6010\n",
            "Epoch 32/50\n",
            "352/352 [==============================] - 8s 23ms/step - loss: 1.0871 - accuracy: 0.6223 - val_loss: 1.1337 - val_accuracy: 0.6006\n",
            "Epoch 33/50\n",
            "352/352 [==============================] - 8s 23ms/step - loss: 1.0828 - accuracy: 0.6237 - val_loss: 1.1304 - val_accuracy: 0.6066\n",
            "Epoch 34/50\n",
            "352/352 [==============================] - 8s 23ms/step - loss: 1.0786 - accuracy: 0.6241 - val_loss: 1.1269 - val_accuracy: 0.6064\n",
            "Epoch 35/50\n",
            "352/352 [==============================] - 8s 23ms/step - loss: 1.0742 - accuracy: 0.6282 - val_loss: 1.1464 - val_accuracy: 0.6006\n",
            "Epoch 36/50\n",
            "352/352 [==============================] - 8s 23ms/step - loss: 1.0689 - accuracy: 0.6277 - val_loss: 1.1131 - val_accuracy: 0.6086\n",
            "Epoch 37/50\n",
            "352/352 [==============================] - 9s 25ms/step - loss: 1.0647 - accuracy: 0.6304 - val_loss: 1.1035 - val_accuracy: 0.6186\n",
            "Epoch 38/50\n",
            "352/352 [==============================] - 8s 23ms/step - loss: 1.0592 - accuracy: 0.6328 - val_loss: 1.1127 - val_accuracy: 0.6070\n",
            "Epoch 39/50\n",
            "352/352 [==============================] - 9s 25ms/step - loss: 1.0559 - accuracy: 0.6338 - val_loss: 1.1211 - val_accuracy: 0.6086\n",
            "Epoch 40/50\n",
            "352/352 [==============================] - 8s 23ms/step - loss: 1.0501 - accuracy: 0.6375 - val_loss: 1.1050 - val_accuracy: 0.6162\n",
            "Epoch 41/50\n",
            "352/352 [==============================] - 8s 23ms/step - loss: 1.0504 - accuracy: 0.6358 - val_loss: 1.1083 - val_accuracy: 0.6134\n",
            "Epoch 42/50\n",
            "352/352 [==============================] - 8s 23ms/step - loss: 1.0414 - accuracy: 0.6406 - val_loss: 1.1216 - val_accuracy: 0.6064\n",
            "Epoch 43/50\n",
            "352/352 [==============================] - 9s 25ms/step - loss: 1.0383 - accuracy: 0.6401 - val_loss: 1.1469 - val_accuracy: 0.5976\n",
            "Epoch 44/50\n",
            "352/352 [==============================] - 8s 23ms/step - loss: 1.0348 - accuracy: 0.6402 - val_loss: 1.1156 - val_accuracy: 0.5994\n",
            "Epoch 45/50\n",
            "352/352 [==============================] - 8s 23ms/step - loss: 1.0315 - accuracy: 0.6425 - val_loss: 1.1384 - val_accuracy: 0.6086\n",
            "Epoch 46/50\n",
            "352/352 [==============================] - 9s 25ms/step - loss: 1.0281 - accuracy: 0.6449 - val_loss: 1.1087 - val_accuracy: 0.6098\n",
            "Epoch 47/50\n",
            "352/352 [==============================] - 8s 23ms/step - loss: 1.0216 - accuracy: 0.6448 - val_loss: 1.1135 - val_accuracy: 0.6134\n",
            "Epoch 48/50\n",
            "352/352 [==============================] - 9s 24ms/step - loss: 1.0191 - accuracy: 0.6471 - val_loss: 1.0836 - val_accuracy: 0.6254\n",
            "Epoch 49/50\n",
            "352/352 [==============================] - 9s 25ms/step - loss: 1.0148 - accuracy: 0.6490 - val_loss: 1.0989 - val_accuracy: 0.6142\n",
            "Epoch 50/50\n",
            "352/352 [==============================] - 9s 25ms/step - loss: 1.0094 - accuracy: 0.6498 - val_loss: 1.1824 - val_accuracy: 0.5924\n"
          ]
        },
        {
          "output_type": "execute_result",
          "data": {
            "text/plain": [
              "<keras.callbacks.History at 0x7f58b04c3d00>"
            ]
          },
          "metadata": {},
          "execution_count": 8
        }
      ]
    },
    {
      "cell_type": "markdown",
      "source": [
        "Kaggle has pre-uploaded datasets. We can use them directly without pickling.\n",
        "\n",
        "Divide the convolution layers into smaller, so that the GPU consumption is less and dividing the hidden layers can lower the RAM consumption."
      ],
      "metadata": {
        "id": "R4Xz51XMu1_s"
      }
    }
  ]
}