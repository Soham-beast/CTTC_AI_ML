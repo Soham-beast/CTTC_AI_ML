{
 "cells": [
  {
   "cell_type": "code",
   "execution_count": 1,
   "id": "3b62ad03",
   "metadata": {},
   "outputs": [],
   "source": [
    "#probability and statistics\n",
    "#a random experiment is created and then a event probability is found out \n",
    "#Bayes' Theorem-> Conditional Probability\n",
    "\n",
    "#Continuous Data-> Continuous Probability Distribution-> Normal(Bell-Shaped) Distribution\n",
    "#Categorical Data-> Discrete Probability Distribution->Bernoulli Random Vaiable and Probability Distribution; Poisson's Random Variable and Probability Distribution\n"
   ]
  },
  {
   "cell_type": "markdown",
   "id": "22408908",
   "metadata": {},
   "source": [
    "### Binomial Probability Distribution"
   ]
  },
  {
   "cell_type": "code",
   "execution_count": 3,
   "id": "8ef7babe",
   "metadata": {},
   "outputs": [],
   "source": [
    "import scipy.stats as st                      #'scientific pyhton' package is 'scipy'\n",
    "import matplotlib.pyplot as plt\n",
    "import numpy as np"
   ]
  },
  {
   "cell_type": "code",
   "execution_count": 4,
   "id": "fbd0a94d",
   "metadata": {},
   "outputs": [],
   "source": [
    "#sample size and the p parameter\n",
    "n=10\n",
    "p=0.5"
   ]
  },
  {
   "cell_type": "code",
   "execution_count": 5,
   "id": "949f4e01",
   "metadata": {},
   "outputs": [
    {
     "data": {
      "text/plain": [
       "0.24609375000000003"
      ]
     },
     "execution_count": 5,
     "metadata": {},
     "output_type": "execute_result"
    }
   ],
   "source": [
    "#binomial probability distribution at x=5\n",
    "st.binom.pmf(5,n,p)\n",
    "\n",
    "#'binom' is binomial distribution\n",
    "#'pmf' is the probability mass function\n",
    "#binomial at a particular point"
   ]
  },
  {
   "cell_type": "code",
   "execution_count": 6,
   "id": "4899c6a1",
   "metadata": {},
   "outputs": [
    {
     "data": {
      "text/plain": [
       "0.623046875"
      ]
     },
     "execution_count": 6,
     "metadata": {},
     "output_type": "execute_result"
    }
   ],
   "source": [
    "#'cdf'->cumulative distribution function\n",
    "#for a probability in the range from 0 to 5->P(0 <= x <=5)\n",
    "st.binom.cdf(5,n,p)"
   ]
  },
  {
   "cell_type": "code",
   "execution_count": 7,
   "id": "03ed9f25",
   "metadata": {},
   "outputs": [
    {
     "data": {
      "text/plain": [
       "0.890625"
      ]
     },
     "execution_count": 7,
     "metadata": {},
     "output_type": "execute_result"
    }
   ],
   "source": [
    "# P(3 <= x <= 7)\n",
    "st.binom.cdf(7,n,p)-st.binom.cdf(2,n,p)\n",
    "#probability from 3 to 7 range"
   ]
  },
  {
   "cell_type": "code",
   "execution_count": 14,
   "id": "4c2892e9",
   "metadata": {},
   "outputs": [
    {
     "data": {
      "image/png": "[encoded data removed]",
      "text/plain": [
       "<Figure size 432x288 with 1 Axes>"
      ]
     },
     "metadata": {
      "needs_background": "light"
     },
     "output_type": "display_data"
    }
   ],
   "source": [
    "#visualization of the probability distribution using scatter plot\n",
    "\n",
    "x = np.arange(0,11)\n",
    "plt.scatter(x,st.binom.pmf(x,n,p),c='b')\n",
    "plt.show()\n",
    "\n",
    "#'arange'-> creates an array with evenly spaced intergers from 0 to 10, gaps by default=1\n",
    "#in scatter plot, x in the x-axis, while for y-axis take the binomial distribution for every x-value"
   ]
  },
  {
   "cell_type": "markdown",
   "id": "3ff392f1",
   "metadata": {},
   "source": [
    "### Poisson Probability Distribution"
   ]
  },
  {
   "cell_type": "code",
   "execution_count": 15,
   "id": "adaab0f6",
   "metadata": {},
   "outputs": [],
   "source": [
    "#the lamba parameter\n",
    "lamb = 2"
   ]
  },
  {
   "cell_type": "code",
   "execution_count": 16,
   "id": "a563431b",
   "metadata": {},
   "outputs": [
    {
     "data": {
      "text/plain": [
       "0.2706705664732254"
      ]
     },
     "execution_count": 16,
     "metadata": {},
     "output_type": "execute_result"
    }
   ],
   "source": [
    "#probability distribution at x=2\n",
    "\n",
    "st.poisson.pmf(2,lamb)\n",
    "\n",
    "#'poisson' is for poisson's probability distribution"
   ]
  },
  {
   "cell_type": "code",
   "execution_count": 22,
   "id": "f3f6399e",
   "metadata": {},
   "outputs": [
    {
     "data": {
      "text/plain": [
       "0.12964202165509567"
      ]
     },
     "execution_count": 22,
     "metadata": {},
     "output_type": "execute_result"
    }
   ],
   "source": [
    "#for probability in a range for 3 to 7, we use the 'cdf'\n",
    "# P(3 <= x <= 7)\n",
    "st.poisson.cdf(7,n,p)-st.poisson.cdf(2,n,p)"
   ]
  },
  {
   "cell_type": "code",
   "execution_count": 21,
   "id": "0f6bbecd",
   "metadata": {},
   "outputs": [
    {
     "data": {
      "image/png": "[encoded data removed]",
      "text/plain": [
       "<Figure size 432x288 with 1 Axes>"
      ]
     },
     "metadata": {
      "needs_background": "light"
     },
     "output_type": "display_data"
    }
   ],
   "source": [
    "#we can visualize using the scatterplot\n",
    "x = np.arange(0,11)\n",
    "plt.scatter(x,st.poisson.pmf(x,lamb),c='m')\n",
    "plt.show()"
   ]
  },
  {
   "cell_type": "markdown",
   "id": "c756d3ef",
   "metadata": {},
   "source": [
    "### Continuous Probability Distribution"
   ]
  },
  {
   "cell_type": "code",
   "execution_count": 23,
   "id": "0b6452b3",
   "metadata": {},
   "outputs": [],
   "source": [
    "#the 'cdf' is from -ve infinity to +ve infinity\n",
    "#for a uniform random variable in the range of [a,b], f(x) = 1/(b-a)\n",
    "#For continuous data we use, normal random variable and probability distribution\n",
    "#for continuous probability distribution we use the 'uniform'\n",
    "#'pdf'-> probability distribution function for single point values\n",
    "#'ppf'-> probability point function(inverse of cdf) for quartiles values; 25%, 50%, 75%-> 1st quartile, 2nd quartile, 3rd quartile\n",
    "#'cdf'-> cumulative distribution function for range values"
   ]
  },
  {
   "cell_type": "code",
   "execution_count": null,
   "id": "eabc5cea",
   "metadata": {},
   "outputs": [],
   "source": []
  }
 ],
 "metadata": {
  "kernelspec": {
   "display_name": "Python 3 (ipykernel)",
   "language": "python",
   "name": "python3"
  },
  "language_info": {
   "codemirror_mode": {
    "name": "ipython",
    "version": 3
   },
   "file_extension": ".py",
   "mimetype": "text/x-python",
   "name": "python",
   "nbconvert_exporter": "python",
   "pygments_lexer": "ipython3",
   "version": "3.9.7"
  }
 },
 "nbformat": 4,
 "nbformat_minor": 5
}
