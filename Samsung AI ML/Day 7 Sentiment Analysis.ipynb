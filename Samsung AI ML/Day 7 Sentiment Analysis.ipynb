{
 "cells": [
  {
   "cell_type": "markdown",
   "id": "c9906555",
   "metadata": {},
   "source": [
    "# Regular Expressions\n",
    "\n",
    "> Characters with special meanings in the regular expressions [ ',' , '^' , '$' , '!' ]\n",
    "\n",
    "> Can be used to construct patterns\n",
    "\n",
    "> A RegEx, or Regular Expression, is a sequence of characters that forms a search pattern."
   ]
  },
  {
   "cell_type": "code",
   "execution_count": 1,
   "id": "495949aa",
   "metadata": {},
   "outputs": [],
   "source": [
    "# [string] ->\n",
    "# '-' -> used to indicate a range\n",
    "# [^ ] -> '^' has to be the 1st character within the square brackets, character that are not included in the enclosed set will be matched\n",
    "# Short hand expressions: \n",
    "\n",
    "#A metacharacter is a character that has a special meaning during pattern processing. \n",
    "#You use metacharacters in regular expressions to define the search criteria and any text manipulations. \n",
    "#Search string metacharacters are different from replacement string metacharacters.\n",
    "# '*','^','$','+' ,'|','?'"
   ]
  },
  {
   "cell_type": "code",
   "execution_count": 4,
   "id": "10063c7f",
   "metadata": {},
   "outputs": [
    {
     "ename": "SyntaxError",
     "evalue": "invalid syntax (Temp/ipykernel_19552/4173902660.py, line 5)",
     "output_type": "error",
     "traceback": [
      "\u001b[1;36m  File \u001b[1;32m\"C:\\Users\\Hp\\AppData\\Local\\Temp/ipykernel_19552/4173902660.py\"\u001b[1;36m, line \u001b[1;32m5\u001b[0m\n\u001b[1;33m    import nltk.corpus import stopwords\u001b[0m\n\u001b[1;37m                       ^\u001b[0m\n\u001b[1;31mSyntaxError\u001b[0m\u001b[1;31m:\u001b[0m invalid syntax\n"
     ]
    }
   ],
   "source": [
    "#importing packages\n",
    "import pandas as pd\n",
    "import numpy as np\n",
    "import nltk\n",
    "import nltk.corpus import stopwords\n",
    "import nltk.stem.porter import PorterStemmer\n",
    "from nltk.stem import WordNetLemmatizer\n",
    "import re         #A RegEx, or Regular Expression, is a sequence of characters that forms a search pattern.\n",
    "from sklearn.model_selection import "
   ]
  },
  {
   "cell_type": "code",
   "execution_count": 2,
   "id": "577c78d7",
   "metadata": {},
   "outputs": [
    {
     "ename": "NameError",
     "evalue": "name 'pd' is not defined",
     "output_type": "error",
     "traceback": [
      "\u001b[1;31m---------------------------------------------------------------------------\u001b[0m",
      "\u001b[1;31mNameError\u001b[0m                                 Traceback (most recent call last)",
      "\u001b[1;32m~\\AppData\\Local\\Temp/ipykernel_19552/2164236480.py\u001b[0m in \u001b[0;36m<module>\u001b[1;34m\u001b[0m\n\u001b[0;32m      1\u001b[0m \u001b[1;31m#data wrangling\u001b[0m\u001b[1;33m\u001b[0m\u001b[1;33m\u001b[0m\u001b[0m\n\u001b[1;32m----> 2\u001b[1;33m \u001b[0mdataset\u001b[0m \u001b[1;33m=\u001b[0m \u001b[0mpd\u001b[0m\u001b[1;33m.\u001b[0m\u001b[0mread_csv\u001b[0m\u001b[1;33m(\u001b[0m\u001b[1;34mr\"C:\\Users\\Hp\\ML Practise\\Datasets\\Sentiment-Twitter Filtered.csv\"\u001b[0m\u001b[1;33m)\u001b[0m\u001b[1;33m\u001b[0m\u001b[1;33m\u001b[0m\u001b[0m\n\u001b[0m\u001b[0;32m      3\u001b[0m \u001b[0mdataset\u001b[0m\u001b[1;33m\u001b[0m\u001b[1;33m\u001b[0m\u001b[0m\n",
      "\u001b[1;31mNameError\u001b[0m: name 'pd' is not defined"
     ]
    }
   ],
   "source": [
    "#data wrangling\n",
    "dataset = pd.read_csv(r\"C:\\Users\\Hp\\ML Practise\\Datasets\\Sentiment-Twitter Filtered.csv\")\n",
    "dataset"
   ]
  },
  {
   "cell_type": "code",
   "execution_count": null,
   "id": "bd7e44e8",
   "metadata": {},
   "outputs": [],
   "source": [
    "# '#\\w+' -> '\\w': a-z A-Z 0-9; '#': the '#' symbol of twitter; '+': Matches the preceding character zero or more times. For example, zo* matches either z or zoo.\n",
    "\n",
    "# 'RT\\s@\\w+' -> 'RT': some sentences start with 'RT'; '\\s' -> whitespace character detection; '@': the symbol '@'; '\\w': a-z A-Z 0-9; '+': Matches the preceding character zero or more times.\n",
    "\n",
    "# \n",
    "\n",
    "# the patterned sentences are not recognised by the computer otherwise"
   ]
  }
 ],
 "metadata": {
  "kernelspec": {
   "display_name": "Python 3 (ipykernel)",
   "language": "python",
   "name": "python3"
  },
  "language_info": {
   "codemirror_mode": {
    "name": "ipython",
    "version": 3
   },
   "file_extension": ".py",
   "mimetype": "text/x-python",
   "name": "python",
   "nbconvert_exporter": "python",
   "pygments_lexer": "ipython3",
   "version": "3.9.7"
  }
 },
 "nbformat": 4,
 "nbformat_minor": 5
}
