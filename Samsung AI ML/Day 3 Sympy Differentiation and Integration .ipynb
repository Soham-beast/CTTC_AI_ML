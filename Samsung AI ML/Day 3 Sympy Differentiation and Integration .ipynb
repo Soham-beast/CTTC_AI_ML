{
 "cells": [
  {
   "cell_type": "markdown",
   "id": "f6fb93af",
   "metadata": {},
   "source": [
    "### Differentiation"
   ]
  },
  {
   "cell_type": "code",
   "execution_count": 1,
   "id": "55ea9742",
   "metadata": {},
   "outputs": [],
   "source": [
    "import numpy as np\n",
    "a = np.array([(1,3),(5,7)])\n",
    "b = np.array([(4,-6),(-8,5)])"
   ]
  },
  {
   "cell_type": "code",
   "execution_count": 2,
   "id": "88b6e412",
   "metadata": {},
   "outputs": [
    {
     "data": {
      "text/plain": [
       "-7.999999999999998"
      ]
     },
     "execution_count": 2,
     "metadata": {},
     "output_type": "execute_result"
    }
   ],
   "source": [
    "det1 = np.linalg.det(a)\n",
    "det1\n",
    "#'linalg'-> a package for linear algebra in numpy\n",
    "#'det'->  to find the determinant"
   ]
  },
  {
   "cell_type": "code",
   "execution_count": 3,
   "id": "2fe3f803",
   "metadata": {},
   "outputs": [],
   "source": [
    "#For differentiation, we use 'sympy' \n",
    "import sympy as sy                      #'sympy'->symbolic python\n",
    "x = sy.symbols('x')\n",
    "#states that 'x' is a mathematical equation\n",
    "f = x**2020 + 3*x**3-1\n",
    "#given expression"
   ]
  },
  {
   "cell_type": "code",
   "execution_count": 4,
   "id": "37d90c2c",
   "metadata": {},
   "outputs": [
    {
     "data": {
      "text/latex": [
       "$\\displaystyle 2020 x^{2019} + 9 x^{2}$"
      ],
      "text/plain": [
       "2020*x**2019 + 9*x**2"
      ]
     },
     "execution_count": 4,
     "metadata": {},
     "output_type": "execute_result"
    }
   ],
   "source": [
    "sy.diff(f,x)\n",
    "#differentiation of 'f' with respect to 'x'"
   ]
  },
  {
   "cell_type": "code",
   "execution_count": 5,
   "id": "1005e644",
   "metadata": {},
   "outputs": [],
   "source": [
    "x,y = sy.symbols('x y')\n",
    "f = sy.exp(x**2+y**2)"
   ]
  },
  {
   "cell_type": "code",
   "execution_count": 6,
   "id": "aca3c885",
   "metadata": {},
   "outputs": [
    {
     "data": {
      "text/latex": [
       "$\\displaystyle e^{x^{2} + y^{2}}$"
      ],
      "text/plain": [
       "exp(x**2 + y**2)"
      ]
     },
     "execution_count": 6,
     "metadata": {},
     "output_type": "execute_result"
    }
   ],
   "source": [
    "f"
   ]
  },
  {
   "cell_type": "code",
   "execution_count": 8,
   "id": "e3716864",
   "metadata": {},
   "outputs": [
    {
     "data": {
      "text/latex": [
       "$\\displaystyle 2 x e^{x^{2} + y^{2}}$"
      ],
      "text/plain": [
       "2*x*exp(x**2 + y**2)"
      ]
     },
     "execution_count": 8,
     "metadata": {},
     "output_type": "execute_result"
    }
   ],
   "source": [
    "sy.diff(f,x)"
   ]
  },
  {
   "cell_type": "code",
   "execution_count": 9,
   "id": "19c38219",
   "metadata": {},
   "outputs": [
    {
     "data": {
      "text/latex": [
       "$\\displaystyle 2 y e^{x^{2} + y^{2}}$"
      ],
      "text/plain": [
       "2*y*exp(x**2 + y**2)"
      ]
     },
     "execution_count": 9,
     "metadata": {},
     "output_type": "execute_result"
    }
   ],
   "source": [
    "sy.diff(f,y)"
   ]
  },
  {
   "cell_type": "code",
   "execution_count": 10,
   "id": "d04a731b",
   "metadata": {},
   "outputs": [
    {
     "data": {
      "text/latex": [
       "$\\displaystyle 4 x y e^{x^{2} + y^{2}}$"
      ],
      "text/plain": [
       "4*x*y*exp(x**2 + y**2)"
      ]
     },
     "execution_count": 10,
     "metadata": {},
     "output_type": "execute_result"
    }
   ],
   "source": [
    "sy.diff(f,x,y)"
   ]
  },
  {
   "cell_type": "markdown",
   "id": "673ca519",
   "metadata": {},
   "source": [
    "### Log functions"
   ]
  },
  {
   "cell_type": "code",
   "execution_count": 11,
   "id": "ee899a1e",
   "metadata": {},
   "outputs": [],
   "source": [
    "x = sy.symbols('x')\n",
    "g = 3*sy.log(x,2)-x*sy.log(x)"
   ]
  },
  {
   "cell_type": "code",
   "execution_count": 12,
   "id": "974c959e",
   "metadata": {},
   "outputs": [
    {
     "data": {
      "text/latex": [
       "$\\displaystyle - \\log{\\left(x \\right)} - 1 + \\frac{3}{x \\log{\\left(2 \\right)}}$"
      ],
      "text/plain": [
       "-log(x) - 1 + 3/(x*log(2))"
      ]
     },
     "execution_count": 12,
     "metadata": {},
     "output_type": "execute_result"
    }
   ],
   "source": [
    "sy.diff(g,x)"
   ]
  },
  {
   "cell_type": "code",
   "execution_count": 13,
   "id": "a4384e24",
   "metadata": {},
   "outputs": [
    {
     "data": {
      "text/latex": [
       "$\\displaystyle \\frac{d}{d x} f{\\left(x \\right)}$"
      ],
      "text/plain": [
       "Derivative(f(x), x)"
      ]
     },
     "execution_count": 13,
     "metadata": {},
     "output_type": "execute_result"
    }
   ],
   "source": [
    "#for getting the expression form\n",
    "\n",
    "f = sy.Function('f')(x)\n",
    "f.diff()"
   ]
  },
  {
   "cell_type": "code",
   "execution_count": 14,
   "id": "fc602413",
   "metadata": {},
   "outputs": [
    {
     "data": {
      "text/latex": [
       "$\\displaystyle \\int f{\\left(x \\right)}\\, dx$"
      ],
      "text/plain": [
       "Integral(f(x), x)"
      ]
     },
     "execution_count": 14,
     "metadata": {},
     "output_type": "execute_result"
    }
   ],
   "source": [
    "f.integrate()\n",
    "\n",
    "#integration in symbolic form"
   ]
  },
  {
   "cell_type": "code",
   "execution_count": 16,
   "id": "ef647423",
   "metadata": {},
   "outputs": [
    {
     "data": {
      "text/latex": [
       "$\\displaystyle \\log{\\left(x \\right)} \\frac{d^{2}}{d x^{2}} f{\\left(x \\right)} + \\frac{d}{d x} f{\\left(x \\right)} = x^{3}$"
      ],
      "text/plain": [
       "Eq(log(x)*Derivative(f(x), (x, 2)) + Derivative(f(x), x), x**3)"
      ]
     },
     "execution_count": 16,
     "metadata": {},
     "output_type": "execute_result"
    }
   ],
   "source": [
    "#to get the whole differential equation\n",
    "\n",
    "diff_eq = sy.Eq(sy.log(x)*f.diff(x,x)+f.diff(x),x**3)\n",
    "diff_eq\n",
    "\n",
    "#double derivative of 'f' wrt 'x'-> f.diff(x,x)\n",
    "#the differential equation is equal to 'x**3'"
   ]
  },
  {
   "cell_type": "markdown",
   "id": "6ab3721f",
   "metadata": {},
   "source": [
    "### Solving Differential Equations"
   ]
  },
  {
   "cell_type": "code",
   "execution_count": 17,
   "id": "65339c9f",
   "metadata": {},
   "outputs": [
    {
     "data": {
      "text/latex": [
       "$\\displaystyle 5 f{\\left(x \\right)} - 6 \\frac{d}{d x} f{\\left(x \\right)} + \\frac{d^{2}}{d x^{2}} f{\\left(x \\right)} = 0$"
      ],
      "text/plain": [
       "Eq(5*f(x) - 6*Derivative(f(x), x) + Derivative(f(x), (x, 2)), 0)"
      ]
     },
     "execution_count": 17,
     "metadata": {},
     "output_type": "execute_result"
    }
   ],
   "source": [
    "diff_eq = sy.Eq(f.diff(x,x)-6*f.diff(x)+5*f,0)\n",
    "diff_eq\n",
    "\n",
    "#the differential equation is equal to 0"
   ]
  },
  {
   "cell_type": "code",
   "execution_count": 18,
   "id": "b1d1ee7e",
   "metadata": {},
   "outputs": [
    {
     "data": {
      "text/latex": [
       "$\\displaystyle f{\\left(x \\right)} = \\left(C_{1} + C_{2} e^{4 x}\\right) e^{x}$"
      ],
      "text/plain": [
       "Eq(f(x), (C1 + C2*exp(4*x))*exp(x))"
      ]
     },
     "execution_count": 18,
     "metadata": {},
     "output_type": "execute_result"
    }
   ],
   "source": [
    "sol = sy.dsolve(diff_eq)\n",
    "sol\n",
    "\n",
    "#to find the solution of a differential equation, we use the 'dsolve' function"
   ]
  },
  {
   "cell_type": "code",
   "execution_count": null,
   "id": "141bc9b8",
   "metadata": {},
   "outputs": [],
   "source": []
  }
 ],
 "metadata": {
  "kernelspec": {
   "display_name": "Python 3 (ipykernel)",
   "language": "python",
   "name": "python3"
  },
  "language_info": {
   "codemirror_mode": {
    "name": "ipython",
    "version": 3
   },
   "file_extension": ".py",
   "mimetype": "text/x-python",
   "name": "python",
   "nbconvert_exporter": "python",
   "pygments_lexer": "ipython3",
   "version": "3.9.7"
  }
 },
 "nbformat": 4,
 "nbformat_minor": 5
}
