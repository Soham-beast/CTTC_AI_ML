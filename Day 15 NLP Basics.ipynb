{
 "cells": [
  {
   "cell_type": "code",
   "execution_count": 1,
   "id": "4f7b6a8e",
   "metadata": {},
   "outputs": [],
   "source": [
    "# NLP-> is natural language processing, where computer understands human language\n",
    "#we interact in human language with the machine,ex speech recognition, movie recommendation, text recognition, spam mail detection\n",
    "# human inputs are unstructured data, this is used to train the humans \n",
    "# 'NLP' comes from 'nltk' package"
   ]
  },
  {
   "cell_type": "markdown",
   "id": "3663fa6b",
   "metadata": {},
   "source": [
    "# Package Import"
   ]
  },
  {
   "cell_type": "code",
   "execution_count": 2,
   "id": "62e14ffd",
   "metadata": {},
   "outputs": [],
   "source": [
    "import nltk          #importing the package for 'NLP'"
   ]
  },
  {
   "cell_type": "code",
   "execution_count": 3,
   "id": "f93cfa97",
   "metadata": {},
   "outputs": [
    {
     "name": "stdout",
     "output_type": "stream",
     "text": [
      "showing info https://raw.githubusercontent.com/nltk/nltk_data/gh-pages/index.xml\n"
     ]
    },
    {
     "data": {
      "text/plain": [
       "True"
      ]
     },
     "execution_count": 3,
     "metadata": {},
     "output_type": "execute_result"
    }
   ],
   "source": [
    "nltk.download()      #'nltk' is not pre-installed, thus fisrt time we need to download the package"
   ]
  },
  {
   "cell_type": "code",
   "execution_count": 4,
   "id": "ddc186a2",
   "metadata": {},
   "outputs": [],
   "source": [
    "# in preprosessing we tokenize the input->stemming\n",
    "# or 'NLP' we need to divide the sentences-> senstence tokenization\n",
    "# the sentences are also divided into separate single words-> word tokenization\n",
    "# the root word for each word group is identified by spelling and not by meaning-> stemming,ex play, played, playing-> play\n",
    "#"
   ]
  },
  {
   "cell_type": "markdown",
   "id": "e1fc7bd2",
   "metadata": {},
   "source": [
    "# Data Import"
   ]
  },
  {
   "cell_type": "code",
   "execution_count": 5,
   "id": "a0d85e79",
   "metadata": {},
   "outputs": [
    {
     "data": {
      "text/plain": [
       "'I love Artificial Intelligence and Machine Learning. It is a demanding topic in todays world. I love love painting also. AI is a key element in Industry 4.0'"
      ]
     },
     "execution_count": 5,
     "metadata": {},
     "output_type": "execute_result"
    }
   ],
   "source": [
    "data = 'I love Artificial Intelligence and Machine Learning. It is a demanding topic in todays world. I love love painting also. AI is a key element in Industry 4.0'\n",
    "data    #we input a custom data for the various steps in NLP"
   ]
  },
  {
   "cell_type": "markdown",
   "id": "eb7b8b1c",
   "metadata": {},
   "source": [
    "# Tokenization-> splitting"
   ]
  },
  {
   "cell_type": "markdown",
   "id": "644d02ff",
   "metadata": {},
   "source": [
    "### Sentence Tokenization-> splitting sentences based on fullstop( ' . ' )"
   ]
  },
  {
   "cell_type": "code",
   "execution_count": 6,
   "id": "86d18b59",
   "metadata": {},
   "outputs": [
    {
     "data": {
      "text/plain": [
       "['I love Artificial Intelligence and Machine Learning.',\n",
       " 'It is a demanding topic in todays world.',\n",
       " 'I love love painting also.',\n",
       " 'AI is a key element in Industry 4.0']"
      ]
     },
     "execution_count": 6,
     "metadata": {},
     "output_type": "execute_result"
    }
   ],
   "source": [
    "from nltk import sent_tokenize\n",
    "sent_tokenize(data)\n",
    "\n",
    "# as we want to split the sentences, we use the 'sent_tokenize' for splitting based on fullstop(.)"
   ]
  },
  {
   "cell_type": "markdown",
   "id": "c30bb6d4",
   "metadata": {},
   "source": [
    "### Word Tokenization-> split into separate words based on white spaces( '  ' )"
   ]
  },
  {
   "cell_type": "code",
   "execution_count": 7,
   "id": "9baf8e6b",
   "metadata": {},
   "outputs": [
    {
     "data": {
      "text/plain": [
       "['I',\n",
       " 'love',\n",
       " 'Artificial',\n",
       " 'Intelligence',\n",
       " 'and',\n",
       " 'Machine',\n",
       " 'Learning',\n",
       " '.',\n",
       " 'It',\n",
       " 'is',\n",
       " 'a',\n",
       " 'demanding',\n",
       " 'topic',\n",
       " 'in',\n",
       " 'todays',\n",
       " 'world',\n",
       " '.',\n",
       " 'I',\n",
       " 'love',\n",
       " 'love',\n",
       " 'painting',\n",
       " 'also',\n",
       " '.',\n",
       " 'AI',\n",
       " 'is',\n",
       " 'a',\n",
       " 'key',\n",
       " 'element',\n",
       " 'in',\n",
       " 'Industry',\n",
       " '4.0']"
      ]
     },
     "execution_count": 7,
     "metadata": {},
     "output_type": "execute_result"
    }
   ],
   "source": [
    "from nltk import word_tokenize\n",
    "word_tokenize(data)\n",
    "\n",
    "# as we want to split into individual words, we use 'word_tokenize' for splitting based on whitespaces"
   ]
  },
  {
   "cell_type": "markdown",
   "id": "b71922fc",
   "metadata": {},
   "source": [
    "# Stemming-> finds the nearest root word, based on spelling"
   ]
  },
  {
   "cell_type": "code",
   "execution_count": 8,
   "id": "efbed592",
   "metadata": {},
   "outputs": [],
   "source": [
    "from nltk.stem import PorterStemmer\n",
    "ps = PorterStemmer()        #using another shorter variable to store 'PorterStemmer'"
   ]
  },
  {
   "cell_type": "code",
   "execution_count": 9,
   "id": "9dfbfefd",
   "metadata": {},
   "outputs": [
    {
     "data": {
      "text/plain": [
       "'cat'"
      ]
     },
     "execution_count": 9,
     "metadata": {},
     "output_type": "execute_result"
    }
   ],
   "source": [
    "ps.stem('cats')   #the root word for 'cats' is 'cat'"
   ]
  },
  {
   "cell_type": "code",
   "execution_count": 10,
   "id": "be073d6d",
   "metadata": {},
   "outputs": [
    {
     "data": {
      "text/plain": [
       "'car'"
      ]
     },
     "execution_count": 10,
     "metadata": {},
     "output_type": "execute_result"
    }
   ],
   "source": [
    "ps.stem('cars')   #the root word for 'cars' is 'car'"
   ]
  },
  {
   "cell_type": "code",
   "execution_count": 11,
   "id": "e9c69f0c",
   "metadata": {},
   "outputs": [
    {
     "data": {
      "text/plain": [
       "'carsss'"
      ]
     },
     "execution_count": 11,
     "metadata": {},
     "output_type": "execute_result"
    }
   ],
   "source": [
    "ps.stem('carsss')    \n",
    "# stemming removes only 's','ed','ing' etc; only the general postfix are removed"
   ]
  },
  {
   "cell_type": "code",
   "execution_count": 12,
   "id": "0215d31a",
   "metadata": {},
   "outputs": [
    {
     "data": {
      "text/plain": [
       "'encapsul'"
      ]
     },
     "execution_count": 12,
     "metadata": {},
     "output_type": "execute_result"
    }
   ],
   "source": [
    "ps.stem('Encapsulate')\n",
    "# stemming is used only for the post scripts"
   ]
  },
  {
   "cell_type": "markdown",
   "id": "a1fa010b",
   "metadata": {},
   "source": [
    "# Lemmatization-> finds the nearest root word by meaning, like a real dictionary, tense of the word is simplified"
   ]
  },
  {
   "cell_type": "code",
   "execution_count": 13,
   "id": "dd017d49",
   "metadata": {},
   "outputs": [],
   "source": [
    "from nltk.stem import WordNetLemmatizer\n",
    "wd = WordNetLemmatizer()       #using another shorter variable to store 'WordNetLemmatizer'"
   ]
  },
  {
   "cell_type": "code",
   "execution_count": 14,
   "id": "e5a84922",
   "metadata": {},
   "outputs": [
    {
     "data": {
      "text/plain": [
       "'go'"
      ]
     },
     "execution_count": 14,
     "metadata": {},
     "output_type": "execute_result"
    }
   ],
   "source": [
    "wd.lemmatize('goes')     #checks the nearest meaningful word only, by removing postfix"
   ]
  },
  {
   "cell_type": "code",
   "execution_count": 15,
   "id": "05fd6b37",
   "metadata": {},
   "outputs": [
    {
     "data": {
      "text/plain": [
       "'encapsulate'"
      ]
     },
     "execution_count": 15,
     "metadata": {},
     "output_type": "execute_result"
    }
   ],
   "source": [
    "wd.lemmatize('encapsulate')     #the word itself is a root word and does not represent the tense of other words"
   ]
  },
  {
   "cell_type": "code",
   "execution_count": 16,
   "id": "7ffe65ed",
   "metadata": {},
   "outputs": [
    {
     "data": {
      "text/plain": [
       "'go'"
      ]
     },
     "execution_count": 16,
     "metadata": {},
     "output_type": "execute_result"
    }
   ],
   "source": [
    "wd.lemmatize('went','v')    #'v' is used to find the nearest root word with meaning, 'v' represents the verb form\n",
    "\n",
    "# root word is word with shorter string length, which is the main word, and all other words arise from it"
   ]
  },
  {
   "cell_type": "code",
   "execution_count": 17,
   "id": "5cc60757",
   "metadata": {},
   "outputs": [
    {
     "data": {
      "text/plain": [
       "'eat'"
      ]
     },
     "execution_count": 17,
     "metadata": {},
     "output_type": "execute_result"
    }
   ],
   "source": [
    "wd.lemmatize('ate','v')        #'v' returns the present tense of 'ate'"
   ]
  },
  {
   "cell_type": "markdown",
   "id": "8545a901",
   "metadata": {},
   "source": [
    "# Corpus-> Usually in NLP tasks we use to remove punctuation and “stopwords” from the corpus"
   ]
  },
  {
   "cell_type": "markdown",
   "id": "b988ba94",
   "metadata": {},
   "source": [
    "### Stopwords-> stores the common words stored in the language library"
   ]
  },
  {
   "cell_type": "code",
   "execution_count": 18,
   "id": "ee4481c0",
   "metadata": {},
   "outputs": [
    {
     "data": {
      "text/plain": [
       "['i',\n",
       " 'me',\n",
       " 'my',\n",
       " 'myself',\n",
       " 'we',\n",
       " 'our',\n",
       " 'ours',\n",
       " 'ourselves',\n",
       " 'you',\n",
       " \"you're\",\n",
       " \"you've\",\n",
       " \"you'll\",\n",
       " \"you'd\",\n",
       " 'your',\n",
       " 'yours',\n",
       " 'yourself',\n",
       " 'yourselves',\n",
       " 'he',\n",
       " 'him',\n",
       " 'his',\n",
       " 'himself',\n",
       " 'she',\n",
       " \"she's\",\n",
       " 'her',\n",
       " 'hers',\n",
       " 'herself',\n",
       " 'it',\n",
       " \"it's\",\n",
       " 'its',\n",
       " 'itself',\n",
       " 'they',\n",
       " 'them',\n",
       " 'their',\n",
       " 'theirs',\n",
       " 'themselves',\n",
       " 'what',\n",
       " 'which',\n",
       " 'who',\n",
       " 'whom',\n",
       " 'this',\n",
       " 'that',\n",
       " \"that'll\",\n",
       " 'these',\n",
       " 'those',\n",
       " 'am',\n",
       " 'is',\n",
       " 'are',\n",
       " 'was',\n",
       " 'were',\n",
       " 'be',\n",
       " 'been',\n",
       " 'being',\n",
       " 'have',\n",
       " 'has',\n",
       " 'had',\n",
       " 'having',\n",
       " 'do',\n",
       " 'does',\n",
       " 'did',\n",
       " 'doing',\n",
       " 'a',\n",
       " 'an',\n",
       " 'the',\n",
       " 'and',\n",
       " 'but',\n",
       " 'if',\n",
       " 'or',\n",
       " 'because',\n",
       " 'as',\n",
       " 'until',\n",
       " 'while',\n",
       " 'of',\n",
       " 'at',\n",
       " 'by',\n",
       " 'for',\n",
       " 'with',\n",
       " 'about',\n",
       " 'against',\n",
       " 'between',\n",
       " 'into',\n",
       " 'through',\n",
       " 'during',\n",
       " 'before',\n",
       " 'after',\n",
       " 'above',\n",
       " 'below',\n",
       " 'to',\n",
       " 'from',\n",
       " 'up',\n",
       " 'down',\n",
       " 'in',\n",
       " 'out',\n",
       " 'on',\n",
       " 'off',\n",
       " 'over',\n",
       " 'under',\n",
       " 'again',\n",
       " 'further',\n",
       " 'then',\n",
       " 'once',\n",
       " 'here',\n",
       " 'there',\n",
       " 'when',\n",
       " 'where',\n",
       " 'why',\n",
       " 'how',\n",
       " 'all',\n",
       " 'any',\n",
       " 'both',\n",
       " 'each',\n",
       " 'few',\n",
       " 'more',\n",
       " 'most',\n",
       " 'other',\n",
       " 'some',\n",
       " 'such',\n",
       " 'no',\n",
       " 'nor',\n",
       " 'not',\n",
       " 'only',\n",
       " 'own',\n",
       " 'same',\n",
       " 'so',\n",
       " 'than',\n",
       " 'too',\n",
       " 'very',\n",
       " 's',\n",
       " 't',\n",
       " 'can',\n",
       " 'will',\n",
       " 'just',\n",
       " 'don',\n",
       " \"don't\",\n",
       " 'should',\n",
       " \"should've\",\n",
       " 'now',\n",
       " 'd',\n",
       " 'll',\n",
       " 'm',\n",
       " 'o',\n",
       " 're',\n",
       " 've',\n",
       " 'y',\n",
       " 'ain',\n",
       " 'aren',\n",
       " \"aren't\",\n",
       " 'couldn',\n",
       " \"couldn't\",\n",
       " 'didn',\n",
       " \"didn't\",\n",
       " 'doesn',\n",
       " \"doesn't\",\n",
       " 'hadn',\n",
       " \"hadn't\",\n",
       " 'hasn',\n",
       " \"hasn't\",\n",
       " 'haven',\n",
       " \"haven't\",\n",
       " 'isn',\n",
       " \"isn't\",\n",
       " 'ma',\n",
       " 'mightn',\n",
       " \"mightn't\",\n",
       " 'mustn',\n",
       " \"mustn't\",\n",
       " 'needn',\n",
       " \"needn't\",\n",
       " 'shan',\n",
       " \"shan't\",\n",
       " 'shouldn',\n",
       " \"shouldn't\",\n",
       " 'wasn',\n",
       " \"wasn't\",\n",
       " 'weren',\n",
       " \"weren't\",\n",
       " 'won',\n",
       " \"won't\",\n",
       " 'wouldn',\n",
       " \"wouldn't\"]"
      ]
     },
     "execution_count": 18,
     "metadata": {},
     "output_type": "execute_result"
    }
   ],
   "source": [
    "from nltk.corpus import stopwords\n",
    "stopwords.words('english')\n",
    "\n",
    "# if your sentence has any errors, then the errors are autorectified"
   ]
  },
  {
   "cell_type": "code",
   "execution_count": 19,
   "id": "bf190308",
   "metadata": {},
   "outputs": [],
   "source": [
    "# Stop words are a set of commonly used words in any language. \n",
    "# For example, in English, “the”, “is” and “and”, would easily qualify as stop words. \n",
    "# In NLP and text mining applications, stop words are used to eliminate unimportant words.\n",
    "# It allows applications to focus on the important words instead."
   ]
  },
  {
   "cell_type": "markdown",
   "id": "3f68ba9c",
   "metadata": {},
   "source": [
    "### Punctuation-> removes any punctuation marks"
   ]
  },
  {
   "cell_type": "code",
   "execution_count": 20,
   "id": "e746adcc",
   "metadata": {},
   "outputs": [],
   "source": [
    "# The second most common text processing technique is removing punctuations from the textual data. \n",
    "# The punctuation removal process will help to treat each text equally. \n",
    "# For example, the word 'data' and 'data!' are treated equally after the process of removal of punctuations."
   ]
  },
  {
   "cell_type": "code",
   "execution_count": 29,
   "id": "4e0541fb",
   "metadata": {},
   "outputs": [],
   "source": [
    "import string\n",
    "test = 'This my first AIML class. I love doing it in python'\n",
    "\n",
    "#importing 'string' helps in identifying strings \n",
    "#Python string module contains a single utility function - capwords(s, sep=None). \n",
    "#This function split the specified string into words using str."
   ]
  },
  {
   "cell_type": "code",
   "execution_count": 30,
   "id": "6c4c8406",
   "metadata": {},
   "outputs": [],
   "source": [
    "no_punc = [letter for letter in test if letter not in string.punctuation]\n",
    "\n",
    "# in python the loops and the conditional sentences can also be in one line and still work, but inside [ ]\n",
    "# both single and nested conditional statement are allowed inside square brackets\n",
    "# The string.punctuation is a pre-defined constant string in python that contains all punctuation characters. \n",
    "# This string includes all these characters and more, such as quotation marks, brackets, and slashes."
   ]
  },
  {
   "cell_type": "code",
   "execution_count": 31,
   "id": "02f208d9",
   "metadata": {},
   "outputs": [
    {
     "data": {
      "text/plain": [
       "['T',\n",
       " 'h',\n",
       " 'i',\n",
       " 's',\n",
       " ' ',\n",
       " 'm',\n",
       " 'y',\n",
       " ' ',\n",
       " 'f',\n",
       " 'i',\n",
       " 'r',\n",
       " 's',\n",
       " 't',\n",
       " ' ',\n",
       " 'A',\n",
       " 'I',\n",
       " 'M',\n",
       " 'L',\n",
       " ' ',\n",
       " 'c',\n",
       " 'l',\n",
       " 'a',\n",
       " 's',\n",
       " 's',\n",
       " ' ',\n",
       " 'I',\n",
       " ' ',\n",
       " 'l',\n",
       " 'o',\n",
       " 'v',\n",
       " 'e',\n",
       " ' ',\n",
       " 'd',\n",
       " 'o',\n",
       " 'i',\n",
       " 'n',\n",
       " 'g',\n",
       " ' ',\n",
       " 'i',\n",
       " 't',\n",
       " ' ',\n",
       " 'i',\n",
       " 'n',\n",
       " ' ',\n",
       " 'p',\n",
       " 'y',\n",
       " 't',\n",
       " 'h',\n",
       " 'o',\n",
       " 'n']"
      ]
     },
     "execution_count": 31,
     "metadata": {},
     "output_type": "execute_result"
    }
   ],
   "source": [
    "no_punc\n",
    "\n",
    "# each is individually separated from each other by default"
   ]
  },
  {
   "cell_type": "code",
   "execution_count": 24,
   "id": "278e3213",
   "metadata": {},
   "outputs": [
    {
     "data": {
      "text/plain": [
       "'This my first AIML class I love doing it in python'"
      ]
     },
     "execution_count": 24,
     "metadata": {},
     "output_type": "execute_result"
    }
   ],
   "source": [
    "no_punc = ''.join(no_punc)\n",
    "no_punc"
   ]
  },
  {
   "cell_type": "code",
   "execution_count": 54,
   "id": "8d08731b",
   "metadata": {},
   "outputs": [],
   "source": [
    "test = 'This is my first AIML class. I love doing it in python'"
   ]
  },
  {
   "cell_type": "code",
   "execution_count": 55,
   "id": "9d606c9b",
   "metadata": {},
   "outputs": [
    {
     "data": {
      "text/plain": [
       "['This',\n",
       " 'is',\n",
       " 'my',\n",
       " 'first',\n",
       " 'AIML',\n",
       " 'class.',\n",
       " 'I',\n",
       " 'love',\n",
       " 'doing',\n",
       " 'it',\n",
       " 'in',\n",
       " 'python']"
      ]
     },
     "execution_count": 55,
     "metadata": {},
     "output_type": "execute_result"
    }
   ],
   "source": [
    "test.split()\n",
    "\n",
    "# separates each word based on whitespaces(' ')"
   ]
  },
  {
   "cell_type": "code",
   "execution_count": 56,
   "id": "d9cfa974",
   "metadata": {},
   "outputs": [
    {
     "data": {
      "text/plain": [
       "['first', 'AIML', 'class.', 'love', 'python']"
      ]
     },
     "execution_count": 56,
     "metadata": {},
     "output_type": "execute_result"
    }
   ],
   "source": [
    "sw = [word for word in test.split() \n",
    "      if word.lower() not in stopwords.words('english')]\n",
    "sw\n",
    "\n",
    "# stores only those words in the sentence, which are not the commonly used words of english sentence, in 'sw'"
   ]
  },
  {
   "cell_type": "code",
   "execution_count": 57,
   "id": "7fe3f8c9",
   "metadata": {},
   "outputs": [
    {
     "data": {
      "text/plain": [
       "['This', 'is', 'my', 'I', 'doing', 'it', 'in']"
      ]
     },
     "execution_count": 57,
     "metadata": {},
     "output_type": "execute_result"
    }
   ],
   "source": [
    "liss = [word for word in test.split() \n",
    "      if word.lower() in stopwords.words('english')]\n",
    "liss\n",
    "\n",
    "# stores only those words in the sentence, which are the commonly used words of english sentence, in 'liss'"
   ]
  },
  {
   "cell_type": "markdown",
   "id": "997f3a84",
   "metadata": {},
   "source": [
    "# POS(parts of speech)-> recognizes nouns, determinants"
   ]
  },
  {
   "cell_type": "code",
   "execution_count": null,
   "id": "2f75c3d9",
   "metadata": {},
   "outputs": [],
   "source": [
    "# NLTK POS tag is the practice of marking up the words in text format for a specific segment of a speech context \n",
    "# It is known as POS Tagging (Parts of Speech Tagging). \n",
    "# It is in charge of interpreting a language's text and associating each word with a specific token. \n",
    "# Grammar tagging is another term for it."
   ]
  },
  {
   "cell_type": "code",
   "execution_count": 58,
   "id": "4d8f82c2",
   "metadata": {},
   "outputs": [],
   "source": [
    "a = 'Kashmir is a natural beauty'"
   ]
  },
  {
   "cell_type": "code",
   "execution_count": 59,
   "id": "db17f6ca",
   "metadata": {},
   "outputs": [
    {
     "data": {
      "text/plain": [
       "'Kashmir is a natural beauty'"
      ]
     },
     "execution_count": 59,
     "metadata": {},
     "output_type": "execute_result"
    }
   ],
   "source": [
    "a"
   ]
  },
  {
   "cell_type": "code",
   "execution_count": 61,
   "id": "7654c3a5",
   "metadata": {},
   "outputs": [
    {
     "data": {
      "text/plain": [
       "['Kashmir', 'is', 'a', 'natural', 'beauty']"
      ]
     },
     "execution_count": 61,
     "metadata": {},
     "output_type": "execute_result"
    }
   ],
   "source": [
    "sent_token = word_tokenize(a)\n",
    "sent_token"
   ]
  },
  {
   "cell_type": "code",
   "execution_count": 63,
   "id": "674512af",
   "metadata": {},
   "outputs": [
    {
     "name": "stdout",
     "output_type": "stream",
     "text": [
      "[('Kashmir', 'NNP')]\n",
      "[('is', 'VBZ')]\n",
      "[('a', 'DT')]\n",
      "[('natural', 'JJ')]\n",
      "[('beauty', 'NN')]\n"
     ]
    }
   ],
   "source": [
    "for i in sent_token:\n",
    "    print(nltk.pos_tag([i]))\n",
    "    \n",
    "# NNP-> proper noun, singular \n",
    "# VBZ-> verb, present tense with 3rd person singular\n",
    "# DT-> determiner\n",
    "# JJ-> This NLTK POS Tag is an adjective\n",
    "# NN-> noun, singular \n",
    "\n",
    "# https://www.guru99.com/pos-tagging-chunking-nltk.html\n",
    "# for checking the abbreviations of POS tagging"
   ]
  },
  {
   "cell_type": "code",
   "execution_count": 64,
   "id": "645807fe",
   "metadata": {},
   "outputs": [],
   "source": [
    "# for 'Google something on internet', 'Google' can be the search engine or the organization itself\n",
    "# here we will use the 'ne_chuck' technique"
   ]
  },
  {
   "cell_type": "code",
   "execution_count": 65,
   "id": "b5da889d",
   "metadata": {},
   "outputs": [
    {
     "data": {
      "text/plain": [
       "'The US president lives in White House'"
      ]
     },
     "execution_count": 65,
     "metadata": {},
     "output_type": "execute_result"
    }
   ],
   "source": [
    "sent = 'The US president lives in White House'\n",
    "sent      #input a sentence"
   ]
  },
  {
   "cell_type": "code",
   "execution_count": 66,
   "id": "077f67f7",
   "metadata": {},
   "outputs": [
    {
     "name": "stdout",
     "output_type": "stream",
     "text": [
      "(S\n",
      "  The/DT\n",
      "  (GSP US/NNP)\n",
      "  president/NN\n",
      "  lives/NNS\n",
      "  in/IN\n",
      "  (FACILITY White/NNP House/NNP))\n"
     ]
    }
   ],
   "source": [
    "from nltk import ne_chunk\n",
    "ne_token = word_tokenize(sent)      #all the words are separated in a sentence\n",
    "ne_postag = nltk.pos_tag(ne_token)  #adds a POS tag to each word \n",
    "ne1 = ne_chunk(ne_postag)\n",
    "print(ne1)\n",
    "\n",
    "# The ne_chunk() function uses a rule-based approach to named entity recognition \n",
    "# It means that it uses a set of hand-written rules to identify and classify named entities. \n",
    "# The rules are based on the POS tags of the words in the text and the context in which they appear."
   ]
  },
  {
   "cell_type": "code",
   "execution_count": 67,
   "id": "fda8c66a",
   "metadata": {},
   "outputs": [],
   "source": [
    "# conduct text processing\n",
    "# categorize and tag the words\n",
    "# Classify text\n",
    "# Extract information\n",
    "# Analyze sentence structure\n",
    "\n",
    "\n",
    "# vectors are used to convert text to number\n",
    "# count vectorizer-> label each word with a numeric label, category-wise, based on weightage in corpus library\n",
    "# Tfidf(term frequency inverse document frequency) -> finds out the freq of repeattion of each word; \n",
    "# finds their inverse value to frequency; then apply log(inverse of freq/N)\n",
    "# corpus library has already stored some weightage for each words, it is used in the log as 'N'\n",
    "\n",
    "#'ngrams'-> continuous sequence of words or symbols, or tokens in a document.\n",
    "#In technical terms, they can be defined as the neighboring sequences of items in a document. \n",
    "#They come into play when we deal with text data in NLP (Natural Language Processing) tasks.\n",
    "\n",
    "\n",
    "#pipeline building mechanism\n",
    "# tokenization->vectorizer->transformer->model training"
   ]
  },
  {
   "cell_type": "code",
   "execution_count": null,
   "id": "09de1782",
   "metadata": {},
   "outputs": [],
   "source": []
  }
 ],
 "metadata": {
  "kernelspec": {
   "display_name": "Python 3 (ipykernel)",
   "language": "python",
   "name": "python3"
  },
  "language_info": {
   "codemirror_mode": {
    "name": "ipython",
    "version": 3
   },
   "file_extension": ".py",
   "mimetype": "text/x-python",
   "name": "python",
   "nbconvert_exporter": "python",
   "pygments_lexer": "ipython3",
   "version": "3.9.7"
  }
 },
 "nbformat": 4,
 "nbformat_minor": 5
}
