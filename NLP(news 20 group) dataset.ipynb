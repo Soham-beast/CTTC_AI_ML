{
 "cells": [
  {
   "cell_type": "code",
   "execution_count": 6,
   "id": "dd2320bc",
   "metadata": {},
   "outputs": [],
   "source": [
    "import nltk"
   ]
  },
  {
   "cell_type": "code",
   "execution_count": 7,
   "id": "dfbf4dc2",
   "metadata": {},
   "outputs": [],
   "source": [
    "from sklearn.datasets import fetch_20newsgroups\n",
    "#load the filenames and data from the 20 newsgroups dataset\n",
    "\n",
    "from sklearn.feature_extraction.text import TfidfVectorizer,TfidfTransformer\n",
    "#TfidfVectorizer -> Convert a collection of raw documents to a matrix of TF-IDF features\n",
    "#TfidfTransformer -> Performs the TF-IDF transformation from a provided matrix of counts\n",
    "\n",
    "from sklearn.pipeline import Pipeline\n",
    "#The purpose of the pipeline is to assemble several steps that can be cross-validated together while setting\n",
    "#different parameters. For this, it enables setting parameters of the various steps using their names and the \n",
    "#parameter name separated by a '__', as in the example below. A step’s estimator may be replaced entirely by\n",
    "#setting the parameter with its name to another estimator, or a transformer removed by setting it to 'passthrough' or None.\n",
    "\n",
    "\n",
    "from sklearn.naive_bayes import MultinomialNB"
   ]
  },
  {
   "cell_type": "code",
   "execution_count": 8,
   "id": "955662d5",
   "metadata": {},
   "outputs": [],
   "source": [
    "data=fetch_20newsgroups()\n",
    "#The fetch_20newsgroups() function allows the loading of filenames and data from the 20 newsgroups dataset"
   ]
  },
  {
   "cell_type": "code",
   "execution_count": 9,
   "id": "cc9f0f48",
   "metadata": {},
   "outputs": [
    {
     "data": {
      "text/plain": [
       "['alt.atheism',\n",
       " 'comp.graphics',\n",
       " 'comp.os.ms-windows.misc',\n",
       " 'comp.sys.ibm.pc.hardware',\n",
       " 'comp.sys.mac.hardware',\n",
       " 'comp.windows.x',\n",
       " 'misc.forsale',\n",
       " 'rec.autos',\n",
       " 'rec.motorcycles',\n",
       " 'rec.sport.baseball',\n",
       " 'rec.sport.hockey',\n",
       " 'sci.crypt',\n",
       " 'sci.electronics',\n",
       " 'sci.med',\n",
       " 'sci.space',\n",
       " 'soc.religion.christian',\n",
       " 'talk.politics.guns',\n",
       " 'talk.politics.mideast',\n",
       " 'talk.politics.misc',\n",
       " 'talk.religion.misc']"
      ]
     },
     "execution_count": 9,
     "metadata": {},
     "output_type": "execute_result"
    }
   ],
   "source": [
    "data.target_names"
   ]
  },
  {
   "cell_type": "code",
   "execution_count": 11,
   "id": "2bcee1cf",
   "metadata": {},
   "outputs": [],
   "source": [
    "categories = ['alt.atheism',\n",
    " 'comp.graphics',\n",
    " 'comp.os.ms-windows.misc',\n",
    " 'comp.sys.ibm.pc.hardware',\n",
    " 'comp.sys.mac.hardware',\n",
    " 'comp.windows.x',\n",
    " 'misc.forsale',\n",
    " 'rec.autos',\n",
    " 'rec.motorcycles',\n",
    " 'rec.sport.baseball',\n",
    " 'rec.sport.hockey',\n",
    " 'sci.crypt',\n",
    " 'sci.electronics',\n",
    " 'sci.med',\n",
    " 'sci.space',\n",
    " 'soc.religion.christian',\n",
    " 'talk.politics.guns',\n",
    " 'talk.politics.mideast',\n",
    " 'talk.politics.misc',\n",
    " 'talk.religion.misc']\n",
    "twenty_train = fetch_20newsgroups(subset='train', categories=categories,\n",
    "                                 shuffle=True, random_state=42)"
   ]
  },
  {
   "cell_type": "code",
   "execution_count": 13,
   "id": "607e117a",
   "metadata": {},
   "outputs": [],
   "source": [
    "# define the NLP pipeline\n",
    "text_clf = Pipeline([('vect',TfidfVectorizer()),\n",
    "                     ('tfidf',TfidfTransformer()),\n",
    "                     ('clf',MultinomialNB())])"
   ]
  },
  {
   "cell_type": "code",
   "execution_count": 14,
   "id": "42f56e8f",
   "metadata": {},
   "outputs": [
    {
     "data": {
      "text/plain": [
       "Pipeline(steps=[('vect', TfidfVectorizer()), ('tfidf', TfidfTransformer()),\n",
       "                ('clf', MultinomialNB())])"
      ]
     },
     "execution_count": 14,
     "metadata": {},
     "output_type": "execute_result"
    }
   ],
   "source": [
    "text_clf.fit(twenty_train.data, twenty_train.target)"
   ]
  },
  {
   "cell_type": "code",
   "execution_count": 16,
   "id": "8533428b",
   "metadata": {},
   "outputs": [],
   "source": [
    "twenty_test = fetch_20newsgroups(subset='test',categories=categories,shuffle=True, random_state=42)\n",
    "predicted = text_clf.predict(twenty_test.data)"
   ]
  },
  {
   "cell_type": "code",
   "execution_count": 17,
   "id": "17209a03",
   "metadata": {},
   "outputs": [],
   "source": [
    "def predict_category(s,train=twenty_train,model=text_clf):\n",
    "    pred=text_clf.predict([s])\n",
    "    return twenty_train.target_names[pred[0]]"
   ]
  },
  {
   "cell_type": "code",
   "execution_count": 18,
   "id": "034b6c67",
   "metadata": {},
   "outputs": [
    {
     "data": {
      "text/plain": [
       "'rec.autos'"
      ]
     },
     "execution_count": 18,
     "metadata": {},
     "output_type": "execute_result"
    }
   ],
   "source": [
    "predict_category('Audi is better than Hyundai')"
   ]
  },
  {
   "cell_type": "code",
   "execution_count": null,
   "id": "b2dffa1f",
   "metadata": {},
   "outputs": [],
   "source": []
  }
 ],
 "metadata": {
  "kernelspec": {
   "display_name": "Python 3 (ipykernel)",
   "language": "python",
   "name": "python3"
  },
  "language_info": {
   "codemirror_mode": {
    "name": "ipython",
    "version": 3
   },
   "file_extension": ".py",
   "mimetype": "text/x-python",
   "name": "python",
   "nbconvert_exporter": "python",
   "pygments_lexer": "ipython3",
   "version": "3.9.13"
  }
 },
 "nbformat": 4,
 "nbformat_minor": 5
}
