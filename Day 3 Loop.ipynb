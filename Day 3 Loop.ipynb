{
 "cells": [
  {
   "cell_type": "code",
   "execution_count": 1,
   "id": "f9ff9e9e",
   "metadata": {},
   "outputs": [
    {
     "name": "stdout",
     "output_type": "stream",
     "text": [
      "Enter the 1st age: 89\n",
      "Enter the 2nd age: 564\n",
      "Enter the 3rd age: 52\n",
      "Biggest number among them is 564\n"
     ]
    }
   ],
   "source": [
    "#check the oldest among 3 people from their ages\n",
    "a = int(input(\"Enter the 1st age: \"))\n",
    "b = int(input(\"Enter the 2nd age: \"))\n",
    "c = int(input(\"Enter the 3rd age: \"))\n",
    "if a>b: \n",
    "    m=a\n",
    "else:\n",
    "    m=b\n",
    "if c>m:\n",
    "    m=c\n",
    "print(\"Biggest number among them is\",m)"
   ]
  },
  {
   "cell_type": "code",
   "execution_count": null,
   "id": "92c274e1",
   "metadata": {},
   "outputs": [],
   "source": [
    "#check if entered triangle is equilateral or isoceles or scalene from \n",
    "a = int(input(\"Enter the 1st side: \"))\n",
    "b = int(input(\"Enter the 2nd side: \"))\n",
    "c = int(input(\"Enter the 3rd side: \"))\n",
    "if a==b:\n",
    "    if b==c:\n",
    "        print(\"It is an Equilateral Triangle\")\n",
    "    else:\n",
    "        print(\"It is an Isoceles Triangle\")\n",
    "elif b==c or c==a:\n",
    "    print(\"It is an Isoceles Triangle\")\n",
    "else:\n",
    "    print(\"It is a Scalene Triangle\")"
   ]
  },
  {
   "cell_type": "code",
   "execution_count": 2,
   "id": "867c4b96",
   "metadata": {},
   "outputs": [
    {
     "name": "stdout",
     "output_type": "stream",
     "text": [
      "Enter any character: l\n",
      "Its an alphabet\n"
     ]
    }
   ],
   "source": [
    "# check if entered character is alphabet or not\n",
    "a= input(\"Enter any character: \")\n",
    "if str(a).isalpha():\n",
    "    print(\"Its an alphabet\")\n",
    "else:\n",
    "    print(\"Its not an alphabet\")"
   ]
  },
  {
   "cell_type": "code",
   "execution_count": 13,
   "id": "3fd1d172",
   "metadata": {},
   "outputs": [
    {
     "name": "stdout",
     "output_type": "stream",
     "text": [
      "1 2 3 4 5 "
     ]
    }
   ],
   "source": [
    "# print from 1 to 5 sideways\n",
    "i=1\n",
    "while i<6:\n",
    "    print(i, end=\" \")\n",
    "    i+=1"
   ]
  },
  {
   "cell_type": "code",
   "execution_count": 14,
   "id": "49f6751d",
   "metadata": {},
   "outputs": [
    {
     "name": "stdout",
     "output_type": "stream",
     "text": [
      "1\n",
      "2\n",
      "3\n",
      "4\n",
      "5\n"
     ]
    }
   ],
   "source": [
    "# print from 1 to 5 downwards\n",
    "i=1\n",
    "while i<6:\n",
    "    print(i)\n",
    "    i+=1"
   ]
  },
  {
   "cell_type": "code",
   "execution_count": 11,
   "id": "d1a4fc6c",
   "metadata": {},
   "outputs": [
    {
     "name": "stdout",
     "output_type": "stream",
     "text": [
      "Even numbers in between 50 and 1 are \n",
      "50 48 46 44 42 40 38 36 34 32 30 28 26 24 22 20 18 16 14 12 10 8 6 4 2 "
     ]
    }
   ],
   "source": [
    "#print even numbers from 50 to 1\n",
    "n=50\n",
    "print(\"Even numbers in between 50 and 1 are \")\n",
    "while n>0:\n",
    "    if n%2==0:\n",
    "        print(n, end=\" \")\n",
    "    n-=1"
   ]
  },
  {
   "cell_type": "code",
   "execution_count": 2,
   "id": "a82d3a63",
   "metadata": {},
   "outputs": [
    {
     "name": "stdout",
     "output_type": "stream",
     "text": [
      "Enter any number: 5\n",
      "\n",
      "The table of 5 is\n",
      "5 x 1 = 5\n",
      "5 x 2 = 10\n",
      "5 x 3 = 15\n",
      "5 x 4 = 20\n",
      "5 x 5 = 25\n",
      "5 x 6 = 30\n",
      "5 x 7 = 35\n",
      "5 x 8 = 40\n",
      "5 x 9 = 45\n",
      "5 x 10 = 50\n"
     ]
    }
   ],
   "source": [
    "#wap to print table of entered number using while loop\n",
    "n=int(input(\"Enter any number: \"))\n",
    "print(\"\\nThe table of\",n,\"is\")\n",
    "i=1\n",
    "while i<11:\n",
    "    print(n,\"x\",i,\"=\",n*i)\n",
    "    i+=1"
   ]
  },
  {
   "cell_type": "code",
   "execution_count": 4,
   "id": "6ca8bf99",
   "metadata": {},
   "outputs": [
    {
     "name": "stdout",
     "output_type": "stream",
     "text": [
      "Enter any thing from rock, paper or scissor: akja\n",
      "\n",
      "Please enter correct option\n",
      "Enter any thing from rock, paper or scissor: assad\n",
      "\n",
      "Please enter correct option\n",
      "Enter any thing from rock, paper or scissor: adsa\n",
      "\n",
      "Please enter correct option\n",
      "Enter any thing from rock, paper or scissor: dasasda\n",
      "\n",
      "Please enter correct option\n",
      "Enter any thing from rock, paper or scissor: asdasd\n",
      "\n",
      "Please enter correct option\n",
      "Enter any thing from rock, paper or scissor: rock\n",
      "You entered rock\n"
     ]
    }
   ],
   "source": [
    "#wap to receive only 'rock', 'paper' and 'scissor'\n",
    "i=1\n",
    "while i==1:\n",
    "    en=str(input(\"Enter any thing from rock, paper or scissor: \"))\n",
    "    if en==\"rock\" or en==\"paper\" or en==\"scissor\":\n",
    "        i=0\n",
    "    else:\n",
    "        print(\"\\nPlease enter correct option\")\n",
    "print(\"You entered\",en)"
   ]
  },
  {
   "cell_type": "code",
   "execution_count": 6,
   "id": "0fa53812",
   "metadata": {},
   "outputs": [
    {
     "name": "stdout",
     "output_type": "stream",
     "text": [
      "Enter anything from rock, paper or scissor: rkr\n",
      "Enter anything from rock, paper or scissor: rgrg\n",
      "Enter anything from rock, paper or scissor: rock\n",
      "You entered rock\n"
     ]
    }
   ],
   "source": [
    "#wap to receive only 'rock', 'paper' and 'scissor'\n",
    "a = None          #nothing in the string\n",
    "while a not in ['rock','paper','scissor']:\n",
    "    a=input(\"Enter anything from rock, paper or scissor: \")\n",
    "print(\"You entered\",a)"
   ]
  },
  {
   "cell_type": "code",
   "execution_count": 12,
   "id": "db4614cd",
   "metadata": {},
   "outputs": [
    {
     "name": "stdout",
     "output_type": "stream",
     "text": [
      "a\n",
      "e\n",
      "r\n",
      "o\n",
      "p\n",
      "l\n",
      "a\n",
      "n\n",
      "e\n"
     ]
    }
   ],
   "source": [
    "#use for loop\n",
    "for i in 'aeroplane':\n",
    "    print(i)"
   ]
  },
  {
   "cell_type": "code",
   "execution_count": 16,
   "id": "9b11739a",
   "metadata": {},
   "outputs": [
    {
     "name": "stdout",
     "output_type": "stream",
     "text": [
      "12\n",
      "67\n",
      "88\n",
      "345\n",
      "22\n",
      "11\n",
      "33\n"
     ]
    }
   ],
   "source": [
    "for i in [12,67,88,345,22,11,33]:\n",
    "    print(i)"
   ]
  },
  {
   "cell_type": "code",
   "execution_count": 29,
   "id": "1907e9fa",
   "metadata": {},
   "outputs": [],
   "source": [
    "#print 1 to 100 using for loop\n",
    "for i in range(1,101,-1):\n",
    "    print(i,end=\" \")"
   ]
  },
  {
   "cell_type": "code",
   "execution_count": 35,
   "id": "82c4fadf",
   "metadata": {},
   "outputs": [
    {
     "name": "stdout",
     "output_type": "stream",
     "text": [
      "10\n",
      "8\n",
      "6\n",
      "4\n",
      "2\n"
     ]
    }
   ],
   "source": [
    "for i in range(10,0,-2):\n",
    "    print(i)"
   ]
  },
  {
   "cell_type": "code",
   "execution_count": 38,
   "id": "f70a70e3",
   "metadata": {},
   "outputs": [
    {
     "name": "stdout",
     "output_type": "stream",
     "text": [
      "Enter any number: 5\n",
      "The table of 5 is\n",
      "5 x 1 = 5\n",
      "5 x 2 = 10\n",
      "5 x 3 = 15\n",
      "5 x 4 = 20\n",
      "5 x 5 = 25\n",
      "5 x 6 = 30\n",
      "5 x 7 = 35\n",
      "5 x 8 = 40\n",
      "5 x 9 = 45\n",
      "5 x 10 = 50\n"
     ]
    }
   ],
   "source": [
    "#print table using for loop\n",
    "n=int(input(\"Enter any number: \"))\n",
    "print(\"The table of\",n,\"is\")\n",
    "for i in range(1,11):\n",
    "    print(n,\"x\",i,\"=\",n*i)"
   ]
  },
  {
   "cell_type": "code",
   "execution_count": 45,
   "id": "e52d3687",
   "metadata": {},
   "outputs": [
    {
     "name": "stdout",
     "output_type": "stream",
     "text": [
      "p\n",
      "y\n",
      "t\n"
     ]
    }
   ],
   "source": [
    "#use of break with for loop\n",
    "for i in 'python':\n",
    "    if i=='h':\n",
    "        break\n",
    "    else:\n",
    "        print(i)"
   ]
  },
  {
   "cell_type": "code",
   "execution_count": 44,
   "id": "f9920ac2",
   "metadata": {},
   "outputs": [
    {
     "name": "stdout",
     "output_type": "stream",
     "text": [
      "p\n",
      "y\n",
      "t\n",
      "o\n",
      "n\n"
     ]
    }
   ],
   "source": [
    "#use of continue with for loop\n",
    "for i in 'python':\n",
    "    if i=='h':\n",
    "        continue\n",
    "    else:\n",
    "        print(i)"
   ]
  },
  {
   "cell_type": "code",
   "execution_count": 49,
   "id": "ba798a00",
   "metadata": {},
   "outputs": [
    {
     "name": "stdout",
     "output_type": "stream",
     "text": [
      "Enter a string: Soham Ghosh\n",
      "The vowels are \n",
      "o a o "
     ]
    }
   ],
   "source": [
    "#wap to print vowels using for loop\n",
    "en=input(\"Enter a string: \")\n",
    "print(\"The vowels are \")\n",
    "for i in en:\n",
    "    if i in ['a','e','i','o','u','A','E','I','O','U']:\n",
    "        print(i,end=\" \")"
   ]
  },
  {
   "cell_type": "code",
   "execution_count": 52,
   "id": "9ae69281",
   "metadata": {},
   "outputs": [
    {
     "name": "stdout",
     "output_type": "stream",
     "text": [
      "Enter any number: 10\n",
      "The factors of 10 are \n",
      "1 2 5 10 "
     ]
    }
   ],
   "source": [
    "#wap to print the factors of an entered number\n",
    "a=int(input(\"Enter any number: \"))\n",
    "print(\"The factors of\",a,\"are \")\n",
    "for i in range(1,a+1):\n",
    "    if a%i==0:\n",
    "        print(i,end=\" \")"
   ]
  },
  {
   "cell_type": "code",
   "execution_count": null,
   "id": "cdcf1e5b",
   "metadata": {},
   "outputs": [],
   "source": []
  }
 ],
 "metadata": {
  "kernelspec": {
   "display_name": "Python 3 (ipykernel)",
   "language": "python",
   "name": "python3"
  },
  "language_info": {
   "codemirror_mode": {
    "name": "ipython",
    "version": 3
   },
   "file_extension": ".py",
   "mimetype": "text/x-python",
   "name": "python",
   "nbconvert_exporter": "python",
   "pygments_lexer": "ipython3",
   "version": "3.9.13"
  }
 },
 "nbformat": 4,
 "nbformat_minor": 5
}
