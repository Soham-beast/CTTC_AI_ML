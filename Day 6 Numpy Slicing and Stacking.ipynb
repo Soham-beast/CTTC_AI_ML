{
 "cells": [
  {
   "cell_type": "code",
   "execution_count": 1,
   "id": "d9d65d4b",
   "metadata": {},
   "outputs": [],
   "source": [
    "import numpy as np"
   ]
  },
  {
   "cell_type": "code",
   "execution_count": 2,
   "id": "a65e32b9",
   "metadata": {},
   "outputs": [
    {
     "data": {
      "text/plain": [
       "array([[1, 3, 5, 7],\n",
       "       [2, 4, 6, 8],\n",
       "       [1, 4, 9, 4]])"
      ]
     },
     "execution_count": 2,
     "metadata": {},
     "output_type": "execute_result"
    }
   ],
   "source": [
    "b = np.array([[1,3,5,7],[2,4,6,8],[1,4,9,4]])          #array of 3x4\n",
    "b"
   ]
  },
  {
   "cell_type": "code",
   "execution_count": 4,
   "id": "b55a9244",
   "metadata": {},
   "outputs": [
    {
     "data": {
      "text/plain": [
       "6"
      ]
     },
     "execution_count": 4,
     "metadata": {},
     "output_type": "execute_result"
    }
   ],
   "source": [
    "#syntax:- mat[row index, column index]\n",
    "b[1,2]"
   ]
  },
  {
   "cell_type": "code",
   "execution_count": 5,
   "id": "7985c334",
   "metadata": {
    "scrolled": true
   },
   "outputs": [
    {
     "name": "stdout",
     "output_type": "stream",
     "text": [
      "[[21 28  5 31 18 29 36  1]\n",
      " [ 1  1 14 16 12 40 48 36]\n",
      " [44 38 45 13 22 49 31 49]\n",
      " [ 3 10 18 37  7 18  1 43]\n",
      " [29 39 33 38 25 40 44  8]\n",
      " [46  4 28 29 31  1 25  4]\n",
      " [47  2 37  6  5 48 45  8]\n",
      " [19  7 17 24 31 14  1  4]]\n"
     ]
    }
   ],
   "source": [
    "a = np.random.randint(1,50,(8,8))\n",
    "print (a)"
   ]
  },
  {
   "cell_type": "code",
   "execution_count": 6,
   "id": "25c1deaa",
   "metadata": {},
   "outputs": [
    {
     "data": {
      "text/plain": [
       "14"
      ]
     },
     "execution_count": 6,
     "metadata": {},
     "output_type": "execute_result"
    }
   ],
   "source": [
    "a[1,2]        #element at row 1 and coumn 2"
   ]
  },
  {
   "cell_type": "code",
   "execution_count": 7,
   "id": "1d036a5e",
   "metadata": {},
   "outputs": [
    {
     "data": {
      "text/plain": [
       "array([ 3, 10, 18, 37,  7, 18,  1, 43])"
      ]
     },
     "execution_count": 7,
     "metadata": {},
     "output_type": "execute_result"
    }
   ],
   "source": [
    "a[3]         #display row 3"
   ]
  },
  {
   "cell_type": "code",
   "execution_count": 8,
   "id": "1d1d1a68",
   "metadata": {},
   "outputs": [
    {
     "data": {
      "text/plain": [
       "array([47,  2, 37,  6,  5, 48, 45,  8])"
      ]
     },
     "execution_count": 8,
     "metadata": {},
     "output_type": "execute_result"
    }
   ],
   "source": [
    "a[-2]     #display the last 2nd row"
   ]
  },
  {
   "cell_type": "code",
   "execution_count": 9,
   "id": "a1c0111a",
   "metadata": {},
   "outputs": [],
   "source": [
    "#mat[row slicing, column slicing]\n",
    "#row slicing: [start:stop+1: step]\n",
    "#column slicing: [start:stop+1:step]"
   ]
  },
  {
   "cell_type": "code",
   "execution_count": 12,
   "id": "97be411e",
   "metadata": {},
   "outputs": [
    {
     "data": {
      "text/plain": [
       "array([[47,  8, 44,  1,  6],\n",
       "       [ 6,  7, 23, 23, 37],\n",
       "       [28,  2, 33,  7, 46],\n",
       "       [45, 37, 48,  6, 12],\n",
       "       [41, 27,  5, 45, 32]])"
      ]
     },
     "execution_count": 12,
     "metadata": {},
     "output_type": "execute_result"
    }
   ],
   "source": [
    "a[0:5:1,2:7:1]        #both row and column slicing"
   ]
  },
  {
   "cell_type": "code",
   "execution_count": 13,
   "id": "5810ccb2",
   "metadata": {},
   "outputs": [
    {
     "data": {
      "text/plain": [
       "array([[ 5, 47, 44,  6],\n",
       "       [39,  6, 23, 37],\n",
       "       [40, 28, 33, 46],\n",
       "       [40, 45, 48, 12],\n",
       "       [38, 41,  5, 32],\n",
       "       [ 7, 41, 17,  5],\n",
       "       [47, 18,  8, 33],\n",
       "       [45, 31,  7, 49]])"
      ]
     },
     "execution_count": 13,
     "metadata": {},
     "output_type": "execute_result"
    }
   ],
   "source": [
    "a[::,0:8:2]    #column slicing only, but display all rows"
   ]
  },
  {
   "cell_type": "code",
   "execution_count": 14,
   "id": "c92e02a1",
   "metadata": {},
   "outputs": [],
   "source": [
    "#concatenation"
   ]
  },
  {
   "cell_type": "code",
   "execution_count": 15,
   "id": "2f3f19a8",
   "metadata": {},
   "outputs": [
    {
     "name": "stdout",
     "output_type": "stream",
     "text": [
      "[[ 1  2  3]\n",
      " [ 8  9  5]\n",
      " [ 7  4 10]]\n",
      "[[2 3 4]\n",
      " [8 9 3]\n",
      " [3 6 9]]\n"
     ]
    }
   ],
   "source": [
    "a = np.array([[1,2,3],[8,9,5],[7,4,10]])\n",
    "b = np.array([[2,3,4],[8,9,3],[3,6,9]])\n",
    "\n",
    "print(a)\n",
    "print(b)"
   ]
  },
  {
   "cell_type": "code",
   "execution_count": 16,
   "id": "3c67810f",
   "metadata": {},
   "outputs": [
    {
     "data": {
      "text/plain": [
       "array([[ 1,  2,  3],\n",
       "       [ 8,  9,  5],\n",
       "       [ 7,  4, 10],\n",
       "       [ 2,  3,  4],\n",
       "       [ 8,  9,  3],\n",
       "       [ 3,  6,  9]])"
      ]
     },
     "execution_count": 16,
     "metadata": {},
     "output_type": "execute_result"
    }
   ],
   "source": [
    "np.concatenate((a,b),axis=0)       #by default it is row wise concatenation, axis=0"
   ]
  },
  {
   "cell_type": "code",
   "execution_count": 17,
   "id": "ce1437e2",
   "metadata": {},
   "outputs": [
    {
     "data": {
      "text/plain": [
       "array([[ 1,  2,  3,  2,  3,  4],\n",
       "       [ 8,  9,  5,  8,  9,  3],\n",
       "       [ 7,  4, 10,  3,  6,  9]])"
      ]
     },
     "execution_count": 17,
     "metadata": {},
     "output_type": "execute_result"
    }
   ],
   "source": [
    "np.concatenate((a,b),axis=1)       #for column, axis=1"
   ]
  },
  {
   "cell_type": "code",
   "execution_count": 18,
   "id": "89ded609",
   "metadata": {},
   "outputs": [],
   "source": [
    "#vertical stack-> rowwise\n",
    "#horizontal stack-> columnwise"
   ]
  },
  {
   "cell_type": "code",
   "execution_count": 20,
   "id": "4d7e5e43",
   "metadata": {},
   "outputs": [
    {
     "data": {
      "text/plain": [
       "array([[ 1,  2,  3],\n",
       "       [ 8,  9,  5],\n",
       "       [ 7,  4, 10],\n",
       "       [ 2,  3,  4],\n",
       "       [ 8,  9,  3],\n",
       "       [ 3,  6,  9]])"
      ]
     },
     "execution_count": 20,
     "metadata": {},
     "output_type": "execute_result"
    }
   ],
   "source": [
    "np.vstack((a,b))      #vertically/rowise joining"
   ]
  },
  {
   "cell_type": "code",
   "execution_count": 21,
   "id": "b3b98d36",
   "metadata": {},
   "outputs": [
    {
     "data": {
      "text/plain": [
       "array([[ 1,  2,  3,  2,  3,  4],\n",
       "       [ 8,  9,  5,  8,  9,  3],\n",
       "       [ 7,  4, 10,  3,  6,  9]])"
      ]
     },
     "execution_count": 21,
     "metadata": {},
     "output_type": "execute_result"
    }
   ],
   "source": [
    "np.hstack((a,b))      #horizontally/columnise joining"
   ]
  }
 ],
 "metadata": {
  "kernelspec": {
   "display_name": "Python 3 (ipykernel)",
   "language": "python",
   "name": "python3"
  },
  "language_info": {
   "codemirror_mode": {
    "name": "ipython",
    "version": 3
   },
   "file_extension": ".py",
   "mimetype": "text/x-python",
   "name": "python",
   "nbconvert_exporter": "python",
   "pygments_lexer": "ipython3",
   "version": "3.9.7"
  }
 },
 "nbformat": 4,
 "nbformat_minor": 5
}
