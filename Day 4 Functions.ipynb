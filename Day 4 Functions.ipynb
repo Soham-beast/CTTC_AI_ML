{
 "cells": [
  {
   "cell_type": "code",
   "execution_count": 11,
   "id": "c323af27",
   "metadata": {},
   "outputs": [
    {
     "name": "stdout",
     "output_type": "stream",
     "text": [
      "Enter any number: 334\n",
      "36\n"
     ]
    }
   ],
   "source": [
    "#wap to find the product of digits of a number \n",
    "n=str(input(\"Enter any number: \"))\n",
    "p=1\n",
    "x=0\n",
    "for i in range(len(n)):\n",
    "    x= int(n[i])\n",
    "    p*=x\n",
    "print(p)"
   ]
  },
  {
   "cell_type": "code",
   "execution_count": 2,
   "id": "bd731c3a",
   "metadata": {},
   "outputs": [
    {
     "name": "stdout",
     "output_type": "stream",
     "text": [
      "Enter the start position: 255\n",
      "Enter the end position: 59\n",
      "Sum of even numbers in the given range is: 0\n"
     ]
    }
   ],
   "source": [
    "#find the sum of even numbers to an entered range\n",
    "a=int(input(\"Enter the start position: \"))\n",
    "b=int(input(\"Enter the end position: \"))\n",
    "s=0\n",
    "while a<=b:\n",
    "    if a%2==0:\n",
    "        s+=a\n",
    "    a+=1\n",
    "print(\"Sum of even numbers in the given range is:\",s)"
   ]
  },
  {
   "cell_type": "code",
   "execution_count": 12,
   "id": "82bed29a",
   "metadata": {},
   "outputs": [
    {
     "name": "stdout",
     "output_type": "stream",
     "text": [
      "Enter any number: 6\n",
      "It is not a prime number\n"
     ]
    }
   ],
   "source": [
    "#wap to check whether a number is prime number or not\n",
    "n=int(input(\"Enter any number: \"))\n",
    "i=0\n",
    "div=2\n",
    "while div<n:\n",
    "    if n%div==0:\n",
    "        i+=1\n",
    "    div+=1\n",
    "if i==0:\n",
    "    print(\"It is a prime number\")\n",
    "else:\n",
    "    print(\"It is not a prime number\")"
   ]
  },
  {
   "cell_type": "code",
   "execution_count": 16,
   "id": "d1703caf",
   "metadata": {},
   "outputs": [
    {
     "name": "stdout",
     "output_type": "stream",
     "text": [
      "Enter any number: 6\n",
      "Its not prime\n"
     ]
    }
   ],
   "source": [
    "#wap to check whether a number is prime number or not\n",
    "n=int(input(\"Enter any number: \"))\n",
    "c=0\n",
    "for i in range(2,n//2):\n",
    "    if n%i==0:\n",
    "        c+=1\n",
    "        break\n",
    "if c==0:\n",
    "    print(\"It is prime\")\n",
    "else:\n",
    "    print(\"Its not prime\")"
   ]
  },
  {
   "cell_type": "code",
   "execution_count": 12,
   "id": "3fb6752e",
   "metadata": {},
   "outputs": [
    {
     "name": "stdout",
     "output_type": "stream",
     "text": [
      "Enter a password: Soham@123\n",
      "Your entered password is correct!!\n"
     ]
    }
   ],
   "source": [
    "#wap to validate the password and the conditions are:\n",
    "#1.length must be >=8 character\n",
    "#2.should contain atleast 1 lowercase character\n",
    "#3.should contain atleast 1 uppercase character\n",
    "#4.should contain atleast 1 digit\n",
    "#5.should contain atleast 1 special character\n",
    "\n",
    "en=input(\"Enter a password: \")\n",
    "l=u=s=d=0\n",
    "if len(en)>=8:\n",
    "    for i in en:\n",
    "        if i.islower():\n",
    "            l+=1\n",
    "        elif i.isupper():\n",
    "            u+=1\n",
    "        elif i.isdigit():\n",
    "            s+=1\n",
    "        elif i.isalnum()== False:\n",
    "            d+=1\n",
    "    if l>0 and u>0 and s>0 and d>0:\n",
    "        print(\"Your entered password is correct!!\")\n",
    "    else:\n",
    "        print(\"Invalid password!\")\n",
    "else:\n",
    "    print(\"Invalid password!\")"
   ]
  },
  {
   "cell_type": "code",
   "execution_count": 19,
   "id": "1d36e9ed",
   "metadata": {},
   "outputs": [
    {
     "name": "stdout",
     "output_type": "stream",
     "text": [
      "The sum is: 279\n"
     ]
    }
   ],
   "source": [
    "#WAP to find the sum of numbers in a list\n",
    "lis=[29,80,45,12,18,25,70]\n",
    "i=0\n",
    "s=0\n",
    "while i<len(lis):\n",
    "    s+=lis[i]\n",
    "    i+=1\n",
    "print(\"The sum is:\",s)"
   ]
  },
  {
   "cell_type": "code",
   "execution_count": 21,
   "id": "34a2ee89",
   "metadata": {},
   "outputs": [
    {
     "name": "stdout",
     "output_type": "stream",
     "text": [
      "The sum is: 279\n"
     ]
    }
   ],
   "source": [
    "#WAP to find the sum of numbers in a list\n",
    "lis=[29,80,45,12,18,25,70]\n",
    "i=len(lis)\n",
    "s=0\n",
    "while i>0:\n",
    "    s+=lis[len(lis)-i]\n",
    "    i-=1\n",
    "print(\"The sum is:\",s)"
   ]
  },
  {
   "cell_type": "code",
   "execution_count": 23,
   "id": "a3d48596",
   "metadata": {},
   "outputs": [],
   "source": [
    "#function without return statement\n",
    "def fun1():\n",
    "    print(\"Hi this is my function\")"
   ]
  },
  {
   "cell_type": "code",
   "execution_count": 26,
   "id": "3672a419",
   "metadata": {},
   "outputs": [
    {
     "name": "stdout",
     "output_type": "stream",
     "text": [
      "Hi this is my function\n"
     ]
    }
   ],
   "source": [
    "fun1()"
   ]
  },
  {
   "cell_type": "code",
   "execution_count": 27,
   "id": "e6adc1a0",
   "metadata": {},
   "outputs": [
    {
     "name": "stdout",
     "output_type": "stream",
     "text": [
      "Hi this is my function\n"
     ]
    },
    {
     "ename": "TypeError",
     "evalue": "unsupported operand type(s) for +: 'NoneType' and 'str'",
     "output_type": "error",
     "traceback": [
      "\u001b[1;31m---------------------------------------------------------------------------\u001b[0m",
      "\u001b[1;31mTypeError\u001b[0m                                 Traceback (most recent call last)",
      "\u001b[1;32m~\\AppData\\Local\\Temp\\ipykernel_10748\\2891926306.py\u001b[0m in \u001b[0;36m<module>\u001b[1;34m\u001b[0m\n\u001b[1;32m----> 1\u001b[1;33m \u001b[0mfun1\u001b[0m\u001b[1;33m(\u001b[0m\u001b[1;33m)\u001b[0m \u001b[1;33m+\u001b[0m \u001b[1;34m'yay'\u001b[0m\u001b[1;33m\u001b[0m\u001b[1;33m\u001b[0m\u001b[0m\n\u001b[0m",
      "\u001b[1;31mTypeError\u001b[0m: unsupported operand type(s) for +: 'NoneType' and 'str'"
     ]
    }
   ],
   "source": [
    "fun1() + 'yay'"
   ]
  },
  {
   "cell_type": "code",
   "execution_count": 28,
   "id": "ff6cd4e8",
   "metadata": {},
   "outputs": [],
   "source": [
    "#function with return statement\n",
    "def fun2():\n",
    "    return \"Hi this is my function\""
   ]
  },
  {
   "cell_type": "code",
   "execution_count": 31,
   "id": "06be4ac9",
   "metadata": {},
   "outputs": [
    {
     "data": {
      "text/plain": [
       "'Hi this is my function'"
      ]
     },
     "execution_count": 31,
     "metadata": {},
     "output_type": "execute_result"
    }
   ],
   "source": [
    "fun2()"
   ]
  },
  {
   "cell_type": "code",
   "execution_count": 30,
   "id": "b6937e67",
   "metadata": {},
   "outputs": [
    {
     "data": {
      "text/plain": [
       "'Hi this is my function yay'"
      ]
     },
     "execution_count": 30,
     "metadata": {},
     "output_type": "execute_result"
    }
   ],
   "source": [
    "fun2() + ' yay'"
   ]
  },
  {
   "cell_type": "code",
   "execution_count": 32,
   "id": "be2988a1",
   "metadata": {},
   "outputs": [],
   "source": [
    "#function with return statement\n",
    "def fun3():\n",
    "    return 2+4"
   ]
  },
  {
   "cell_type": "code",
   "execution_count": 33,
   "id": "0c3e54ad",
   "metadata": {},
   "outputs": [
    {
     "data": {
      "text/plain": [
       "6"
      ]
     },
     "execution_count": 33,
     "metadata": {},
     "output_type": "execute_result"
    }
   ],
   "source": [
    "fun3()"
   ]
  },
  {
   "cell_type": "code",
   "execution_count": 34,
   "id": "d2a476ad",
   "metadata": {},
   "outputs": [
    {
     "data": {
      "text/plain": [
       "14"
      ]
     },
     "execution_count": 34,
     "metadata": {},
     "output_type": "execute_result"
    }
   ],
   "source": [
    "fun3() + 8"
   ]
  },
  {
   "cell_type": "code",
   "execution_count": 35,
   "id": "a24f0b25",
   "metadata": {},
   "outputs": [],
   "source": [
    "#single argument\n",
    "def fun4(ch):\n",
    "    return ch + \" is my name!\""
   ]
  },
  {
   "cell_type": "code",
   "execution_count": 37,
   "id": "c1467b32",
   "metadata": {},
   "outputs": [
    {
     "data": {
      "text/plain": [
       "'Soham is my name!'"
      ]
     },
     "execution_count": 37,
     "metadata": {},
     "output_type": "execute_result"
    }
   ],
   "source": [
    "fun4(\"Soham\")"
   ]
  },
  {
   "cell_type": "code",
   "execution_count": 38,
   "id": "82f8f027",
   "metadata": {},
   "outputs": [],
   "source": [
    "#multiple argument\n",
    "def fun4(a,b):\n",
    "    return a+b"
   ]
  },
  {
   "cell_type": "code",
   "execution_count": 40,
   "id": "a7d512f4",
   "metadata": {},
   "outputs": [
    {
     "data": {
      "text/plain": [
       "'CTTC Bhubaneshwar'"
      ]
     },
     "execution_count": 40,
     "metadata": {},
     "output_type": "execute_result"
    }
   ],
   "source": [
    "fun4(\"CTTC \", \"Bhubaneshwar\")"
   ]
  },
  {
   "cell_type": "code",
   "execution_count": 41,
   "id": "d707fa88",
   "metadata": {},
   "outputs": [],
   "source": [
    "#default argument\n",
    "def fun5(c=2,d=5):\n",
    "    return c+d"
   ]
  },
  {
   "cell_type": "code",
   "execution_count": 43,
   "id": "a8ddee01",
   "metadata": {},
   "outputs": [
    {
     "data": {
      "text/plain": [
       "7"
      ]
     },
     "execution_count": 43,
     "metadata": {},
     "output_type": "execute_result"
    }
   ],
   "source": [
    "fun5()\n"
   ]
  },
  {
   "cell_type": "code",
   "execution_count": 44,
   "id": "87ab61be",
   "metadata": {},
   "outputs": [],
   "source": [
    "#multiple arguments\n",
    "def fun6(*args):\n",
    "    return sum(args)"
   ]
  },
  {
   "cell_type": "code",
   "execution_count": 45,
   "id": "2b28e695",
   "metadata": {},
   "outputs": [
    {
     "data": {
      "text/plain": [
       "73"
      ]
     },
     "execution_count": 45,
     "metadata": {},
     "output_type": "execute_result"
    }
   ],
   "source": [
    "fun6(21,23,2,21,6)"
   ]
  },
  {
   "cell_type": "code",
   "execution_count": 55,
   "id": "dca461f4",
   "metadata": {},
   "outputs": [],
   "source": [
    "def prime():\n",
    "    print(\"The prime numbers are \")\n",
    "    for n in range(10,1000):\n",
    "        c=0\n",
    "        for i in range(2,n//2):\n",
    "            if n%i==0:\n",
    "                c+=1\n",
    "        if c==0:\n",
    "            print(n,end=\" \")"
   ]
  },
  {
   "cell_type": "code",
   "execution_count": 56,
   "id": "e3ba249c",
   "metadata": {},
   "outputs": [
    {
     "name": "stdout",
     "output_type": "stream",
     "text": [
      "The prime numbers are \n",
      "11 13 17 19 23 29 31 37 41 43 47 53 59 61 67 71 73 79 83 89 97 101 103 107 109 113 127 131 137 139 149 151 157 163 167 173 179 181 191 193 197 199 211 223 227 229 233 239 241 251 257 263 269 271 277 281 283 293 307 311 313 317 331 337 347 349 353 359 367 373 379 383 389 397 401 409 419 421 431 433 439 443 449 457 461 463 467 479 487 491 499 503 509 521 523 541 547 557 563 569 571 577 587 593 599 601 607 613 617 619 631 641 643 647 653 659 661 673 677 683 691 701 709 719 727 733 739 743 751 757 761 769 773 787 797 809 811 821 823 827 829 839 853 857 859 863 877 881 883 887 907 911 919 929 937 941 947 953 967 971 977 983 991 997 "
     ]
    }
   ],
   "source": [
    "prime()"
   ]
  },
  {
   "cell_type": "code",
   "execution_count": 59,
   "id": "04e9cbfd",
   "metadata": {},
   "outputs": [],
   "source": [
    "def isprime(n):\n",
    "    c=0\n",
    "    for i in range(2,n//2):\n",
    "        if n%i==0:\n",
    "            c+=1\n",
    "    if c<1:\n",
    "        return True\n",
    "    else:\n",
    "        return False"
   ]
  },
  {
   "cell_type": "code",
   "execution_count": 60,
   "id": "5f3921de",
   "metadata": {},
   "outputs": [
    {
     "data": {
      "text/plain": [
       "True"
      ]
     },
     "execution_count": 60,
     "metadata": {},
     "output_type": "execute_result"
    }
   ],
   "source": [
    "isprime(23)"
   ]
  },
  {
   "cell_type": "code",
   "execution_count": 63,
   "id": "a85abd6a",
   "metadata": {},
   "outputs": [
    {
     "name": "stdout",
     "output_type": "stream",
     "text": [
      "11 13 17 19 23 29 31 37 41 43 47 53 59 61 67 71 73 79 83 89 97 101 103 107 109 113 127 131 137 139 149 151 157 163 167 173 179 181 191 193 197 199 211 223 227 229 233 239 241 251 257 263 269 271 277 281 283 293 307 311 313 317 331 337 347 349 353 359 367 373 379 383 389 397 401 409 419 421 431 433 439 443 449 457 461 463 467 479 487 491 499 503 509 521 523 541 547 557 563 569 571 577 587 593 599 601 607 613 617 619 631 641 643 647 653 659 661 673 677 683 691 701 709 719 727 733 739 743 751 757 761 769 773 787 797 809 811 821 823 827 829 839 853 857 859 863 877 881 883 887 907 911 919 929 937 941 947 953 967 971 977 983 991 997 "
     ]
    }
   ],
   "source": [
    "for i in range(10,1000):\n",
    "    if isprime(i):\n",
    "        print(i,end=\" \")\n",
    "        "
   ]
  },
  {
   "cell_type": "code",
   "execution_count": 65,
   "id": "07c88790",
   "metadata": {},
   "outputs": [],
   "source": [
    "#recursion funtions-> function calls itself\n",
    "def fact(n):\n",
    "    if n==0 or n==1:\n",
    "        return 1\n",
    "    else:\n",
    "        return fact(n-1)*n"
   ]
  },
  {
   "cell_type": "code",
   "execution_count": 67,
   "id": "75fa36b8",
   "metadata": {},
   "outputs": [
    {
     "data": {
      "text/plain": [
       "120"
      ]
     },
     "execution_count": 67,
     "metadata": {},
     "output_type": "execute_result"
    }
   ],
   "source": [
    "fact(5)"
   ]
  },
  {
   "cell_type": "code",
   "execution_count": null,
   "id": "1df5e1bc",
   "metadata": {},
   "outputs": [],
   "source": [
    "fact(6)\n",
    "fact(6-1)*6   \n",
    "fact(5-1)*5    ->6\n",
    "fact(4-1)*4    ->6,5\n",
    "fact(3-1)*3    ->6,5,4\n",
    "fact(2-1)*2    ->6,5,4,3\n",
    "fact(1-1)*1    ->6,5,4,3,2\n",
    "return 1*2*3*4*5*6"
   ]
  }
 ],
 "metadata": {
  "kernelspec": {
   "display_name": "Python 3 (ipykernel)",
   "language": "python",
   "name": "python3"
  },
  "language_info": {
   "codemirror_mode": {
    "name": "ipython",
    "version": 3
   },
   "file_extension": ".py",
   "mimetype": "text/x-python",
   "name": "python",
   "nbconvert_exporter": "python",
   "pygments_lexer": "ipython3",
   "version": "3.9.13"
  }
 },
 "nbformat": 4,
 "nbformat_minor": 5
}
