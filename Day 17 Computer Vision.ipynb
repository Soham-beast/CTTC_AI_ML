# -*- coding: utf-8 -*-
"""
Created on Mon Jun  5 09:44:36 2023

@author: CTTC
"""

#'computer vision', otherwise known as image processing, enable machines to read and interpret images
#a image with 100px by 100px states that a image is stored in a pixels matrix of 100x100
#color intensity ranges from 0 to 255, also known as 'Gray Scale'
#the primary color is the intensity combination for R, G and B
#the range of each color of R,G and B is also from 0 to 255
#the 0 on 'gray scale' is black and 255 on 'gray scale' is white.
#R-255,G-0,B-0 is Red color; R-0,G-255,B-0 is Green color; R-0,G-0,B-255 is Blue color


import cv2
