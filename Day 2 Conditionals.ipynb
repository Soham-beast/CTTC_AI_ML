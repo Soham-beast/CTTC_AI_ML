{
 "cells": [
  {
   "cell_type": "code",
   "execution_count": 1,
   "id": "6aa91828",
   "metadata": {},
   "outputs": [
    {
     "name": "stdout",
     "output_type": "stream",
     "text": [
      "\n",
      "Here is a list of the Python keywords.  Enter any keyword to get more help.\n",
      "\n",
      "False               break               for                 not\n",
      "None                class               from                or\n",
      "True                continue            global              pass\n",
      "__peg_parser__      def                 if                  raise\n",
      "and                 del                 import              return\n",
      "as                  elif                in                  try\n",
      "assert              else                is                  while\n",
      "async               except              lambda              with\n",
      "await               finally             nonlocal            yield\n",
      "\n"
     ]
    }
   ],
   "source": [
    "help('keywords')"
   ]
  },
  {
   "cell_type": "code",
   "execution_count": 2,
   "id": "0ac4aff6",
   "metadata": {},
   "outputs": [
    {
     "ename": "SyntaxError",
     "evalue": "invalid syntax (4016569692.py, line 1)",
     "output_type": "error",
     "traceback": [
      "\u001b[1;36m  File \u001b[1;32m\"C:\\Users\\CTTC1\\AppData\\Local\\Temp\\ipykernel_10992\\4016569692.py\"\u001b[1;36m, line \u001b[1;32m1\u001b[0m\n\u001b[1;33m    2var=6\u001b[0m\n\u001b[1;37m     ^\u001b[0m\n\u001b[1;31mSyntaxError\u001b[0m\u001b[1;31m:\u001b[0m invalid syntax\n"
     ]
    }
   ],
   "source": [
    "2var=6"
   ]
  },
  {
   "cell_type": "code",
   "execution_count": 7,
   "id": "531c07da",
   "metadata": {},
   "outputs": [
    {
     "ename": "SyntaxError",
     "evalue": "invalid syntax (2044327371.py, line 1)",
     "output_type": "error",
     "traceback": [
      "\u001b[1;36m  File \u001b[1;32m\"C:\\Users\\CTTC1\\AppData\\Local\\Temp\\ipykernel_10992\\2044327371.py\"\u001b[1;36m, line \u001b[1;32m1\u001b[0m\n\u001b[1;33m    2var = 6\u001b[0m\n\u001b[1;37m     ^\u001b[0m\n\u001b[1;31mSyntaxError\u001b[0m\u001b[1;31m:\u001b[0m invalid syntax\n"
     ]
    }
   ],
   "source": [
    " = 6"
   ]
  },
  {
   "cell_type": "code",
   "execution_count": 5,
   "id": "f4b49bdd",
   "metadata": {},
   "outputs": [],
   "source": [
    "var_2 = 3"
   ]
  },
  {
   "cell_type": "code",
   "execution_count": 9,
   "id": "5da15ce4",
   "metadata": {},
   "outputs": [
    {
     "name": "stdout",
     "output_type": "stream",
     "text": [
      "6\n"
     ]
    }
   ],
   "source": [
    "var_2 = 6\n",
    "print(var_2)"
   ]
  },
  {
   "cell_type": "code",
   "execution_count": 38,
   "id": "5f514990",
   "metadata": {},
   "outputs": [
    {
     "name": "stdout",
     "output_type": "stream",
     "text": [
      "{2, 4, 5, 8, 9, 10}\n"
     ]
    }
   ],
   "source": [
    "lis = [2,8,9,10,2,4,8,10,5]\n",
    "s= set(lis)\n",
    "print(s)"
   ]
  },
  {
   "cell_type": "code",
   "execution_count": 33,
   "id": "aa90ce30",
   "metadata": {},
   "outputs": [
    {
     "name": "stdout",
     "output_type": "stream",
     "text": [
      "15\n"
     ]
    }
   ],
   "source": [
    "a=10\n",
    "a+=5   # a=a+5\n",
    "print(a)"
   ]
  },
  {
   "cell_type": "code",
   "execution_count": 34,
   "id": "5704332b",
   "metadata": {},
   "outputs": [
    {
     "name": "stdout",
     "output_type": "stream",
     "text": [
      "5\n"
     ]
    }
   ],
   "source": [
    "a=10\n",
    "a-=5   # a=a-5\n",
    "print(a)"
   ]
  },
  {
   "cell_type": "code",
   "execution_count": 35,
   "id": "86561757",
   "metadata": {},
   "outputs": [
    {
     "name": "stdout",
     "output_type": "stream",
     "text": [
      "50\n"
     ]
    }
   ],
   "source": [
    "a=10\n",
    "a*=5   # a=a*5\n",
    "print(a)"
   ]
  },
  {
   "cell_type": "code",
   "execution_count": 36,
   "id": "d8913a07",
   "metadata": {},
   "outputs": [
    {
     "name": "stdout",
     "output_type": "stream",
     "text": [
      "2.0\n"
     ]
    }
   ],
   "source": [
    "a=10\n",
    "a/=5   # a=a/5\n",
    "print(a)"
   ]
  },
  {
   "cell_type": "code",
   "execution_count": 37,
   "id": "5705b956",
   "metadata": {},
   "outputs": [
    {
     "name": "stdout",
     "output_type": "stream",
     "text": [
      "0\n"
     ]
    }
   ],
   "source": [
    "a=10\n",
    "a%=5   # a=a%5\n",
    "print(a)"
   ]
  },
  {
   "cell_type": "code",
   "execution_count": 40,
   "id": "873700c8",
   "metadata": {},
   "outputs": [
    {
     "name": "stdout",
     "output_type": "stream",
     "text": [
      "15\n",
      "5\n",
      "50\n",
      "2.0\n",
      "0\n",
      "2\n",
      "100000\n"
     ]
    }
   ],
   "source": [
    "a=10 \n",
    "b=5\n",
    "print(a+b)\n",
    "print(a-b)\n",
    "print(a*b)\n",
    "print(a/b)\n",
    "print(a%b)\n",
    "print(a//b)\n",
    "print(a**b)"
   ]
  },
  {
   "cell_type": "code",
   "execution_count": 44,
   "id": "193ae1c5",
   "metadata": {},
   "outputs": [
    {
     "name": "stdout",
     "output_type": "stream",
     "text": [
      "False\n",
      "True\n",
      "True\n",
      "True\n",
      "False\n",
      "True\n"
     ]
    }
   ],
   "source": [
    "a=12 \n",
    "b=16\n",
    "c=12\n",
    "print(a>b)\n",
    "print(a<b)\n",
    "print(a<=b)\n",
    "print(a>=c)\n",
    "print(a!=c)\n",
    "print(a==c)"
   ]
  },
  {
   "cell_type": "code",
   "execution_count": 45,
   "id": "e8ac21e1",
   "metadata": {},
   "outputs": [
    {
     "name": "stdout",
     "output_type": "stream",
     "text": [
      "False\n",
      "True\n",
      "False\n"
     ]
    }
   ],
   "source": [
    "print((5>6) and (6>=6))\n",
    "print((5==5) or (5<6))\n",
    "print(not(5==5))"
   ]
  },
  {
   "cell_type": "code",
   "execution_count": 46,
   "id": "d53e5174",
   "metadata": {},
   "outputs": [
    {
     "data": {
      "text/plain": [
       "True"
      ]
     },
     "execution_count": 46,
     "metadata": {},
     "output_type": "execute_result"
    }
   ],
   "source": [
    "'u' in 'umbrella'"
   ]
  },
  {
   "cell_type": "code",
   "execution_count": 47,
   "id": "c9d6fa9d",
   "metadata": {},
   "outputs": [
    {
     "data": {
      "text/plain": [
       "True"
      ]
     },
     "execution_count": 47,
     "metadata": {},
     "output_type": "execute_result"
    }
   ],
   "source": [
    "'c' not in 'kettle'"
   ]
  },
  {
   "cell_type": "code",
   "execution_count": 48,
   "id": "49797d73",
   "metadata": {},
   "outputs": [
    {
     "data": {
      "text/plain": [
       "False"
      ]
     },
     "execution_count": 48,
     "metadata": {},
     "output_type": "execute_result"
    }
   ],
   "source": [
    "120 in [12,44,78,90]"
   ]
  },
  {
   "cell_type": "code",
   "execution_count": 53,
   "id": "15b28d61",
   "metadata": {},
   "outputs": [
    {
     "data": {
      "text/plain": [
       "True"
      ]
     },
     "execution_count": 53,
     "metadata": {},
     "output_type": "execute_result"
    }
   ],
   "source": [
    "12/2 in [6,12,44,78,90]"
   ]
  },
  {
   "cell_type": "code",
   "execution_count": 5,
   "id": "a8900990",
   "metadata": {},
   "outputs": [
    {
     "name": "stdout",
     "output_type": "stream",
     "text": [
      "Enter a year: 300\n",
      "False\n"
     ]
    }
   ],
   "source": [
    "# check leap year or not\n",
    "year = int(input(\"Enter a year: \"))\n",
    "print((year%4==0 and year%100!=0) or (year%400==0))"
   ]
  },
  {
   "cell_type": "code",
   "execution_count": 4,
   "id": "571b984d",
   "metadata": {},
   "outputs": [
    {
     "name": "stdout",
     "output_type": "stream",
     "text": [
      "Enter any number: 5587\n",
      "7\n"
     ]
    }
   ],
   "source": [
    "#write a program to find the last digit of a number\n",
    "a = int(input(\"Enter any number: \")) \n",
    "print(a%10)"
   ]
  },
  {
   "cell_type": "code",
   "execution_count": 6,
   "id": "a3b8748d",
   "metadata": {},
   "outputs": [
    {
     "name": "stdout",
     "output_type": "stream",
     "text": [
      "hi\n",
      "hello\n"
     ]
    }
   ],
   "source": [
    "if 5<6:\n",
    "    print(\"hi\")\n",
    "    print(\"hello\")"
   ]
  },
  {
   "cell_type": "code",
   "execution_count": 10,
   "id": "3ffcc87a",
   "metadata": {},
   "outputs": [
    {
     "name": "stdout",
     "output_type": "stream",
     "text": [
      "hi\n",
      "hello\n",
      "Out of block\n"
     ]
    }
   ],
   "source": [
    "if 5<6:\n",
    "    print(\"hi\")\n",
    "    print(\"hello\")\n",
    "print(\"Out of block\")"
   ]
  },
  {
   "cell_type": "code",
   "execution_count": 9,
   "id": "442891a8",
   "metadata": {},
   "outputs": [
    {
     "name": "stdout",
     "output_type": "stream",
     "text": [
      "Out of block\n"
     ]
    }
   ],
   "source": [
    "if 5>6:\n",
    "    print(\"hi\")\n",
    "    print(\"hello\")\n",
    "print(\"Out of block\")"
   ]
  },
  {
   "cell_type": "code",
   "execution_count": 12,
   "id": "57114317",
   "metadata": {},
   "outputs": [
    {
     "ename": "IndentationError",
     "evalue": "unindent does not match any outer indentation level (<tokenize>, line 3)",
     "output_type": "error",
     "traceback": [
      "\u001b[1;36m  File \u001b[1;32m\"<tokenize>\"\u001b[1;36m, line \u001b[1;32m3\u001b[0m\n\u001b[1;33m    print(\"hello\")\u001b[0m\n\u001b[1;37m    ^\u001b[0m\n\u001b[1;31mIndentationError\u001b[0m\u001b[1;31m:\u001b[0m unindent does not match any outer indentation level\n"
     ]
    }
   ],
   "source": [
    "if 5<6:\n",
    "    print(\"hi\")\n",
    "  print(\"hello\")"
   ]
  },
  {
   "cell_type": "code",
   "execution_count": 1,
   "id": "1b219850",
   "metadata": {},
   "outputs": [
    {
     "name": "stdout",
     "output_type": "stream",
     "text": [
      "Enter an age: 45\n",
      "Is eligible to vote\n"
     ]
    }
   ],
   "source": [
    "age= int(input(\"Enter an age: \"))\n",
    "if age >= 18:\n",
    "    print(\"Is eligible to vote\")"
   ]
  },
  {
   "cell_type": "code",
   "execution_count": 2,
   "id": "c5a98b9e",
   "metadata": {},
   "outputs": [
    {
     "name": "stdout",
     "output_type": "stream",
     "text": [
      "Enter an age: 15\n"
     ]
    }
   ],
   "source": [
    "age= int(input(\"Enter an age: \"))\n",
    "if age >= 18:\n",
    "    print(\"Is eligible to vote\")"
   ]
  },
  {
   "cell_type": "code",
   "execution_count": 3,
   "id": "94431638",
   "metadata": {},
   "outputs": [
    {
     "name": "stdout",
     "output_type": "stream",
     "text": [
      "Enter an age: 15\n",
      "Not eligible to vote\n"
     ]
    }
   ],
   "source": [
    "age= int(input(\"Enter an age: \"))\n",
    "if age >= 18:\n",
    "    print(\"Is eligible to vote\")\n",
    "else:\n",
    "    print(\"Not eligible to vote\")"
   ]
  },
  {
   "cell_type": "code",
   "execution_count": 5,
   "id": "462ebf72",
   "metadata": {},
   "outputs": [
    {
     "name": "stdout",
     "output_type": "stream",
     "text": [
      "Enter marks in maths: 85\n",
      "Enter marks in english: 96\n",
      "Enter marks in science: 99\n",
      "You are not eligible\n"
     ]
    }
   ],
   "source": [
    "mathsmark = int(input(\"Enter marks in maths: \"))\n",
    "engmark = int(input(\"Enter marks in english: \"))\n",
    "scmark = int(input(\"Enter marks in science: \"))\n",
    "if mathsmark>90:\n",
    "    if scmark>90:\n",
    "        if engmark>90:\n",
    "            print(\"You are eligible for scholarship!!\")\n",
    "        else:\n",
    "            print(\"You are not eligible\")\n",
    "    else:\n",
    "            print(\"You are not eligible\")\n",
    "else:\n",
    "            print(\"You are not eligible\")"
   ]
  },
  {
   "cell_type": "code",
   "execution_count": 4,
   "id": "a1c218bb",
   "metadata": {},
   "outputs": [
    {
     "name": "stdout",
     "output_type": "stream",
     "text": [
      "Enter marks in maths: 92\n",
      "Enter marks in english: 99\n",
      "Enter marks in science: 85\n"
     ]
    }
   ],
   "source": [
    "mathsmark = int(input(\"Enter marks in maths: \"))\n",
    "engmark = int(input(\"Enter marks in english: \"))\n",
    "scmark = int(input(\"Enter marks in science: \"))\n",
    "if mathsmark>90:\n",
    "    if scmark>90:\n",
    "        if engmark>90:\n",
    "            print(\"You are eligible for scholarship!!\")\n",
    "else:\n",
    "    print(\"You are not eligible\")"
   ]
  },
  {
   "cell_type": "code",
   "execution_count": 6,
   "id": "eb6d9ea7",
   "metadata": {},
   "outputs": [
    {
     "name": "stdout",
     "output_type": "stream",
     "text": [
      "Enter a number: -96\n",
      "Even and -ve\n"
     ]
    }
   ],
   "source": [
    "n=int(input(\"Enter a number: \"))\n",
    "if n%2==0:\n",
    "    if n>0:\n",
    "        print(\"Even and +ve\")\n",
    "    else:\n",
    "        print(\"Even and -ve\")\n",
    "else:\n",
    "    if n>0:\n",
    "        print(\"Odd and +ve\")\n",
    "    else:\n",
    "        print(\"Odd and -ve\")"
   ]
  },
  {
   "cell_type": "code",
   "execution_count": 8,
   "id": "273cb2cb",
   "metadata": {},
   "outputs": [
    {
     "name": "stdout",
     "output_type": "stream",
     "text": [
      "Enter a number: -9\n",
      "Odd and -ve\n"
     ]
    }
   ],
   "source": [
    "n=int(input(\"Enter a number: \"))\n",
    "if n%2==0 and n>0:\n",
    "    print(\"Even and +ve\")\n",
    "elif n%2==0 and n<0:\n",
    "    print(\"Even and -ve\")\n",
    "elif n%2!=0 and n>0:\n",
    "    print(\"Odd and +ve\")\n",
    "elif n%2!=0 and n<0:\n",
    "    print(\"Odd and -ve\")"
   ]
  },
  {
   "cell_type": "code",
   "execution_count": 15,
   "id": "4d76025e",
   "metadata": {},
   "outputs": [
    {
     "name": "stdout",
     "output_type": "stream",
     "text": [
      "Enter total number of classes held: 100\n",
      "Enter total number of classes attended: 75\n",
      "Eligible to give the exam\n"
     ]
    }
   ],
   "source": [
    "a=int(input(\"Enter total number of classes held: \"))\n",
    "b=int(input(\"Enter total number of classes attended: \"))\n",
    "if ((b*100)/a)>=75:\n",
    "    print(\"Eligible to give the exam\")\n",
    "else:\n",
    "    print(\"Not eligible\")"
   ]
  },
  {
   "cell_type": "code",
   "execution_count": null,
   "id": "2a5e8eb0",
   "metadata": {},
   "outputs": [],
   "source": [
    "ch= input(\"Enter a letter: \")\n",
    "if ch=='a' or ch=='e' or ch=='i' or ch=='o' or ch=='u':\n",
    "    print(\"is vowel and lowercase\")\n",
    "elif ch=='A' or ch=='E' or ch=='I' or ch=='O' or ch=='U':\n",
    "    print(\"is vowel and uppercase\")\n",
    "else:\n",
    "    print(\"Not vowel\")"
   ]
  }
 ],
 "metadata": {
  "kernelspec": {
   "display_name": "Python 3 (ipykernel)",
   "language": "python",
   "name": "python3"
  },
  "language_info": {
   "codemirror_mode": {
    "name": "ipython",
    "version": 3
   },
   "file_extension": ".py",
   "mimetype": "text/x-python",
   "name": "python",
   "nbconvert_exporter": "python",
   "pygments_lexer": "ipython3",
   "version": "3.9.13"
  }
 },
 "nbformat": 4,
 "nbformat_minor": 5
}
