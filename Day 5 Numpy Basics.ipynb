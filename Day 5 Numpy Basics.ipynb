{
 "cells": [
  {
   "cell_type": "code",
   "execution_count": 5,
   "id": "bb9a3af1",
   "metadata": {},
   "outputs": [
    {
     "name": "stdout",
     "output_type": "stream",
     "text": [
      "Enter temperature in Celsius: 10\n",
      "The temp is: 50.0 F\n",
      "\n",
      "The temperature table is as under\n",
      "10 C  =  50.0 F\n",
      "20 C  =  68.0 F\n",
      "30 C  =  86.0 F\n",
      "40 C  =  104.0 F\n"
     ]
    }
   ],
   "source": [
    "def cel2far(t):\n",
    "    c=((t*9)/5)+32\n",
    "    return c\n",
    "\n",
    "n=float(input(\"Enter temperature in Celsius: \"))\n",
    "print(\"The temp is:\",cel2far(n),\"F\")\n",
    "\n",
    "print(\"\\nThe temperature table is as under\")\n",
    "for i in range(10,41,10):\n",
    "    print(i,\"C\",\" = \",cel2far(i),\"F\")"
   ]
  },
  {
   "cell_type": "code",
   "execution_count": 11,
   "id": "b72240f5",
   "metadata": {},
   "outputs": [
    {
     "name": "stdout",
     "output_type": "stream",
     "text": [
      "Enter any sentence: Hello I am Soham\n",
      "The number of vowels is: 6\n",
      "The number of consonants is: 7\n",
      "The number of spaces is: 3\n"
     ]
    }
   ],
   "source": [
    "def vowels(en):\n",
    "    c=0\n",
    "    vowel=\"aeiouAEIOU\"\n",
    "    for i in en:\n",
    "        if i in vowel:\n",
    "            c+=1\n",
    "    return c\n",
    "\n",
    "def  spacing(en):\n",
    "    c=0\n",
    "    for i in en:\n",
    "        if i.isspace():\n",
    "            c+=1\n",
    "    return c\n",
    "\n",
    "def consonants(en):\n",
    "    c=0\n",
    "    for i in en:\n",
    "        if i.isalpha():\n",
    "            c+=1\n",
    "    c-=vowels(en)\n",
    "    return c\n",
    "\n",
    "n=input(\"Enter any sentence: \")\n",
    "\n",
    "print(\"The number of vowels is:\",vowels(n))\n",
    "print(\"The number of consonants is:\",consonants(n))\n",
    "print(\"The number of spaces is:\",spacing(n))"
   ]
  },
  {
   "cell_type": "code",
   "execution_count": 2,
   "id": "66ecbab9",
   "metadata": {},
   "outputs": [],
   "source": [
    "def rec(s):\n",
    "    vowel = 'aeiouAEIOU'\n",
    "    if s=='':\n",
    "        return 0\n",
    "    elif s[0] in vowel:\n",
    "        return 1 + rec(s[1:])\n",
    "    else: \n",
    "        return 0 + rec(s[1:])\n"
   ]
  },
  {
   "cell_type": "code",
   "execution_count": 3,
   "id": "448b11af",
   "metadata": {},
   "outputs": [
    {
     "data": {
      "text/plain": [
       "6"
      ]
     },
     "execution_count": 3,
     "metadata": {},
     "output_type": "execute_result"
    }
   ],
   "source": [
    "rec(\"Hello I am Soham\")"
   ]
  },
  {
   "cell_type": "markdown",
   "id": "3ff00a10",
   "metadata": {},
   "source": [
    "# Numpy"
   ]
  },
  {
   "cell_type": "code",
   "execution_count": 3,
   "id": "93d23a32",
   "metadata": {},
   "outputs": [],
   "source": [
    "import numpy as np"
   ]
  },
  {
   "cell_type": "code",
   "execution_count": 4,
   "id": "07b47d64",
   "metadata": {},
   "outputs": [
    {
     "data": {
      "text/plain": [
       "'1.21.5'"
      ]
     },
     "execution_count": 4,
     "metadata": {},
     "output_type": "execute_result"
    }
   ],
   "source": [
    "np.__version__"
   ]
  },
  {
   "cell_type": "code",
   "execution_count": 13,
   "id": "3ddb3aa4",
   "metadata": {},
   "outputs": [
    {
     "data": {
      "text/plain": [
       "array([1, 2, 3, 4, 5])"
      ]
     },
     "execution_count": 13,
     "metadata": {},
     "output_type": "execute_result"
    }
   ],
   "source": [
    "#1-D array\n",
    "a = np.array([1,2,3,4,5])     #creattion of a single dimensional array\n",
    "a"
   ]
  },
  {
   "cell_type": "code",
   "execution_count": 6,
   "id": "0cbe0ca7",
   "metadata": {},
   "outputs": [
    {
     "data": {
      "text/plain": [
       "numpy.ndarray"
      ]
     },
     "execution_count": 6,
     "metadata": {},
     "output_type": "execute_result"
    }
   ],
   "source": [
    "type(a)       #type of is a multi-dimensional/ndarray "
   ]
  },
  {
   "cell_type": "code",
   "execution_count": 7,
   "id": "b4b2b33c",
   "metadata": {},
   "outputs": [
    {
     "data": {
      "text/plain": [
       "2322805698064"
      ]
     },
     "execution_count": 7,
     "metadata": {},
     "output_type": "execute_result"
    }
   ],
   "source": [
    "id(a)       #location of array 'a'"
   ]
  },
  {
   "cell_type": "code",
   "execution_count": 8,
   "id": "974a879a",
   "metadata": {},
   "outputs": [],
   "source": [
    "arr = a"
   ]
  },
  {
   "cell_type": "code",
   "execution_count": 10,
   "id": "84d7002a",
   "metadata": {},
   "outputs": [
    {
     "data": {
      "text/plain": [
       "2322805698064"
      ]
     },
     "execution_count": 10,
     "metadata": {},
     "output_type": "execute_result"
    }
   ],
   "source": [
    "id(arr)    #'arr' is just an other name for 'a'"
   ]
  },
  {
   "cell_type": "code",
   "execution_count": 11,
   "id": "a655e017",
   "metadata": {},
   "outputs": [],
   "source": [
    "a1 = np.copy(a)    #'a1' takes value of 'a' such that "
   ]
  },
  {
   "cell_type": "code",
   "execution_count": 16,
   "id": "e789616d",
   "metadata": {},
   "outputs": [
    {
     "data": {
      "text/plain": [
       "2322801711600"
      ]
     },
     "execution_count": 16,
     "metadata": {},
     "output_type": "execute_result"
    }
   ],
   "source": [
    "id(a1)         #location of 'a1' is different than that of 'a'"
   ]
  },
  {
   "cell_type": "code",
   "execution_count": 17,
   "id": "5f5b76e2",
   "metadata": {},
   "outputs": [
    {
     "data": {
      "text/plain": [
       "(1, 2, 3, 4, 5)"
      ]
     },
     "execution_count": 17,
     "metadata": {},
     "output_type": "execute_result"
    }
   ],
   "source": [
    "t = (1,2,3,4,5)    #tuple type of element\n",
    "t"
   ]
  },
  {
   "cell_type": "code",
   "execution_count": 18,
   "id": "2d98bc7e",
   "metadata": {},
   "outputs": [
    {
     "data": {
      "text/plain": [
       "tuple"
      ]
     },
     "execution_count": 18,
     "metadata": {},
     "output_type": "execute_result"
    }
   ],
   "source": [
    "type(t)"
   ]
  },
  {
   "cell_type": "code",
   "execution_count": 19,
   "id": "c487107c",
   "metadata": {},
   "outputs": [],
   "source": [
    "b = np.array(t)      #tuple converted to array"
   ]
  },
  {
   "cell_type": "code",
   "execution_count": 20,
   "id": "45f55d16",
   "metadata": {},
   "outputs": [
    {
     "data": {
      "text/plain": [
       "array([1, 2, 3, 4, 5])"
      ]
     },
     "execution_count": 20,
     "metadata": {},
     "output_type": "execute_result"
    }
   ],
   "source": [
    "b"
   ]
  },
  {
   "cell_type": "code",
   "execution_count": 21,
   "id": "907119a1",
   "metadata": {},
   "outputs": [
    {
     "data": {
      "text/plain": [
       "numpy.ndarray"
      ]
     },
     "execution_count": 21,
     "metadata": {},
     "output_type": "execute_result"
    }
   ],
   "source": [
    "type(b)"
   ]
  },
  {
   "cell_type": "code",
   "execution_count": 22,
   "id": "e7dd31ce",
   "metadata": {},
   "outputs": [
    {
     "data": {
      "text/plain": [
       "dict"
      ]
     },
     "execution_count": 22,
     "metadata": {},
     "output_type": "execute_result"
    }
   ],
   "source": [
    "#creating array from dictionary\n",
    "d={'a':1,'b':2,'c':3}\n",
    "type(d)"
   ]
  },
  {
   "cell_type": "code",
   "execution_count": 23,
   "id": "0768d9f2",
   "metadata": {},
   "outputs": [
    {
     "data": {
      "text/plain": [
       "array({'a': 1, 'b': 2, 'c': 3}, dtype=object)"
      ]
     },
     "execution_count": 23,
     "metadata": {},
     "output_type": "execute_result"
    }
   ],
   "source": [
    "c=np.array(d)       #dictionary to array conversion\n",
    "c"
   ]
  },
  {
   "cell_type": "code",
   "execution_count": 24,
   "id": "96b10c73",
   "metadata": {},
   "outputs": [
    {
     "data": {
      "text/plain": [
       "numpy.ndarray"
      ]
     },
     "execution_count": 24,
     "metadata": {},
     "output_type": "execute_result"
    }
   ],
   "source": [
    "type(c)"
   ]
  },
  {
   "cell_type": "code",
   "execution_count": 25,
   "id": "c3599f91",
   "metadata": {},
   "outputs": [
    {
     "data": {
      "text/plain": [
       "array([[1, 2, 3, 4],\n",
       "       [2, 5, 6, 8]])"
      ]
     },
     "execution_count": 25,
     "metadata": {},
     "output_type": "execute_result"
    }
   ],
   "source": [
    "#2-D array\n",
    "a = np.array([[1,2,3,4],[2,5,6,8]])     #two dimensional array\n",
    "a"
   ]
  },
  {
   "cell_type": "code",
   "execution_count": 26,
   "id": "bddd7059",
   "metadata": {},
   "outputs": [
    {
     "data": {
      "text/plain": [
       "numpy.ndarray"
      ]
     },
     "execution_count": 26,
     "metadata": {},
     "output_type": "execute_result"
    }
   ],
   "source": [
    "type(a)"
   ]
  },
  {
   "cell_type": "code",
   "execution_count": 28,
   "id": "d3adc326",
   "metadata": {},
   "outputs": [
    {
     "name": "stderr",
     "output_type": "stream",
     "text": [
      "C:\\Users\\CTTC1\\AppData\\Local\\Temp\\ipykernel_9912\\441914430.py:1: VisibleDeprecationWarning: Creating an ndarray from ragged nested sequences (which is a list-or-tuple of lists-or-tuples-or ndarrays with different lengths or shapes) is deprecated. If you meant to do this, you must specify 'dtype=object' when creating the ndarray.\n",
      "  a = np.array([[1,2,3,4,5],[2,5,6,8]])   #cannot take unequal number of column elements for rows\n"
     ]
    },
    {
     "data": {
      "text/plain": [
       "array([list([1, 2, 3, 4, 5]), list([2, 5, 6, 8])], dtype=object)"
      ]
     },
     "execution_count": 28,
     "metadata": {},
     "output_type": "execute_result"
    }
   ],
   "source": [
    "a = np.array([[1,2,3,4,5],[2,5,6,8]])   #cannot take unequal number of column elements for rows\n",
    "a"
   ]
  },
  {
   "cell_type": "code",
   "execution_count": 42,
   "id": "0af19aa4",
   "metadata": {},
   "outputs": [
    {
     "data": {
      "text/plain": [
       "array([list([1, 2, 3, 4, 5]), list([2, 5, 6, 8])], dtype=object)"
      ]
     },
     "execution_count": 42,
     "metadata": {},
     "output_type": "execute_result"
    }
   ],
   "source": [
    "a = np.array([list([1, 2, 3, 4, 5]), list([2, 5, 6, 8])], dtype=object)   #the elements are declared as lists\n",
    "a"
   ]
  },
  {
   "cell_type": "code",
   "execution_count": 43,
   "id": "bc9a95a3",
   "metadata": {},
   "outputs": [
    {
     "data": {
      "text/plain": [
       "array([[1, 2, 3],\n",
       "       [4, 5, 6],\n",
       "       [7, 8, 9]])"
      ]
     },
     "execution_count": 43,
     "metadata": {},
     "output_type": "execute_result"
    }
   ],
   "source": [
    "a = np.array([[1,2,3],[4,5,6],[7,8,9]])          #multidimensional array declaration\n",
    "a"
   ]
  },
  {
   "cell_type": "code",
   "execution_count": 48,
   "id": "f72e413b",
   "metadata": {},
   "outputs": [
    {
     "data": {
      "text/plain": [
       "array([ 1,  2,  3,  4,  5,  6,  7,  8,  9, 10])"
      ]
     },
     "execution_count": 48,
     "metadata": {},
     "output_type": "execute_result"
    }
   ],
   "source": [
    "#arrange\n",
    "np.arange(1,11)         #generates evenly spaced numbers from 0 to 10; arange(start,stop+1,step)-> step is in integer"
   ]
  },
  {
   "cell_type": "code",
   "execution_count": 52,
   "id": "58cc3984",
   "metadata": {},
   "outputs": [
    {
     "data": {
      "text/plain": [
       "array([ 1,  4,  7, 10])"
      ]
     },
     "execution_count": 52,
     "metadata": {},
     "output_type": "execute_result"
    }
   ],
   "source": [
    "np.arange(1,11,3)"
   ]
  },
  {
   "cell_type": "code",
   "execution_count": 53,
   "id": "727a14fb",
   "metadata": {},
   "outputs": [
    {
     "data": {
      "text/plain": [
       "array([0., 0., 0., 0.])"
      ]
     },
     "execution_count": 53,
     "metadata": {},
     "output_type": "execute_result"
    }
   ],
   "source": [
    "#1-D 0 array\n",
    "np.zeros(4)"
   ]
  },
  {
   "cell_type": "code",
   "execution_count": 56,
   "id": "5ae846c6",
   "metadata": {},
   "outputs": [
    {
     "data": {
      "text/plain": [
       "array([[0., 0., 0., 0.],\n",
       "       [0., 0., 0., 0.],\n",
       "       [0., 0., 0., 0.]])"
      ]
     },
     "execution_count": 56,
     "metadata": {},
     "output_type": "execute_result"
    }
   ],
   "source": [
    "#multi dimensional 0 array\n",
    "np.zeros((3,4))"
   ]
  },
  {
   "cell_type": "code",
   "execution_count": 57,
   "id": "04df9f8f",
   "metadata": {},
   "outputs": [
    {
     "data": {
      "text/plain": [
       "array([1., 1., 1., 1., 1.])"
      ]
     },
     "execution_count": 57,
     "metadata": {},
     "output_type": "execute_result"
    }
   ],
   "source": [
    "#ones array\n",
    "np.ones(5)"
   ]
  },
  {
   "cell_type": "code",
   "execution_count": 58,
   "id": "f920d00f",
   "metadata": {},
   "outputs": [
    {
     "data": {
      "text/plain": [
       "array([[1., 1., 1., 1.],\n",
       "       [1., 1., 1., 1.],\n",
       "       [1., 1., 1., 1.]])"
      ]
     },
     "execution_count": 58,
     "metadata": {},
     "output_type": "execute_result"
    }
   ],
   "source": [
    "#multi dimensional ones array\n",
    "np.ones((3,4))"
   ]
  },
  {
   "cell_type": "code",
   "execution_count": 61,
   "id": "f6f4887c",
   "metadata": {},
   "outputs": [
    {
     "data": {
      "text/plain": [
       "array([[5, 5, 5, 5],\n",
       "       [5, 5, 5, 5],\n",
       "       [5, 5, 5, 5]])"
      ]
     },
     "execution_count": 61,
     "metadata": {},
     "output_type": "execute_result"
    }
   ],
   "source": [
    "#full array\n",
    "np.full((3,4),5)"
   ]
  },
  {
   "cell_type": "code",
   "execution_count": 62,
   "id": "1fb4cf23",
   "metadata": {},
   "outputs": [
    {
     "ename": "ValueError",
     "evalue": "could not broadcast input array from shape (2,) into shape (3,)",
     "output_type": "error",
     "traceback": [
      "\u001b[1;31m---------------------------------------------------------------------------\u001b[0m",
      "\u001b[1;31mValueError\u001b[0m                                Traceback (most recent call last)",
      "\u001b[1;32m~\\AppData\\Local\\Temp\\ipykernel_9892\\1078409662.py\u001b[0m in \u001b[0;36m<module>\u001b[1;34m\u001b[0m\n\u001b[1;32m----> 1\u001b[1;33m \u001b[0mnp\u001b[0m\u001b[1;33m.\u001b[0m\u001b[0mfull\u001b[0m\u001b[1;33m(\u001b[0m\u001b[1;36m3\u001b[0m\u001b[1;33m,\u001b[0m\u001b[1;33m(\u001b[0m\u001b[1;36m4\u001b[0m\u001b[1;33m,\u001b[0m\u001b[1;36m5\u001b[0m\u001b[1;33m)\u001b[0m\u001b[1;33m)\u001b[0m\u001b[1;33m\u001b[0m\u001b[1;33m\u001b[0m\u001b[0m\n\u001b[0m",
      "\u001b[1;32mC:\\ProgramData\\Anaconda3\\Program Files\\lib\\site-packages\\numpy\\core\\numeric.py\u001b[0m in \u001b[0;36mfull\u001b[1;34m(shape, fill_value, dtype, order, like)\u001b[0m\n\u001b[0;32m    342\u001b[0m         \u001b[0mdtype\u001b[0m \u001b[1;33m=\u001b[0m \u001b[0mfill_value\u001b[0m\u001b[1;33m.\u001b[0m\u001b[0mdtype\u001b[0m\u001b[1;33m\u001b[0m\u001b[1;33m\u001b[0m\u001b[0m\n\u001b[0;32m    343\u001b[0m     \u001b[0ma\u001b[0m \u001b[1;33m=\u001b[0m \u001b[0mempty\u001b[0m\u001b[1;33m(\u001b[0m\u001b[0mshape\u001b[0m\u001b[1;33m,\u001b[0m \u001b[0mdtype\u001b[0m\u001b[1;33m,\u001b[0m \u001b[0morder\u001b[0m\u001b[1;33m)\u001b[0m\u001b[1;33m\u001b[0m\u001b[1;33m\u001b[0m\u001b[0m\n\u001b[1;32m--> 344\u001b[1;33m     \u001b[0mmultiarray\u001b[0m\u001b[1;33m.\u001b[0m\u001b[0mcopyto\u001b[0m\u001b[1;33m(\u001b[0m\u001b[0ma\u001b[0m\u001b[1;33m,\u001b[0m \u001b[0mfill_value\u001b[0m\u001b[1;33m,\u001b[0m \u001b[0mcasting\u001b[0m\u001b[1;33m=\u001b[0m\u001b[1;34m'unsafe'\u001b[0m\u001b[1;33m)\u001b[0m\u001b[1;33m\u001b[0m\u001b[1;33m\u001b[0m\u001b[0m\n\u001b[0m\u001b[0;32m    345\u001b[0m     \u001b[1;32mreturn\u001b[0m \u001b[0ma\u001b[0m\u001b[1;33m\u001b[0m\u001b[1;33m\u001b[0m\u001b[0m\n\u001b[0;32m    346\u001b[0m \u001b[1;33m\u001b[0m\u001b[0m\n",
      "\u001b[1;32m<__array_function__ internals>\u001b[0m in \u001b[0;36mcopyto\u001b[1;34m(*args, **kwargs)\u001b[0m\n",
      "\u001b[1;31mValueError\u001b[0m: could not broadcast input array from shape (2,) into shape (3,)"
     ]
    }
   ],
   "source": [
    "np.full(3,(4,5))"
   ]
  },
  {
   "cell_type": "code",
   "execution_count": 76,
   "id": "c846c1bd",
   "metadata": {},
   "outputs": [
    {
     "name": "stdout",
     "output_type": "stream",
     "text": [
      "[  1.  12.  23.  34.  45.  56.  67.  78.  89. 100.]\n"
     ]
    }
   ],
   "source": [
    "#linspace-> equally distributed numbers between some range\n",
    "# linspace(start, stop, no. of elements)\n",
    "print(np.linspace(1,100,10))"
   ]
  },
  {
   "cell_type": "code",
   "execution_count": 77,
   "id": "503b316a",
   "metadata": {},
   "outputs": [
    {
     "data": {
      "text/plain": [
       "array([[ 1,  2,  3,  4],\n",
       "       [ 5,  6,  7,  8],\n",
       "       [ 9, 10, 11, 12]])"
      ]
     },
     "execution_count": 77,
     "metadata": {},
     "output_type": "execute_result"
    }
   ],
   "source": [
    "#array attributes\n",
    "a = np.array([[1,2,3,4],[5,6,7,8],[9,10,11,12]])\n",
    "a"
   ]
  },
  {
   "cell_type": "code",
   "execution_count": 78,
   "id": "48b5efe4",
   "metadata": {},
   "outputs": [
    {
     "data": {
      "text/plain": [
       "12"
      ]
     },
     "execution_count": 78,
     "metadata": {},
     "output_type": "execute_result"
    }
   ],
   "source": [
    "np.size(a)                 #total number of elements"
   ]
  },
  {
   "cell_type": "code",
   "execution_count": 80,
   "id": "6f2aad57",
   "metadata": {},
   "outputs": [
    {
     "data": {
      "text/plain": [
       "numpy.ndarray"
      ]
     },
     "execution_count": 80,
     "metadata": {},
     "output_type": "execute_result"
    }
   ],
   "source": [
    "type(a)                #type of variable"
   ]
  },
  {
   "cell_type": "code",
   "execution_count": 82,
   "id": "41a966ef",
   "metadata": {},
   "outputs": [
    {
     "data": {
      "text/plain": [
       "(3, 4)"
      ]
     },
     "execution_count": 82,
     "metadata": {},
     "output_type": "execute_result"
    }
   ],
   "source": [
    "a.shape          #shape of the array"
   ]
  },
  {
   "cell_type": "code",
   "execution_count": 83,
   "id": "719bd1de",
   "metadata": {},
   "outputs": [
    {
     "data": {
      "text/plain": [
       "dtype('int32')"
      ]
     },
     "execution_count": 83,
     "metadata": {},
     "output_type": "execute_result"
    }
   ],
   "source": [
    "a.dtype             #data type of array"
   ]
  },
  {
   "cell_type": "code",
   "execution_count": 101,
   "id": "148ee42d",
   "metadata": {},
   "outputs": [],
   "source": [
    "a.astype('float32')           #change the type to 'float32'"
   ]
  },
  {
   "cell_type": "code",
   "execution_count": 102,
   "id": "06795f87",
   "metadata": {},
   "outputs": [
    {
     "data": {
      "text/plain": [
       "dtype('float32')"
      ]
     },
     "execution_count": 102,
     "metadata": {},
     "output_type": "execute_result"
    }
   ],
   "source": [
    "a.dtype"
   ]
  },
  {
   "cell_type": "code",
   "execution_count": 105,
   "id": "5e2d3db1",
   "metadata": {},
   "outputs": [
    {
     "data": {
      "text/plain": [
       "dtype('float64')"
      ]
     },
     "execution_count": 105,
     "metadata": {},
     "output_type": "execute_result"
    }
   ],
   "source": [
    "b = a.astype('float')\n",
    "b.dtype"
   ]
  },
  {
   "cell_type": "code",
   "execution_count": 106,
   "id": "9f1e772d",
   "metadata": {},
   "outputs": [
    {
     "data": {
      "text/plain": [
       "2"
      ]
     },
     "execution_count": 106,
     "metadata": {},
     "output_type": "execute_result"
    }
   ],
   "source": [
    "a.ndim          #number of dimension of the array"
   ]
  },
  {
   "cell_type": "code",
   "execution_count": 107,
   "id": "3f3d9cb6",
   "metadata": {},
   "outputs": [
    {
     "data": {
      "text/plain": [
       "2"
      ]
     },
     "execution_count": 107,
     "metadata": {},
     "output_type": "execute_result"
    }
   ],
   "source": [
    "b.ndim"
   ]
  },
  {
   "cell_type": "code",
   "execution_count": 108,
   "id": "076d5470",
   "metadata": {},
   "outputs": [
    {
     "data": {
      "text/plain": [
       "array([[1., 0., 0., 0., 0.],\n",
       "       [0., 1., 0., 0., 0.],\n",
       "       [0., 0., 1., 0., 0.],\n",
       "       [0., 0., 0., 1., 0.],\n",
       "       [0., 0., 0., 0., 1.]])"
      ]
     },
     "execution_count": 108,
     "metadata": {},
     "output_type": "execute_result"
    }
   ],
   "source": [
    "#indentity matrix : eye\n",
    "np.eye(5)                 #creates an identity matrix"
   ]
  },
  {
   "cell_type": "code",
   "execution_count": 109,
   "id": "4f685df0",
   "metadata": {},
   "outputs": [
    {
     "data": {
      "text/plain": [
       "[[1, 2, 3, 4], [5, 6, 7, 8], [9, 10, 11, 12]]"
      ]
     },
     "execution_count": 109,
     "metadata": {},
     "output_type": "execute_result"
    }
   ],
   "source": [
    "# convert array to list\n",
    "a.tolist()                 "
   ]
  },
  {
   "cell_type": "code",
   "execution_count": 110,
   "id": "efbb327f",
   "metadata": {},
   "outputs": [
    {
     "name": "stdout",
     "output_type": "stream",
     "text": [
      " eye(N, M=None, k=0, dtype=<class 'float'>, order='C', *, like=None)\n",
      "\n",
      "Return a 2-D array with ones on the diagonal and zeros elsewhere.\n",
      "\n",
      "Parameters\n",
      "----------\n",
      "N : int\n",
      "  Number of rows in the output.\n",
      "M : int, optional\n",
      "  Number of columns in the output. If None, defaults to `N`.\n",
      "k : int, optional\n",
      "  Index of the diagonal: 0 (the default) refers to the main diagonal,\n",
      "  a positive value refers to an upper diagonal, and a negative value\n",
      "  to a lower diagonal.\n",
      "dtype : data-type, optional\n",
      "  Data-type of the returned array.\n",
      "order : {'C', 'F'}, optional\n",
      "    Whether the output should be stored in row-major (C-style) or\n",
      "    column-major (Fortran-style) order in memory.\n",
      "\n",
      "    .. versionadded:: 1.14.0\n",
      "like : array_like\n",
      "    Reference object to allow the creation of arrays which are not\n",
      "    NumPy arrays. If an array-like passed in as ``like`` supports\n",
      "    the ``__array_function__`` protocol, the result will be defined\n",
      "    by it. In this case, it ensures the creation of an array object\n",
      "    compatible with that passed in via this argument.\n",
      "\n",
      "    .. versionadded:: 1.20.0\n",
      "\n",
      "Returns\n",
      "-------\n",
      "I : ndarray of shape (N,M)\n",
      "  An array where all elements are equal to zero, except for the `k`-th\n",
      "  diagonal, whose values are equal to one.\n",
      "\n",
      "See Also\n",
      "--------\n",
      "identity : (almost) equivalent function\n",
      "diag : diagonal 2-D array from a 1-D array specified by the user.\n",
      "\n",
      "Examples\n",
      "--------\n",
      ">>> np.eye(2, dtype=int)\n",
      "array([[1, 0],\n",
      "       [0, 1]])\n",
      ">>> np.eye(3, k=1)\n",
      "array([[0.,  1.,  0.],\n",
      "       [0.,  0.,  1.],\n",
      "       [0.,  0.,  0.]])\n"
     ]
    }
   ],
   "source": [
    "np.info(np.eye)             #information about a command"
   ]
  },
  {
   "cell_type": "code",
   "execution_count": 111,
   "id": "1f53517b",
   "metadata": {},
   "outputs": [],
   "source": [
    "a = np.array(a)"
   ]
  },
  {
   "cell_type": "code",
   "execution_count": 112,
   "id": "8936cf7d",
   "metadata": {},
   "outputs": [
    {
     "data": {
      "text/plain": [
       "array([[ 1,  2,  3,  4],\n",
       "       [ 5,  6,  7,  8],\n",
       "       [ 9, 10, 11, 12]])"
      ]
     },
     "execution_count": 112,
     "metadata": {},
     "output_type": "execute_result"
    }
   ],
   "source": [
    "a"
   ]
  },
  {
   "cell_type": "code",
   "execution_count": 120,
   "id": "96aecebf",
   "metadata": {},
   "outputs": [
    {
     "data": {
      "text/plain": [
       "0.2225883712103751"
      ]
     },
     "execution_count": 120,
     "metadata": {},
     "output_type": "execute_result"
    }
   ],
   "source": [
    "#random number generation\n",
    "np.random.rand()     # random number between 0 and 1"
   ]
  },
  {
   "cell_type": "code",
   "execution_count": 122,
   "id": "6d16b7c7",
   "metadata": {},
   "outputs": [
    {
     "data": {
      "text/plain": [
       "array([[0.50034102, 0.93830578, 0.28386209, 0.54316164],\n",
       "       [0.60742749, 0.12154824, 0.62176821, 0.02874539],\n",
       "       [0.27268774, 0.51058299, 0.63637694, 0.19921221]])"
      ]
     },
     "execution_count": 122,
     "metadata": {},
     "output_type": "execute_result"
    }
   ],
   "source": [
    "np.random.rand(3,4)    #3x4 matrix with numbers filled by anything between 0 and 1"
   ]
  },
  {
   "cell_type": "code",
   "execution_count": 123,
   "id": "02030619",
   "metadata": {},
   "outputs": [
    {
     "data": {
      "text/plain": [
       "array([0.28851365, 0.8970073 , 0.09859145, 0.14654265, 0.72378725,\n",
       "       0.16184553, 0.58469301, 0.29612877, 0.85738032, 0.28260601])"
      ]
     },
     "execution_count": 123,
     "metadata": {},
     "output_type": "execute_result"
    }
   ],
   "source": [
    "np.random.rand(10)     # 10 random number between 0 and 1 "
   ]
  },
  {
   "cell_type": "code",
   "execution_count": 124,
   "id": "e5b85e64",
   "metadata": {},
   "outputs": [
    {
     "data": {
      "text/plain": [
       "array([[41.59859174, 24.84155136, 98.21309992, 88.48979408],\n",
       "       [17.58506352, 19.8939853 , 43.69602281,  9.71610121],\n",
       "       [75.19906721, 94.32327758, 61.63871313, 49.53638699]])"
      ]
     },
     "execution_count": 124,
     "metadata": {},
     "output_type": "execute_result"
    }
   ],
   "source": [
    "np.random.rand(3,4)*100    #3x4 matrix with float numbers filled by anything between 1 and 100"
   ]
  },
  {
   "cell_type": "code",
   "execution_count": 126,
   "id": "304de33b",
   "metadata": {},
   "outputs": [
    {
     "data": {
      "text/plain": [
       "6"
      ]
     },
     "execution_count": 126,
     "metadata": {},
     "output_type": "execute_result"
    }
   ],
   "source": [
    "np.random.randint(1,10)    #int number anything between 1 and 10"
   ]
  },
  {
   "cell_type": "code",
   "execution_count": 41,
   "id": "91a4c035",
   "metadata": {},
   "outputs": [
    {
     "data": {
      "text/plain": [
       "array([[7, 1, 5],\n",
       "       [7, 7, 1]])"
      ]
     },
     "execution_count": 41,
     "metadata": {},
     "output_type": "execute_result"
    }
   ],
   "source": [
    "np.random.randint(1,10,(2,3)) \n",
    "#2x3 matrix filled with int numbers anything between 1 and 10"
   ]
  },
  {
   "cell_type": "markdown",
   "id": "807655c2",
   "metadata": {},
   "source": [
    "# Mathematical operations\n"
   ]
  },
  {
   "cell_type": "code",
   "execution_count": 128,
   "id": "68a654cb",
   "metadata": {},
   "outputs": [],
   "source": [
    "a = np.array([[1,2,3],[4,5,6]])\n",
    "b = np.array([[7,8,9],[10,11,12]])"
   ]
  },
  {
   "cell_type": "code",
   "execution_count": 130,
   "id": "6d5a019e",
   "metadata": {},
   "outputs": [
    {
     "name": "stdout",
     "output_type": "stream",
     "text": [
      "[[1 2 3]\n",
      " [4 5 6]]\n",
      "[[ 7  8  9]\n",
      " [10 11 12]]\n"
     ]
    }
   ],
   "source": [
    "print(a)\n",
    "print(b)"
   ]
  },
  {
   "cell_type": "code",
   "execution_count": 131,
   "id": "1eb992db",
   "metadata": {},
   "outputs": [
    {
     "data": {
      "text/plain": [
       "array([[ 8, 10, 12],\n",
       "       [14, 16, 18]])"
      ]
     },
     "execution_count": 131,
     "metadata": {},
     "output_type": "execute_result"
    }
   ],
   "source": [
    "a + b"
   ]
  },
  {
   "cell_type": "code",
   "execution_count": 132,
   "id": "797d1409",
   "metadata": {},
   "outputs": [
    {
     "data": {
      "text/plain": [
       "array([[ 8, 10, 12],\n",
       "       [14, 16, 18]])"
      ]
     },
     "execution_count": 132,
     "metadata": {},
     "output_type": "execute_result"
    }
   ],
   "source": [
    "np.add(a,b)   #addition between 2 arrays"
   ]
  },
  {
   "cell_type": "code",
   "execution_count": 134,
   "id": "0df7ba91",
   "metadata": {},
   "outputs": [
    {
     "data": {
      "text/plain": [
       "array([[-6, -6, -6],\n",
       "       [-6, -6, -6]])"
      ]
     },
     "execution_count": 134,
     "metadata": {},
     "output_type": "execute_result"
    }
   ],
   "source": [
    "np.subtract(a,b)      #perform substraction between 2 arrays"
   ]
  },
  {
   "cell_type": "code",
   "execution_count": 135,
   "id": "116e6245",
   "metadata": {},
   "outputs": [
    {
     "data": {
      "text/plain": [
       "array([[ 7, 16, 27],\n",
       "       [40, 55, 72]])"
      ]
     },
     "execution_count": 135,
     "metadata": {},
     "output_type": "execute_result"
    }
   ],
   "source": [
    "np.multiply(a,b)      #multiplication between 2 arrays"
   ]
  },
  {
   "cell_type": "code",
   "execution_count": 136,
   "id": "3e2e69db",
   "metadata": {},
   "outputs": [
    {
     "data": {
      "text/plain": [
       "array([[0.14285714, 0.25      , 0.33333333],\n",
       "       [0.4       , 0.45454545, 0.5       ]])"
      ]
     },
     "execution_count": 136,
     "metadata": {},
     "output_type": "execute_result"
    }
   ],
   "source": [
    "np.divide(a,b)          #divide one array by another"
   ]
  },
  {
   "cell_type": "code",
   "execution_count": 137,
   "id": "a643fb5f",
   "metadata": {},
   "outputs": [
    {
     "data": {
      "text/plain": [
       "array([[1, 2, 3],\n",
       "       [4, 5, 6]], dtype=int32)"
      ]
     },
     "execution_count": 137,
     "metadata": {},
     "output_type": "execute_result"
    }
   ],
   "source": [
    "np.mod(a,b)             #remainder when 1 array is divided by another array"
   ]
  },
  {
   "cell_type": "code",
   "execution_count": 140,
   "id": "53ce04a0",
   "metadata": {},
   "outputs": [
    {
     "data": {
      "text/plain": [
       "array([[7, 4, 3],\n",
       "       [2, 2, 2]], dtype=int32)"
      ]
     },
     "execution_count": 140,
     "metadata": {},
     "output_type": "execute_result"
    }
   ],
   "source": [
    "np.floor_divide(b,a)         #divides and returns remainder when 1 array is divided by another"
   ]
  },
  {
   "cell_type": "code",
   "execution_count": 145,
   "id": "2c462599",
   "metadata": {},
   "outputs": [
    {
     "data": {
      "text/plain": [
       "array([[ 49,  64,  81],\n",
       "       [100, 121, 144]], dtype=int32)"
      ]
     },
     "execution_count": 145,
     "metadata": {},
     "output_type": "execute_result"
    }
   ],
   "source": [
    "c = np.power(b,2)            #raises the elements of an array to a certain power\n",
    "c"
   ]
  },
  {
   "cell_type": "code",
   "execution_count": 144,
   "id": "adc5ab9d",
   "metadata": {},
   "outputs": [
    {
     "data": {
      "text/plain": [
       "array([[ 7.,  8.,  9.],\n",
       "       [10., 11., 12.]])"
      ]
     },
     "execution_count": 144,
     "metadata": {},
     "output_type": "execute_result"
    }
   ],
   "source": [
    "np.sqrt(c)              #square root of an array"
   ]
  },
  {
   "cell_type": "code",
   "execution_count": 146,
   "id": "cf77bc37",
   "metadata": {},
   "outputs": [
    {
     "data": {
      "text/plain": [
       "array([[3.8918203 , 4.15888308, 4.39444915],\n",
       "       [4.60517019, 4.79579055, 4.9698133 ]])"
      ]
     },
     "execution_count": 146,
     "metadata": {},
     "output_type": "execute_result"
    }
   ],
   "source": [
    "np.log(c)              #finds the 'log' of elements of an array"
   ]
  },
  {
   "cell_type": "code",
   "execution_count": 147,
   "id": "fa7d239e",
   "metadata": {},
   "outputs": [
    {
     "data": {
      "text/plain": [
       "array([[ 0.84147098,  0.90929743,  0.14112001],\n",
       "       [-0.7568025 , -0.95892427, -0.2794155 ]])"
      ]
     },
     "execution_count": 147,
     "metadata": {},
     "output_type": "execute_result"
    }
   ],
   "source": [
    "np.sin(a)           #finds 'sin' of elements of an array"
   ]
  },
  {
   "cell_type": "code",
   "execution_count": 149,
   "id": "2867f86c",
   "metadata": {},
   "outputs": [
    {
     "data": {
      "text/plain": [
       "array([[   0.87144798,   -6.79971146,   -0.45231566],\n",
       "       [   0.64836083, -225.95084645,   -0.63585993]])"
      ]
     },
     "execution_count": 149,
     "metadata": {},
     "output_type": "execute_result"
    }
   ],
   "source": [
    "np.tan(b)          #finds 'cos' of elements of an array"
   ]
  },
  {
   "cell_type": "markdown",
   "id": "66b7cafb",
   "metadata": {},
   "source": [
    "# Statistical functions\n"
   ]
  },
  {
   "cell_type": "code",
   "execution_count": 150,
   "id": "7ed3e5ed",
   "metadata": {},
   "outputs": [
    {
     "data": {
      "text/plain": [
       "1"
      ]
     },
     "execution_count": 150,
     "metadata": {},
     "output_type": "execute_result"
    }
   ],
   "source": [
    "a.min()               #finds the minimum value stored in an array"
   ]
  },
  {
   "cell_type": "code",
   "execution_count": 151,
   "id": "05445548",
   "metadata": {},
   "outputs": [
    {
     "data": {
      "text/plain": [
       "6"
      ]
     },
     "execution_count": 151,
     "metadata": {},
     "output_type": "execute_result"
    }
   ],
   "source": [
    "a.max()           #finds the maximum value stored in an array"
   ]
  },
  {
   "cell_type": "code",
   "execution_count": 155,
   "id": "db51bbc3",
   "metadata": {},
   "outputs": [
    {
     "data": {
      "text/plain": [
       "3.5"
      ]
     },
     "execution_count": 155,
     "metadata": {},
     "output_type": "execute_result"
    }
   ],
   "source": [
    "a.mean()          #finds the mean of the elements of an array"
   ]
  },
  {
   "cell_type": "code",
   "execution_count": 156,
   "id": "7e9aa4c7",
   "metadata": {},
   "outputs": [
    {
     "data": {
      "text/plain": [
       "3.5"
      ]
     },
     "execution_count": 156,
     "metadata": {},
     "output_type": "execute_result"
    }
   ],
   "source": [
    "np.median(a)        #finds the median of elements of an array"
   ]
  },
  {
   "cell_type": "code",
   "execution_count": 157,
   "id": "df4301ff",
   "metadata": {},
   "outputs": [
    {
     "data": {
      "text/plain": [
       "1.707825127659933"
      ]
     },
     "execution_count": 157,
     "metadata": {},
     "output_type": "execute_result"
    }
   ],
   "source": [
    "a.std()             #finds the standard deviation of elements of an array"
   ]
  },
  {
   "cell_type": "code",
   "execution_count": 158,
   "id": "d14529d2",
   "metadata": {},
   "outputs": [
    {
     "data": {
      "text/plain": [
       "2.9166666666666665"
      ]
     },
     "execution_count": 158,
     "metadata": {},
     "output_type": "execute_result"
    }
   ],
   "source": [
    "a.var()            #finds the variance of elements of an array"
   ]
  },
  {
   "cell_type": "code",
   "execution_count": 159,
   "id": "068e5d27",
   "metadata": {},
   "outputs": [
    {
     "data": {
      "text/plain": [
       "array([ 1,  3,  6, 10, 15, 21], dtype=int32)"
      ]
     },
     "execution_count": 159,
     "metadata": {},
     "output_type": "execute_result"
    }
   ],
   "source": [
    "a.cumsum()         #finds the cumulative sum of elements of an array"
   ]
  },
  {
   "cell_type": "markdown",
   "id": "d9746ea2",
   "metadata": {},
   "source": [
    "# Repeat"
   ]
  },
  {
   "cell_type": "code",
   "execution_count": 1,
   "id": "e010f840",
   "metadata": {},
   "outputs": [
    {
     "name": "stdout",
     "output_type": "stream",
     "text": [
      "[1 2 3]\n"
     ]
    }
   ],
   "source": [
    "import numpy as np\n",
    "b = np.array([1,2,3])\n",
    "print(b)"
   ]
  },
  {
   "cell_type": "code",
   "execution_count": 163,
   "id": "84eba2b0",
   "metadata": {},
   "outputs": [
    {
     "name": "stdout",
     "output_type": "stream",
     "text": [
      "[1 1 1 1 2 2 2 2 3 3 3 3]\n"
     ]
    }
   ],
   "source": [
    "print(np.repeat(b,4))           #repeat each element of an array for 4 times"
   ]
  },
  {
   "cell_type": "code",
   "execution_count": 165,
   "id": "dff6457c",
   "metadata": {},
   "outputs": [
    {
     "name": "stdout",
     "output_type": "stream",
     "text": [
      "[2 4 3]\n"
     ]
    },
    {
     "data": {
      "text/plain": [
       "array([2, 4, 3, 2, 4, 3, 2, 4, 3])"
      ]
     },
     "execution_count": 165,
     "metadata": {},
     "output_type": "execute_result"
    }
   ],
   "source": [
    "c = np.array([2,4,3])\n",
    "print(c)\n",
    "np.tile(c,3)          #repeats all elements of an array for 3 times"
   ]
  },
  {
   "cell_type": "code",
   "execution_count": 173,
   "id": "77116d0d",
   "metadata": {},
   "outputs": [
    {
     "data": {
      "text/plain": [
       "6"
      ]
     },
     "execution_count": 173,
     "metadata": {},
     "output_type": "execute_result"
    }
   ],
   "source": [
    "#max and min index position\n",
    "c = np.array([3,4,2,5,6,7,8])\n",
    "np.argmax(c)      #index position of maximum value"
   ]
  },
  {
   "cell_type": "code",
   "execution_count": 174,
   "id": "be448d09",
   "metadata": {},
   "outputs": [
    {
     "data": {
      "text/plain": [
       "2"
      ]
     },
     "execution_count": 174,
     "metadata": {},
     "output_type": "execute_result"
    }
   ],
   "source": [
    "np.argmin(c)      #index position of minimum value"
   ]
  },
  {
   "cell_type": "code",
   "execution_count": 2,
   "id": "7c2f0acb",
   "metadata": {},
   "outputs": [],
   "source": [
    "a = np.array([2,3,2,2,4,4,4,5,4])"
   ]
  },
  {
   "cell_type": "code",
   "execution_count": 176,
   "id": "9f29a137",
   "metadata": {},
   "outputs": [
    {
     "data": {
      "text/plain": [
       "(array([4, 5, 6, 8], dtype=int64),)"
      ]
     },
     "execution_count": 176,
     "metadata": {},
     "output_type": "execute_result"
    }
   ],
   "source": [
    "np.where(a==4)            #returns the different number of indexes of the elemnt"
   ]
  },
  {
   "cell_type": "code",
   "execution_count": 179,
   "id": "2f060fc7",
   "metadata": {},
   "outputs": [
    {
     "data": {
      "text/plain": [
       "array([0, 2, 3, 1, 4, 5, 6, 8, 7], dtype=int64)"
      ]
     },
     "execution_count": 179,
     "metadata": {},
     "output_type": "execute_result"
    }
   ],
   "source": [
    "np.argsort(a)    #output is in terms of index"
   ]
  },
  {
   "cell_type": "code",
   "execution_count": 182,
   "id": "9d07133f",
   "metadata": {},
   "outputs": [
    {
     "data": {
      "text/plain": [
       "array([6, 0, 2, 3, 1, 4, 5, 7, 8], dtype=int64)"
      ]
     },
     "execution_count": 182,
     "metadata": {},
     "output_type": "execute_result"
    }
   ],
   "source": [
    "np.argpartition(a,5)    \n",
    "#output is like the left of the elements has the lesser values and the right side has more values"
   ]
  },
  {
   "cell_type": "code",
   "execution_count": 187,
   "id": "3852f2f5",
   "metadata": {},
   "outputs": [
    {
     "data": {
      "text/plain": [
       "array([2, 3, 2, 2, 4, 4, 4, 5, 4])"
      ]
     },
     "execution_count": 187,
     "metadata": {},
     "output_type": "execute_result"
    }
   ],
   "source": [
    "np.transpose(a)     #a row matrix or a column matrix acnnot be transpose"
   ]
  },
  {
   "cell_type": "code",
   "execution_count": 188,
   "id": "d57a7aef",
   "metadata": {},
   "outputs": [
    {
     "data": {
      "text/plain": [
       "array([[1, 4],\n",
       "       [2, 5],\n",
       "       [3, 6]])"
      ]
     },
     "execution_count": 188,
     "metadata": {},
     "output_type": "execute_result"
    }
   ],
   "source": [
    "a = np.array([[1,2,3],[4,5,6]])\n",
    "np.transpose(a)                  #print the transpose of matrix 'a'"
   ]
  },
  {
   "cell_type": "code",
   "execution_count": 189,
   "id": "2c9a380f",
   "metadata": {},
   "outputs": [],
   "source": [
    "#vector maths"
   ]
  },
  {
   "cell_type": "code",
   "execution_count": 197,
   "id": "a73bda7c",
   "metadata": {},
   "outputs": [
    {
     "name": "stdout",
     "output_type": "stream",
     "text": [
      "[[1 2]\n",
      " [4 5]]\n",
      "[[1 3]\n",
      " [5 6]]\n"
     ]
    }
   ],
   "source": [
    "a = np.array([[1,2],[4,5]]) \n",
    "b = np.array([[1,3],[5,6]])\n",
    "\n",
    "print(a)\n",
    "print(b)"
   ]
  },
  {
   "cell_type": "code",
   "execution_count": 198,
   "id": "0f53f2a9",
   "metadata": {},
   "outputs": [
    {
     "data": {
      "text/plain": [
       "array([[11, 15],\n",
       "       [29, 42]])"
      ]
     },
     "execution_count": 198,
     "metadata": {},
     "output_type": "execute_result"
    }
   ],
   "source": [
    "np.dot(a,b)"
   ]
  },
  {
   "cell_type": "code",
   "execution_count": 199,
   "id": "9a0bffd7",
   "metadata": {},
   "outputs": [
    {
     "data": {
      "text/plain": [
       "array([ 1, -1])"
      ]
     },
     "execution_count": 199,
     "metadata": {},
     "output_type": "execute_result"
    }
   ],
   "source": [
    "np.cross(a,b)"
   ]
  },
  {
   "cell_type": "code",
   "execution_count": 202,
   "id": "2b93e20b",
   "metadata": {},
   "outputs": [
    {
     "name": "stdout",
     "output_type": "stream",
     "text": [
      "[[1 2]\n",
      " [4 5]]\n",
      "[[1 4]\n",
      " [2 5]]\n"
     ]
    }
   ],
   "source": [
    "print(a)\n",
    "print(np.transpose(a))            #returns the transpose of 'a', row changes to column and column changes to row"
   ]
  },
  {
   "cell_type": "code",
   "execution_count": 203,
   "id": "00663c73",
   "metadata": {},
   "outputs": [
    {
     "data": {
      "text/plain": [
       "array([1, 1, 1, 1, 2, 2, 2, 2, 3, 3, 3, 3, 3, 3])"
      ]
     },
     "execution_count": 203,
     "metadata": {},
     "output_type": "execute_result"
    }
   ],
   "source": [
    "a = np.array([1,1,1,1,2,2,2,2,3,3,3,3,3,3,])\n",
    "a"
   ]
  },
  {
   "cell_type": "code",
   "execution_count": 204,
   "id": "97ea6635",
   "metadata": {},
   "outputs": [
    {
     "data": {
      "text/plain": [
       "array([1, 2, 3])"
      ]
     },
     "execution_count": 204,
     "metadata": {},
     "output_type": "execute_result"
    }
   ],
   "source": [
    "np.unique(a)           #returns only the unique elements in the matrix 'a'"
   ]
  },
  {
   "cell_type": "code",
   "execution_count": 206,
   "id": "dba2c211",
   "metadata": {},
   "outputs": [],
   "source": [
    "#indexing and slicing\n",
    "a = np.array([2,3,4,5,6,4,7,8,9,10])"
   ]
  },
  {
   "cell_type": "code",
   "execution_count": 207,
   "id": "8ac4c83a",
   "metadata": {},
   "outputs": [
    {
     "data": {
      "text/plain": [
       "4"
      ]
     },
     "execution_count": 207,
     "metadata": {},
     "output_type": "execute_result"
    }
   ],
   "source": [
    "a[5]           #prints only that element, which is at the index [5]"
   ]
  },
  {
   "cell_type": "code",
   "execution_count": 209,
   "id": "e34b3495",
   "metadata": {},
   "outputs": [
    {
     "data": {
      "text/plain": [
       "array([3, 5, 4, 8])"
      ]
     },
     "execution_count": 209,
     "metadata": {},
     "output_type": "execute_result"
    }
   ],
   "source": [
    "a[1:9:2]    #[start:stop+1:step]-> slicing example"
   ]
  },
  {
   "cell_type": "code",
   "execution_count": 210,
   "id": "64e4ea94",
   "metadata": {},
   "outputs": [
    {
     "data": {
      "text/plain": [
       "array([[1, 3, 5, 7],\n",
       "       [2, 4, 6, 8],\n",
       "       [1, 4, 9, 4]])"
      ]
     },
     "execution_count": 210,
     "metadata": {},
     "output_type": "execute_result"
    }
   ],
   "source": [
    "b = np.array([[1,3,5,7],[2,4,6,8],[1,4,9,4]])\n",
    "b"
   ]
  },
  {
   "cell_type": "code",
   "execution_count": 211,
   "id": "92a38d51",
   "metadata": {},
   "outputs": [
    {
     "data": {
      "text/plain": [
       "6"
      ]
     },
     "execution_count": 211,
     "metadata": {},
     "output_type": "execute_result"
    }
   ],
   "source": [
    "#syntax:- mat[row index, column index]\n",
    "b[1,2]               #returns the elements at the specified row and column number"
   ]
  },
  {
   "cell_type": "code",
   "execution_count": 52,
   "id": "a6b8dd25",
   "metadata": {},
   "outputs": [
    {
     "data": {
      "text/plain": [
       "array([[22, 71, 30],\n",
       "       [87, 18, 40],\n",
       "       [63, 21, 47]])"
      ]
     },
     "execution_count": 52,
     "metadata": {},
     "output_type": "execute_result"
    }
   ],
   "source": [
    "import numpy as np\n",
    "a = np.random.randint(1,100,(3,3))     #generates a random number between 1 and 100, and makes a matrix of 3x3 with those numbers\n",
    "a"
   ]
  },
  {
   "cell_type": "code",
   "execution_count": 53,
   "id": "ec58a284",
   "metadata": {},
   "outputs": [
    {
     "data": {
      "text/plain": [
       "array([[92, 89, 13, 11, 39, 26, 40, 68],\n",
       "       [45, 66, 50, 25,  2, 17, 64, 28],\n",
       "       [91, 41, 90, 99,  1, 48, 24, 96],\n",
       "       [93, 14, 70, 63, 31, 46,  7, 22],\n",
       "       [16,  9, 93, 45,  8, 28, 30, 52],\n",
       "       [ 6, 39, 63, 38, 86, 52, 24, 92],\n",
       "       [57, 55, 87, 72, 37, 93, 60, 28],\n",
       "       [17, 91, 66, 70, 71, 57, 66, 20]])"
      ]
     },
     "execution_count": 53,
     "metadata": {},
     "output_type": "execute_result"
    }
   ],
   "source": [
    "a = np.random.randint(1,100,(8,8))\n",
    "a"
   ]
  },
  {
   "cell_type": "code",
   "execution_count": 55,
   "id": "4b201cf7",
   "metadata": {},
   "outputs": [
    {
     "data": {
      "text/plain": [
       "array([57, 55, 87, 72, 37, 93, 60, 28])"
      ]
     },
     "execution_count": 55,
     "metadata": {},
     "output_type": "execute_result"
    }
   ],
   "source": [
    "a[6]"
   ]
  },
  {
   "cell_type": "code",
   "execution_count": 57,
   "id": "a7715e71",
   "metadata": {},
   "outputs": [
    {
     "data": {
      "text/plain": [
       "array([[45, 66, 50, 25,  2, 17, 64, 28],\n",
       "       [91, 41, 90, 99,  1, 48, 24, 96],\n",
       "       [93, 14, 70, 63, 31, 46,  7, 22],\n",
       "       [16,  9, 93, 45,  8, 28, 30, 52],\n",
       "       [ 6, 39, 63, 38, 86, 52, 24, 92]])"
      ]
     },
     "execution_count": 57,
     "metadata": {},
     "output_type": "execute_result"
    }
   ],
   "source": [
    "a[1:6:1]      #row slicing"
   ]
  },
  {
   "cell_type": "code",
   "execution_count": 59,
   "id": "73ac2e54",
   "metadata": {},
   "outputs": [
    {
     "data": {
      "text/plain": [
       "array([[89, 13, 11, 39, 26],\n",
       "       [66, 50, 25,  2, 17],\n",
       "       [41, 90, 99,  1, 48],\n",
       "       [14, 70, 63, 31, 46],\n",
       "       [ 9, 93, 45,  8, 28],\n",
       "       [39, 63, 38, 86, 52],\n",
       "       [55, 87, 72, 37, 93],\n",
       "       [91, 66, 70, 71, 57]])"
      ]
     },
     "execution_count": 59,
     "metadata": {},
     "output_type": "execute_result"
    }
   ],
   "source": [
    "a[::,1:6:1]      #column slicing"
   ]
  },
  {
   "cell_type": "code",
   "execution_count": 58,
   "id": "fe3c8a7a",
   "metadata": {},
   "outputs": [
    {
     "data": {
      "text/plain": [
       "array([[66, 50, 25,  2],\n",
       "       [41, 90, 99,  1],\n",
       "       [14, 70, 63, 31],\n",
       "       [ 9, 93, 45,  8],\n",
       "       [39, 63, 38, 86]])"
      ]
     },
     "execution_count": 58,
     "metadata": {},
     "output_type": "execute_result"
    }
   ],
   "source": [
    "a[1:6:1,1:5:1]     #both row and column slicing"
   ]
  }
 ],
 "metadata": {
  "kernelspec": {
   "display_name": "Python 3 (ipykernel)",
   "language": "python",
   "name": "python3"
  },
  "language_info": {
   "codemirror_mode": {
    "name": "ipython",
    "version": 3
   },
   "file_extension": ".py",
   "mimetype": "text/x-python",
   "name": "python",
   "nbconvert_exporter": "python",
   "pygments_lexer": "ipython3",
   "version": "3.9.7"
  }
 },
 "nbformat": 4,
 "nbformat_minor": 5
}
